{
 "cells": [
  {
   "cell_type": "markdown",
   "id": "28caa50c-2913-4962-9b5b-5412154ba34c",
   "metadata": {},
   "source": [
    "第4章 操作列表"
   ]
  },
  {
   "cell_type": "markdown",
   "id": "2e1d1b6e-0ae5-4104-9464-940df98603c5",
   "metadata": {},
   "source": [
    "4.1 遍历整个列表"
   ]
  },
  {
   "cell_type": "code",
   "execution_count": 1,
   "id": "0b14405d-5407-478e-9f3a-993c83d777a6",
   "metadata": {},
   "outputs": [
    {
     "name": "stdout",
     "output_type": "stream",
     "text": [
      "alice\n",
      "david\n",
      "carolina\n"
     ]
    }
   ],
   "source": [
    "magicians=['alice','david','carolina']\n",
    "for magician in magicians:\n",
    "#记得加冒号,用 Tab键缩减（限于自己的电脑）\n",
    "    print(magician)"
   ]
  },
  {
   "cell_type": "code",
   "execution_count": 2,
   "id": "1866c9f7-45ae-4705-bac1-988dadd6a291",
   "metadata": {},
   "outputs": [
    {
     "name": "stdout",
     "output_type": "stream",
     "text": [
      "Alice, that was a great trick!\n",
      "David, that was a great trick!\n",
      "Carolina, that was a great trick!\n"
     ]
    }
   ],
   "source": [
    "magicians=['alice','david','carolina']\n",
    "for magician in magicians:\n",
    "    print(f\"{magician.title()}, that was a great trick!\")"
   ]
  },
  {
   "cell_type": "code",
   "execution_count": 3,
   "id": "41a89128-246c-427d-a25d-a51ba3f48864",
   "metadata": {},
   "outputs": [
    {
     "name": "stdout",
     "output_type": "stream",
     "text": [
      "Alice, that was a great trick!\n",
      "I can't wait to see your next trick, Alice.\n",
      "\n",
      "David, that was a great trick!\n",
      "I can't wait to see your next trick, David.\n",
      "\n",
      "Carolina, that was a great trick!\n",
      "I can't wait to see your next trick, Carolina.\n",
      "\n"
     ]
    }
   ],
   "source": [
    "magicians=['alice','david','carolina']\n",
    "for magician in magicians:\n",
    "    print(f\"{magician.title()}, that was a great trick!\")\n",
    "    print(f\"I can't wait to see your next trick, {magician.title()}.\\n\")\n",
    "#在什么地方换行，什么时候加上 \"\\n\""
   ]
  },
  {
   "cell_type": "code",
   "execution_count": 4,
   "id": "5d017e9e-24d6-4f09-b2c2-e3d1c95d5a10",
   "metadata": {},
   "outputs": [
    {
     "name": "stdout",
     "output_type": "stream",
     "text": [
      "Alice, that was a great trick!\n",
      "I can't wait to see your next trick, Alice.\n",
      "\n",
      "David, that was a great trick!\n",
      "I can't wait to see your next trick, David.\n",
      "\n",
      "Carolina, that was a great trick!\n",
      "I can't wait to see your next trick, Carolina.\n",
      "\n",
      "Thank you, everyone. That was a great magic show!\n"
     ]
    }
   ],
   "source": [
    "magicians=['alice','david','carolina']\n",
    "for magician in magicians:\n",
    "    print(f\"{magician.title()}, that was a great trick!\")\n",
    "    print(f\"I can't wait to see your next trick, {magician.title()}.\\n\")\n",
    "print(\"Thank you, everyone. That was a great magic show!\")"
   ]
  },
  {
   "cell_type": "markdown",
   "id": "d6cc5a9f-bf00-437e-b575-9acabf2094cf",
   "metadata": {},
   "source": [
    "4.2 避免缩进错误"
   ]
  },
  {
   "cell_type": "code",
   "execution_count": 6,
   "id": "ad526908-677c-40f9-ad16-bd21a0cc59b7",
   "metadata": {},
   "outputs": [
    {
     "ename": "IndentationError",
     "evalue": "expected an indented block after 'for' statement on line 3 (3513605568.py, line 4)",
     "output_type": "error",
     "traceback": [
      "\u001b[1;36m  Cell \u001b[1;32mIn[6], line 4\u001b[1;36m\u001b[0m\n\u001b[1;33m    print(magician)\u001b[0m\n\u001b[1;37m    ^\u001b[0m\n\u001b[1;31mIndentationError\u001b[0m\u001b[1;31m:\u001b[0m expected an indented block after 'for' statement on line 3\n"
     ]
    }
   ],
   "source": [
    "#错误示范，没有任何缩进\n",
    "magicians=['alice','david','carolina']\n",
    "for magician in magicians:\n",
    "print(magician)"
   ]
  },
  {
   "cell_type": "code",
   "execution_count": 5,
   "id": "a2c00786-a176-4204-92d4-683b9a0acf46",
   "metadata": {},
   "outputs": [
    {
     "name": "stdout",
     "output_type": "stream",
     "text": [
      "Alice, that was a great trick!\n",
      "David, that was a great trick!\n",
      "Carolina, that was a great trick!\n",
      "I can't wait to see your next trick, Carolina.\n",
      "\n"
     ]
    }
   ],
   "source": [
    "#错误示范，缩进内容不完整，循环外的赋值以循环内最后一次为准\n",
    "magicians=['alice','david','carolina']\n",
    "for magician in magicians:\n",
    "    print(f\"{magician.title()}, that was a great trick!\")\n",
    "print(f\"I can't wait to see your next trick, {magician.title()}.\\n\")"
   ]
  },
  {
   "cell_type": "code",
   "execution_count": 7,
   "id": "b17fff71-b8ad-4ddc-8554-774f89f59c0e",
   "metadata": {},
   "outputs": [
    {
     "ename": "IndentationError",
     "evalue": "unexpected indent (2965881155.py, line 3)",
     "output_type": "error",
     "traceback": [
      "\u001b[1;36m  Cell \u001b[1;32mIn[7], line 3\u001b[1;36m\u001b[0m\n\u001b[1;33m    print(message)\u001b[0m\n\u001b[1;37m    ^\u001b[0m\n\u001b[1;31mIndentationError\u001b[0m\u001b[1;31m:\u001b[0m unexpected indent\n"
     ]
    }
   ],
   "source": [
    "#错误示范，不必要的缩进会导致报错\n",
    "message=\"Hello Python world!\"\n",
    "    print(message)"
   ]
  },
  {
   "cell_type": "code",
   "execution_count": 8,
   "id": "1b6246c8-bd4b-4082-be4b-ad4871985735",
   "metadata": {},
   "outputs": [
    {
     "name": "stdout",
     "output_type": "stream",
     "text": [
      "Alice, that was a great trick!\n",
      "I can't wait to see your next trick, Alice.\n",
      "\n",
      "Thank you, everyone. That was a great magic show!\n",
      "David, that was a great trick!\n",
      "I can't wait to see your next trick, David.\n",
      "\n",
      "Thank you, everyone. That was a great magic show!\n",
      "Carolina, that was a great trick!\n",
      "I can't wait to see your next trick, Carolina.\n",
      "\n",
      "Thank you, everyone. That was a great magic show!\n"
     ]
    }
   ],
   "source": [
    "#错误示范，将循环外的内容缩进，重复打印\n",
    "magicians=['alice','david','carolina']\n",
    "for magician in magicians:\n",
    "    print(f\"{magician.title()}, that was a great trick!\")\n",
    "    print(f\"I can't wait to see your next trick, {magician.title()}.\\n\")\n",
    "    \n",
    "    print(\"Thank you, everyone. That was a great magic show!\")"
   ]
  },
  {
   "cell_type": "code",
   "execution_count": 9,
   "id": "075da22f-71c6-4cf2-9806-c9aedc8150d5",
   "metadata": {},
   "outputs": [
    {
     "ename": "SyntaxError",
     "evalue": "expected ':' (2625042297.py, line 3)",
     "output_type": "error",
     "traceback": [
      "\u001b[1;36m  Cell \u001b[1;32mIn[9], line 3\u001b[1;36m\u001b[0m\n\u001b[1;33m    for magician in magicians\u001b[0m\n\u001b[1;37m                             ^\u001b[0m\n\u001b[1;31mSyntaxError\u001b[0m\u001b[1;31m:\u001b[0m expected ':'\n"
     ]
    }
   ],
   "source": [
    "#错误示范，遗漏冒号\n",
    "magicians=['alice','david','carolina']\n",
    "for magician in magicians\n",
    "    print(magician)"
   ]
  },
  {
   "cell_type": "markdown",
   "id": "33d17110-4096-48db-aecc-54ba38f12e48",
   "metadata": {},
   "source": [
    "练习"
   ]
  },
  {
   "cell_type": "code",
   "execution_count": 1,
   "id": "538b29c7-1575-429b-b96f-4d21168e6656",
   "metadata": {},
   "outputs": [
    {
     "name": "stdout",
     "output_type": "stream",
     "text": [
      "I like tuna pizza.\n",
      "I like banana pizza.\n",
      "I like pepperoni pizza.\n",
      "I really love pizza.\n"
     ]
    }
   ],
   "source": [
    "#4.1\n",
    "pizzas = ['tuna pizza', 'banana pizza', 'pepperoni pizza']\n",
    "for pizza in pizzas:\n",
    "    print(f\"I like {pizza}.\")\n",
    "print(\"I really love pizza.\")"
   ]
  },
  {
   "cell_type": "code",
   "execution_count": 3,
   "id": "061013af-f37e-4e5e-95a3-ec9f59cef784",
   "metadata": {},
   "outputs": [
    {
     "name": "stdout",
     "output_type": "stream",
     "text": [
      "A dog would make a great pet.\n",
      "A cat would make a great pet.\n",
      "A rabbit would make a great pet.\n",
      "Any of these animals would make a great pet!\n"
     ]
    }
   ],
   "source": [
    "#4.2\n",
    "pets = ['dog', 'cat', 'rabbit']\n",
    "for pet in pets:\n",
    "    print(f\"A {pet} would make a great pet.\")\n",
    "print(\"Any of these animals would make a great pet!\")"
   ]
  },
  {
   "cell_type": "markdown",
   "id": "d9bcb7c9-10d8-41b2-9a2c-7fe5777c4445",
   "metadata": {},
   "source": [
    "4.3 创建数值列表"
   ]
  },
  {
   "cell_type": "code",
   "execution_count": 10,
   "id": "026c4f17-e03e-461c-837f-7ec166085527",
   "metadata": {},
   "outputs": [
    {
     "name": "stdout",
     "output_type": "stream",
     "text": [
      "1\n",
      "2\n",
      "3\n",
      "4\n"
     ]
    }
   ],
   "source": [
    "for value in range(1,5):\n",
    "    print(value)"
   ]
  },
  {
   "cell_type": "code",
   "execution_count": 11,
   "id": "a40764d5-e2da-477c-85dc-772179918b1e",
   "metadata": {},
   "outputs": [
    {
     "name": "stdout",
     "output_type": "stream",
     "text": [
      "1\n",
      "2\n",
      "3\n",
      "4\n",
      "5\n"
     ]
    }
   ],
   "source": [
    "for value in range(1,6):\n",
    "    print(value)"
   ]
  },
  {
   "cell_type": "code",
   "execution_count": 12,
   "id": "0f20cee4-7bc7-4510-bed2-410744f4335d",
   "metadata": {},
   "outputs": [
    {
     "name": "stdout",
     "output_type": "stream",
     "text": [
      "[1, 2, 3, 4, 5]\n"
     ]
    }
   ],
   "source": [
    "numbers=list(range(1,6))\n",
    "print(numbers)"
   ]
  },
  {
   "cell_type": "code",
   "execution_count": 13,
   "id": "28f929f7-a537-4589-9ac3-4d2c0cf16977",
   "metadata": {},
   "outputs": [
    {
     "name": "stdout",
     "output_type": "stream",
     "text": [
      "[2, 4, 6, 8, 10]\n"
     ]
    }
   ],
   "source": [
    "#第三个参数：步长\n",
    "even_numbers=list(range(2,11,2))\n",
    "print(even_numbers)"
   ]
  },
  {
   "cell_type": "code",
   "execution_count": 14,
   "id": "93bbe3c2-a996-40e7-95f7-62008df13ea2",
   "metadata": {},
   "outputs": [
    {
     "name": "stdout",
     "output_type": "stream",
     "text": [
      "[1, 4, 9, 16, 25, 36, 49, 64, 81, 100]\n"
     ]
    }
   ],
   "source": [
    "#循环也可以在 range函数里取值；循环结束一起打印记得缩进\n",
    "squares=[]\n",
    "for value in range(1,11):\n",
    "    square=value**2\n",
    "    squares.append(square)\n",
    "\n",
    "print(squares)"
   ]
  },
  {
   "cell_type": "code",
   "execution_count": 15,
   "id": "bcebf470-86c3-4f68-a516-7291013d8de8",
   "metadata": {},
   "outputs": [
    {
     "name": "stdout",
     "output_type": "stream",
     "text": [
      "[1, 4, 9, 16, 25, 36, 49, 64, 81, 100]\n"
     ]
    }
   ],
   "source": [
    "squares=[]\n",
    "for value in range(1,11):\n",
    "    squares.append(value**2)\n",
    "\n",
    "print(squares)"
   ]
  },
  {
   "cell_type": "code",
   "execution_count": 20,
   "id": "a1a7c165-7642-4d53-a892-6088e0ffd9ad",
   "metadata": {},
   "outputs": [
    {
     "data": {
      "text/plain": [
       "0"
      ]
     },
     "execution_count": 20,
     "metadata": {},
     "output_type": "execute_result"
    }
   ],
   "source": [
    "digits=[1,2,3,4,5,6,7,8,9,0]\n",
    "min(digits)"
   ]
  },
  {
   "cell_type": "code",
   "execution_count": 19,
   "id": "2f07204d-808a-4458-bcf8-c786cbb4d036",
   "metadata": {},
   "outputs": [
    {
     "data": {
      "text/plain": [
       "9"
      ]
     },
     "execution_count": 19,
     "metadata": {},
     "output_type": "execute_result"
    }
   ],
   "source": [
    "digits=[1,2,3,4,5,6,7,8,9,0]\n",
    "max(digits)"
   ]
  },
  {
   "cell_type": "code",
   "execution_count": 18,
   "id": "714bee5d-36b2-462e-9781-ef2664039508",
   "metadata": {},
   "outputs": [
    {
     "data": {
      "text/plain": [
       "45"
      ]
     },
     "execution_count": 18,
     "metadata": {},
     "output_type": "execute_result"
    }
   ],
   "source": [
    "digits=[1,2,3,4,5,6,7,8,9,0]\n",
    "sum(digits)"
   ]
  },
  {
   "cell_type": "code",
   "execution_count": 22,
   "id": "3ea764aa-f51c-49df-a785-ae5417e485c3",
   "metadata": {},
   "outputs": [
    {
     "name": "stdout",
     "output_type": "stream",
     "text": [
      "[1, 4, 9, 16, 25, 36, 49, 64, 81, 100]\n"
     ]
    }
   ],
   "source": [
    "#列表推导式，表达式 + for循环赋值\n",
    "squares=[value**2 for value in range(1,11)]\n",
    "print(squares)"
   ]
  },
  {
   "cell_type": "markdown",
   "id": "64915f5d-28fa-49f1-b9a0-f390707977d7",
   "metadata": {},
   "source": [
    "练习"
   ]
  },
  {
   "cell_type": "code",
   "execution_count": 5,
   "id": "456161be-7f9b-4174-99e5-87901d5c61ba",
   "metadata": {},
   "outputs": [
    {
     "name": "stdout",
     "output_type": "stream",
     "text": [
      "1\n",
      "2\n",
      "3\n",
      "4\n",
      "5\n",
      "6\n",
      "7\n",
      "8\n",
      "9\n",
      "10\n",
      "11\n",
      "12\n",
      "13\n",
      "14\n",
      "15\n",
      "16\n",
      "17\n",
      "18\n",
      "19\n",
      "20\n"
     ]
    }
   ],
   "source": [
    "#4.3\n",
    "for value in range(1, 21):\n",
    "    print(value)"
   ]
  },
  {
   "cell_type": "code",
   "execution_count": 4,
   "id": "b2a8940d-867b-4fa0-ad91-e91fa2667119",
   "metadata": {},
   "outputs": [
    {
     "name": "stderr",
     "output_type": "stream",
     "text": [
      "IOPub data rate exceeded.\n",
      "The Jupyter server will temporarily stop sending output\n",
      "to the client in order to avoid crashing it.\n",
      "To change this limit, set the config variable\n",
      "`--ServerApp.iopub_data_rate_limit`.\n",
      "\n",
      "Current values:\n",
      "ServerApp.iopub_data_rate_limit=1000000.0 (bytes/sec)\n",
      "ServerApp.rate_limit_window=3.0 (secs)\n",
      "\n"
     ]
    }
   ],
   "source": [
    "#4.4\n",
    "numbers = list(range(1, 1000001))\n",
    "print(numbers)\n",
    "#这个怎么解决？"
   ]
  },
  {
   "cell_type": "code",
   "execution_count": 6,
   "id": "8fe3ce3f-d4a9-4ee8-bbef-737b3063e713",
   "metadata": {},
   "outputs": [
    {
     "name": "stdout",
     "output_type": "stream",
     "text": [
      "1\n",
      "1000000\n",
      "500000500000\n"
     ]
    }
   ],
   "source": [
    "#4.5\n",
    "digits = list(range(1, 1000001))\n",
    "print(min(digits))\n",
    "print(max(digits))\n",
    "print(sum(digits))"
   ]
  },
  {
   "cell_type": "code",
   "execution_count": 2,
   "id": "c1935feb-3dfc-4d0c-918a-0cc90c24dce5",
   "metadata": {},
   "outputs": [
    {
     "name": "stdout",
     "output_type": "stream",
     "text": [
      "1\n",
      "3\n",
      "5\n",
      "7\n",
      "9\n",
      "11\n",
      "13\n",
      "15\n",
      "17\n",
      "19\n"
     ]
    }
   ],
   "source": [
    "#4.6\n",
    "odd_numbers = list(range(1, 21, 2))\n",
    "for odd_number in odd_numbers:\n",
    "    print(odd_number)"
   ]
  },
  {
   "cell_type": "code",
   "execution_count": 4,
   "id": "840d4ee4-86f1-4cce-9a2e-1d12a49e770c",
   "metadata": {},
   "outputs": [
    {
     "name": "stdout",
     "output_type": "stream",
     "text": [
      "3\n",
      "6\n",
      "9\n",
      "12\n",
      "15\n",
      "18\n",
      "21\n",
      "24\n",
      "27\n",
      "30\n"
     ]
    }
   ],
   "source": [
    "#4.7\n",
    "numbers = list(range(3, 31, 3))\n",
    "for number in numbers:\n",
    "    print(number)"
   ]
  },
  {
   "cell_type": "code",
   "execution_count": 5,
   "id": "2cc7357a-f2a6-47da-914a-d01c8000a384",
   "metadata": {},
   "outputs": [
    {
     "name": "stdout",
     "output_type": "stream",
     "text": [
      "1\n",
      "8\n",
      "27\n",
      "64\n",
      "125\n",
      "216\n",
      "343\n",
      "512\n",
      "729\n",
      "1000\n"
     ]
    }
   ],
   "source": [
    "#4.8\n",
    "cubes = []\n",
    "for value in range(1, 11):\n",
    "    cube = value ** 3\n",
    "    cubes.append(cube)\n",
    "    print(cube)"
   ]
  },
  {
   "cell_type": "code",
   "execution_count": 6,
   "id": "88674e2c-4153-4b6d-b930-d5fbf15aea57",
   "metadata": {},
   "outputs": [
    {
     "name": "stdout",
     "output_type": "stream",
     "text": [
      "[1, 8, 27, 64, 125, 216, 343, 512, 729, 1000]\n"
     ]
    }
   ],
   "source": [
    "#4.9\n",
    "cubes = [value**3 for value in range(1, 11)]\n",
    "print(cubes)"
   ]
  },
  {
   "cell_type": "markdown",
   "id": "a8a560f8-df6d-4a59-84f0-642660aeb688",
   "metadata": {},
   "source": [
    "4.4 使用列表的一部分"
   ]
  },
  {
   "cell_type": "code",
   "execution_count": 34,
   "id": "f6519c2a-778c-493f-9761-b2e4cb282f22",
   "metadata": {},
   "outputs": [
    {
     "name": "stdout",
     "output_type": "stream",
     "text": [
      "['charles', 'martina', 'michael']\n"
     ]
    }
   ],
   "source": [
    "#切片，中间是冒号，作为子列表使用\n",
    "players=['charles','martina','michael','florence','eli']\n",
    "print(players[0:3])"
   ]
  },
  {
   "cell_type": "code",
   "execution_count": 29,
   "id": "a8e78fdb-53a6-4168-926b-a3ce1bfad75c",
   "metadata": {},
   "outputs": [
    {
     "name": "stdout",
     "output_type": "stream",
     "text": [
      "['martina', 'micheal', 'florence']\n"
     ]
    }
   ],
   "source": [
    "players=['charles','martina','micheal','florence','eli']\n",
    "print(players[1:4])"
   ]
  },
  {
   "cell_type": "code",
   "execution_count": 30,
   "id": "7f4ba534-79f0-4714-a00a-2faa9608845f",
   "metadata": {},
   "outputs": [
    {
     "name": "stdout",
     "output_type": "stream",
     "text": [
      "['charles', 'martina', 'micheal', 'florence']\n"
     ]
    }
   ],
   "source": [
    "#从头开始\n",
    "players=['charles','martina','micheal','florence','eli']\n",
    "print(players[:4])"
   ]
  },
  {
   "cell_type": "code",
   "execution_count": 31,
   "id": "0922dcc4-f84a-4dfc-81d5-d1927413b3b3",
   "metadata": {},
   "outputs": [
    {
     "name": "stdout",
     "output_type": "stream",
     "text": [
      "['micheal', 'florence', 'eli']\n"
     ]
    }
   ],
   "source": [
    "#直到结束\n",
    "players=['charles','martina','micheal','florence','eli']\n",
    "print(players[2:])"
   ]
  },
  {
   "cell_type": "code",
   "execution_count": 32,
   "id": "74b532b5-c235-45b8-9d53-687b33df5348",
   "metadata": {},
   "outputs": [
    {
     "name": "stdout",
     "output_type": "stream",
     "text": [
      "['micheal', 'florence', 'eli']\n"
     ]
    }
   ],
   "source": [
    "#倒取\n",
    "players=['charles','martina','micheal','florence','eli']\n",
    "print(players[-3:])"
   ]
  },
  {
   "cell_type": "code",
   "execution_count": 35,
   "id": "9b9f5a67-6bac-4dc7-b341-89623847faa2",
   "metadata": {},
   "outputs": [
    {
     "name": "stdout",
     "output_type": "stream",
     "text": [
      "Here are the first three players on my team:\n",
      "Charles\n",
      "Martina\n",
      "Micheal\n"
     ]
    }
   ],
   "source": [
    "players=['charles','martina','micheal','florence','eli']\n",
    "\n",
    "print(\"Here are the first three players on my team:\")\n",
    "for player in players[:3]:\n",
    "    print(player.title())"
   ]
  },
  {
   "cell_type": "code",
   "execution_count": 18,
   "id": "33c2638f-c40f-43c1-a113-81d77cffa69a",
   "metadata": {},
   "outputs": [
    {
     "name": "stdout",
     "output_type": "stream",
     "text": [
      "My favorite foods are:\n",
      "['pizza', 'falafel', 'carrot cake']\n",
      "\n",
      "My friend's favorite foods are:\n",
      "['pizza', 'falafel', 'carrot cake']\n"
     ]
    }
   ],
   "source": [
    "#复制列表\n",
    "my_foods=['pizza','falafel','carrot cake']\n",
    "friend_foods = my_foods[:]\n",
    "\n",
    "print(\"My favorite foods are:\")\n",
    "print(my_foods)\n",
    "\n",
    "print(\"\\nMy friend's favorite foods are:\")\n",
    "print(friend_foods)"
   ]
  },
  {
   "cell_type": "code",
   "execution_count": 17,
   "id": "335ddf7d-2059-4679-b392-7277eb3de33b",
   "metadata": {},
   "outputs": [
    {
     "name": "stdout",
     "output_type": "stream",
     "text": [
      "My favorite foods are:\n",
      "['pizza', 'falafel', 'carrot cake', 'cannoli']\n",
      "\n",
      "My friend's favorite foods are:\n",
      "['pizza', 'falafel', 'carrot cake', 'ice cream']\n"
     ]
    }
   ],
   "source": [
    "#深拷贝\n",
    "my_foods=['pizza','falafel','carrot cake']\n",
    "friend_foods = my_foods[:]\n",
    "\n",
    "my_foods.append('cannoli')\n",
    "friend_foods.append('ice cream')\n",
    "\n",
    "print(\"My favorite foods are:\")\n",
    "print(my_foods)\n",
    "\n",
    "print(\"\\nMy friend's favorite foods are:\")\n",
    "print(friend_foods)"
   ]
  },
  {
   "cell_type": "code",
   "execution_count": 15,
   "id": "4add13a7-e4cf-4bcb-88ec-a271d726a9c5",
   "metadata": {},
   "outputs": [
    {
     "name": "stdout",
     "output_type": "stream",
     "text": [
      "My favorite foods are:\n",
      "['pizza', 'falafel', 'carrot cake', 'cannoli', 'ice cream']\n",
      "\n",
      "My friend's favorite foods are:\n",
      "['pizza', 'falafel', 'carrot cake', 'cannoli', 'ice cream']\n"
     ]
    }
   ],
   "source": [
    "#浅拷贝\n",
    "my_foods=['pizza','falafel','carrot cake']\n",
    "friend_foods = my_foods\n",
    "\n",
    "my_foods.append('cannoli')\n",
    "friend_foods.append('ice cream')\n",
    "\n",
    "print(\"My favorite foods are:\")\n",
    "print(my_foods)\n",
    "\n",
    "print(\"\\nMy friend's favorite foods are:\")\n",
    "print(friend_foods)"
   ]
  },
  {
   "cell_type": "markdown",
   "id": "1affd3d8-eb7a-437c-b49e-382d1a6b764e",
   "metadata": {},
   "source": [
    "练习"
   ]
  },
  {
   "cell_type": "code",
   "execution_count": 9,
   "id": "55be3d3d-aabd-47d5-8d8f-1ee932b04e31",
   "metadata": {},
   "outputs": [
    {
     "name": "stdout",
     "output_type": "stream",
     "text": [
      "The first three items in the list are: ['charles', 'martina', 'michael']\n",
      "Three items from the middle of the list are: ['martina', 'michael', 'florence']\n",
      "The last three items in the list are: ['michael', 'florence', 'eli']\n"
     ]
    }
   ],
   "source": [
    "#4.10\n",
    "players=['charles','martina','michael','florence','eli']\n",
    "print(f\"The first three items in the list are: {players[0:3]}\")\n",
    "print(f\"Three items from the middle of the list are: {players[1:4]}\")\n",
    "print(f\"The last three items in the list are: {players[2:5]}\")"
   ]
  },
  {
   "cell_type": "code",
   "execution_count": 13,
   "id": "6a18b257-f903-49b7-9628-a922c0f1d0bc",
   "metadata": {},
   "outputs": [
    {
     "name": "stdout",
     "output_type": "stream",
     "text": [
      "My favorite pizzas are:\n",
      "['tuna pizza', 'banana pizza', 'pepperoni pizza', 'cheese pizza']\n",
      "My friend's favorite pizzas are:\n",
      "['tuna pizza', 'banana pizza', 'pepperoni pizza', 'mango pizza']\n"
     ]
    }
   ],
   "source": [
    "#4.11\n",
    "pizzas = ['tuna pizza', 'banana pizza', 'pepperoni pizza']\n",
    "friend_pizzas = pizzas[:]\n",
    "\n",
    "pizzas.append('cheese pizza')\n",
    "friend_pizzas.append('mango pizza')\n",
    "\n",
    "print(\"My favorite pizzas are:\")\n",
    "print(pizzas)\n",
    "\n",
    "print(\"My friend's favorite pizzas are:\")\n",
    "print(friend_pizzas)"
   ]
  },
  {
   "cell_type": "code",
   "execution_count": 19,
   "id": "ed0c3e5a-718e-4742-8b9b-4d15016b09f4",
   "metadata": {},
   "outputs": [
    {
     "name": "stdout",
     "output_type": "stream",
     "text": [
      "My favorite foods are:\n",
      "pizza\n",
      "falafel\n",
      "carrot cake\n",
      "cannoli\n",
      "ice cream\n",
      "\n",
      "My friend's favorite foods are:\n",
      "pizza\n",
      "falafel\n",
      "carrot cake\n",
      "cannoli\n",
      "ice cream\n"
     ]
    }
   ],
   "source": [
    "#4.12\n",
    "my_foods=['pizza','falafel','carrot cake']\n",
    "friend_foods = my_foods\n",
    "\n",
    "my_foods.append('cannoli')\n",
    "friend_foods.append('ice cream')\n",
    "\n",
    "print(\"My favorite foods are:\")\n",
    "for my_food in my_foods:\n",
    "    print(my_food)\n",
    "\n",
    "print(\"\\nMy friend's favorite foods are:\")\n",
    "for friend_food in friend_foods:\n",
    "    print(friend_food)"
   ]
  },
  {
   "cell_type": "markdown",
   "id": "1d0fc94e-7c39-483f-bc0f-27bf38c6a502",
   "metadata": {},
   "source": [
    "4.5 元组Tuple"
   ]
  },
  {
   "cell_type": "code",
   "execution_count": 46,
   "id": "ab596def-e18c-49eb-9e57-f8b48c830c0e",
   "metadata": {},
   "outputs": [
    {
     "name": "stdout",
     "output_type": "stream",
     "text": [
      "200\n",
      "50\n"
     ]
    }
   ],
   "source": [
    "dimensions=(200,50)\n",
    "print(dimensions[0])\n",
    "print(dimensions[1])"
   ]
  },
  {
   "cell_type": "code",
   "execution_count": 47,
   "id": "0004609d-3fdc-4915-a8c4-efd685408bd0",
   "metadata": {},
   "outputs": [
    {
     "ename": "TypeError",
     "evalue": "'tuple' object does not support item assignment",
     "output_type": "error",
     "traceback": [
      "\u001b[1;31m---------------------------------------------------------------------------\u001b[0m",
      "\u001b[1;31mTypeError\u001b[0m                                 Traceback (most recent call last)",
      "Cell \u001b[1;32mIn[47], line 3\u001b[0m\n\u001b[0;32m      1\u001b[0m \u001b[38;5;66;03m#不可修改\u001b[39;00m\n\u001b[0;32m      2\u001b[0m dimensions\u001b[38;5;241m=\u001b[39m(\u001b[38;5;241m200\u001b[39m,\u001b[38;5;241m50\u001b[39m)\n\u001b[1;32m----> 3\u001b[0m dimensions[\u001b[38;5;241m0\u001b[39m]\u001b[38;5;241m=\u001b[39m\u001b[38;5;241m250\u001b[39m\n",
      "\u001b[1;31mTypeError\u001b[0m: 'tuple' object does not support item assignment"
     ]
    }
   ],
   "source": [
    "#不可修改\n",
    "dimensions=(200,50)\n",
    "dimensions[0]=250"
   ]
  },
  {
   "cell_type": "code",
   "execution_count": 48,
   "id": "c6723c0b-cac8-4591-a92c-f3fb6dc78f6e",
   "metadata": {},
   "outputs": [
    {
     "name": "stdout",
     "output_type": "stream",
     "text": [
      "200\n",
      "50\n"
     ]
    }
   ],
   "source": [
    "dimensions=(200,50)\n",
    "for dimension in dimensions:\n",
    "    print(dimension)"
   ]
  },
  {
   "cell_type": "code",
   "execution_count": 49,
   "id": "1097488a-1a93-4c15-ad8f-09425a151f4d",
   "metadata": {},
   "outputs": [
    {
     "name": "stdout",
     "output_type": "stream",
     "text": [
      "Original dimensions:\n",
      "200\n",
      "50\n",
      "\n",
      "Modified dimensions:\n",
      "400\n",
      "50\n"
     ]
    }
   ],
   "source": [
    "#整体修改\n",
    "dimensions=(200,50)\n",
    "print(\"Original dimensions:\")\n",
    "for dimension in dimensions:\n",
    "    print(dimension)\n",
    "\n",
    "dimensions=(400,50)\n",
    "print(\"\\nModified dimensions:\")\n",
    "for dimension in dimensions:\n",
    "    print(dimension)"
   ]
  },
  {
   "cell_type": "markdown",
   "id": "4785399d-9cfd-49a5-bb57-b8e75b2db0ed",
   "metadata": {},
   "source": [
    "练习"
   ]
  },
  {
   "cell_type": "code",
   "execution_count": 20,
   "id": "fc0067e8-5a1c-438f-91a7-38df8284e357",
   "metadata": {},
   "outputs": [
    {
     "name": "stdout",
     "output_type": "stream",
     "text": [
      "ice cream\n",
      "cake\n",
      "cheese\n",
      "caffee\n",
      "tea\n"
     ]
    }
   ],
   "source": [
    "#4.13\n",
    "dishes = ('ice cream', 'cake', 'cheese', 'caffee', 'tea')\n",
    "for dish in dishes:\n",
    "    print(dish)"
   ]
  },
  {
   "cell_type": "code",
   "execution_count": 21,
   "id": "f2f72fd3-f843-4063-8e1f-7dcb5c518d61",
   "metadata": {},
   "outputs": [
    {
     "ename": "TypeError",
     "evalue": "'tuple' object does not support item assignment",
     "output_type": "error",
     "traceback": [
      "\u001b[1;31m---------------------------------------------------------------------------\u001b[0m",
      "\u001b[1;31mTypeError\u001b[0m                                 Traceback (most recent call last)",
      "Cell \u001b[1;32mIn[21], line 3\u001b[0m\n\u001b[0;32m      1\u001b[0m \u001b[38;5;66;03m#4.13\u001b[39;00m\n\u001b[0;32m      2\u001b[0m dishes \u001b[38;5;241m=\u001b[39m (\u001b[38;5;124m'\u001b[39m\u001b[38;5;124mice cream\u001b[39m\u001b[38;5;124m'\u001b[39m, \u001b[38;5;124m'\u001b[39m\u001b[38;5;124mcake\u001b[39m\u001b[38;5;124m'\u001b[39m, \u001b[38;5;124m'\u001b[39m\u001b[38;5;124mcheese\u001b[39m\u001b[38;5;124m'\u001b[39m, \u001b[38;5;124m'\u001b[39m\u001b[38;5;124mcaffee\u001b[39m\u001b[38;5;124m'\u001b[39m, \u001b[38;5;124m'\u001b[39m\u001b[38;5;124mtea\u001b[39m\u001b[38;5;124m'\u001b[39m)\n\u001b[1;32m----> 3\u001b[0m dishes[\u001b[38;5;241m3\u001b[39m] \u001b[38;5;241m=\u001b[39m \u001b[38;5;124m'\u001b[39m\u001b[38;5;124mhamberger\u001b[39m\u001b[38;5;124m'\u001b[39m\n",
      "\u001b[1;31mTypeError\u001b[0m: 'tuple' object does not support item assignment"
     ]
    }
   ],
   "source": [
    "#4.13\n",
    "dishes = ('ice cream', 'cake', 'cheese', 'caffee', 'tea')\n",
    "dishes[3] = 'hamberger'"
   ]
  },
  {
   "cell_type": "code",
   "execution_count": 22,
   "id": "6172466c-099a-4018-8067-2a008cca8a87",
   "metadata": {},
   "outputs": [
    {
     "name": "stdout",
     "output_type": "stream",
     "text": [
      "ice cream\n",
      "hamberger\n",
      "fired chicken\n",
      "caffee\n",
      "tea\n"
     ]
    }
   ],
   "source": [
    "#4.13\n",
    "dishes = ('ice cream', 'cake', 'cheese', 'caffee', 'tea')\n",
    "dishes = ('ice cream', 'hamberger', 'fired chicken', 'caffee', 'tea')\n",
    "for dish in dishes:\n",
    "    print(dish)"
   ]
  },
  {
   "cell_type": "markdown",
   "id": "48052f96-d47f-4d72-a8a6-1b938b868d38",
   "metadata": {},
   "source": [
    "4.6 设置代码格式：PEP格式\n",
    "缩进4格，行长不超过72个字符，空一行"
   ]
  }
 ],
 "metadata": {
  "kernelspec": {
   "display_name": "Python 3 (ipykernel)",
   "language": "python",
   "name": "python3"
  },
  "language_info": {
   "codemirror_mode": {
    "name": "ipython",
    "version": 3
   },
   "file_extension": ".py",
   "mimetype": "text/x-python",
   "name": "python",
   "nbconvert_exporter": "python",
   "pygments_lexer": "ipython3",
   "version": "3.11.7"
  }
 },
 "nbformat": 4,
 "nbformat_minor": 5
}
