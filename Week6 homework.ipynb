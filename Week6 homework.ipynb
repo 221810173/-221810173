{
 "cells": [
  {
   "cell_type": "markdown",
   "id": "15f9f3c1-3122-40e8-b420-3265ae6f9a23",
   "metadata": {},
   "source": [
    "第6章 字典"
   ]
  },
  {
   "cell_type": "markdown",
   "id": "6843d213-64e6-4967-92f4-462047ae950e",
   "metadata": {},
   "source": [
    "6.1 一个简单的字典"
   ]
  },
  {
   "cell_type": "code",
   "execution_count": 3,
   "id": "94d360ed-db4e-4a91-ac03-0968d142fa31",
   "metadata": {},
   "outputs": [
    {
     "name": "stdout",
     "output_type": "stream",
     "text": [
      "green\n",
      "5\n"
     ]
    }
   ],
   "source": [
    "alien_0 = {'color':'green','points':5}\n",
    "#注意是大括号，键值对 Key and Value，用冒号隔开，每个元素之间用逗号间隔，键是唯一的\n",
    "\n",
    "print(alien_0['color'])\n",
    "print(alien_0['points'])"
   ]
  },
  {
   "cell_type": "markdown",
   "id": "bfe3e9b3-1f93-4bc4-ab65-6ab416fde186",
   "metadata": {},
   "source": [
    "6.2 使用字典"
   ]
  },
  {
   "cell_type": "code",
   "execution_count": 6,
   "id": "447bc174-8e03-43ed-a6c8-e6701d91153b",
   "metadata": {},
   "outputs": [
    {
     "name": "stdout",
     "output_type": "stream",
     "text": [
      "green\n"
     ]
    }
   ],
   "source": [
    "alien_0 = {'color':'green'}\n",
    "print(alien_0['color'])"
   ]
  },
  {
   "cell_type": "code",
   "execution_count": 7,
   "id": "942d0689-f957-4d21-9bcf-d80562f2a734",
   "metadata": {},
   "outputs": [
    {
     "name": "stdout",
     "output_type": "stream",
     "text": [
      "You just earned 5 points!\n"
     ]
    }
   ],
   "source": [
    "alien_0 = {'color':'green','points':5}\n",
    "\n",
    "new_points = alien_0['points']\n",
    "print(f\"You just earned {new_points} points!\")"
   ]
  },
  {
   "cell_type": "code",
   "execution_count": 3,
   "id": "6dc1fd2a-7ad3-4b9d-940b-11a8f96a1e58",
   "metadata": {},
   "outputs": [
    {
     "name": "stdout",
     "output_type": "stream",
     "text": [
      "{'color': 'green', 'points': 5}\n",
      "{'color': 'green', 'points': 5, 'x_position': 0, 'y_position': 25}\n",
      "{'points': 5, 'x_position': 0, 'y_position': 25}\n"
     ]
    }
   ],
   "source": [
    "alien_0 = {'color':'green','points':5}\n",
    "print(alien_0)\n",
    "\n",
    "alien_0['x_position'] = 0\n",
    "alien_0['y_position'] = 25\n",
    "print(alien_0)\n",
    "\n",
    "del alien_0['color']\n",
    "print(alien_0)"
   ]
  },
  {
   "cell_type": "code",
   "execution_count": 10,
   "id": "6c95d395-6be5-4379-8d64-a102f52ff8db",
   "metadata": {},
   "outputs": [
    {
     "name": "stdout",
     "output_type": "stream",
     "text": [
      "{'color': 'green', 'points': 5}\n"
     ]
    }
   ],
   "source": [
    "alien_0 = {}\n",
    "alien_0['color'] = 'green'\n",
    "alien_0['points'] = 5\n",
    "print(alien_0)"
   ]
  },
  {
   "cell_type": "code",
   "execution_count": 12,
   "id": "ff023971-3254-4056-a7df-9709dfbc36b1",
   "metadata": {},
   "outputs": [
    {
     "name": "stdout",
     "output_type": "stream",
     "text": [
      "The alien is green.\n",
      "The alien is now yellow.\n"
     ]
    }
   ],
   "source": [
    "alien_0 = {'color':'green'}\n",
    "print(f\"The alien is {alien_0['color']}.\")\n",
    "\n",
    "alien_0['color'] = 'yellow'\n",
    "print(f\"The alien is now {alien_0['color']}.\")"
   ]
  },
  {
   "cell_type": "code",
   "execution_count": 18,
   "id": "c351e7d3-c1b2-494d-82fc-25a3772a04cb",
   "metadata": {},
   "outputs": [
    {
     "name": "stdout",
     "output_type": "stream",
     "text": [
      "Original position: 0\n",
      "New position: 2\n",
      "New position: 5\n"
     ]
    }
   ],
   "source": [
    "alien_0={'x_position':0,'y_position':25,'speed':'medium'}\n",
    "print(f\"Original position: {alien_0['x_position']}\")\n",
    "\n",
    "if alien_0['speed'] == 'slow':\n",
    "    x_increment = 1\n",
    "elif alien_0['speed'] == 'medium':\n",
    "    x_increment = 2\n",
    "else:\n",
    "    x_increment = 3\n",
    "alien_0['x_position'] = alien_0['x_position'] + x_increment\n",
    "\n",
    "print(f\"New position: {alien_0['x_position']}\")\n",
    "\n",
    "alien_0['speed'] = 'fast'\n",
    "\n",
    "if alien_0['speed'] == 'slow':\n",
    "    x_increment = 1\n",
    "elif alien_0['speed'] == 'medium':\n",
    "    x_increment = 2\n",
    "else:\n",
    "    x_increment = 3\n",
    "alien_0['x_position'] = alien_0['x_position'] + x_increment\n",
    "\n",
    "print(f\"New position: {alien_0['x_position']}\")"
   ]
  },
  {
   "cell_type": "code",
   "execution_count": 19,
   "id": "5a3cc5e7-28e9-4a03-bb43-91f08ef0f640",
   "metadata": {},
   "outputs": [
    {
     "name": "stdout",
     "output_type": "stream",
     "text": [
      "{'color': 'green', 'points': 5}\n",
      "{'color': 'green'}\n"
     ]
    }
   ],
   "source": [
    "alien_0 = {'color':'green','points':5}\n",
    "print(alien_0)\n",
    "\n",
    "del alien_0['points']\n",
    "print(alien_0)"
   ]
  },
  {
   "cell_type": "code",
   "execution_count": 23,
   "id": "a361dd64-fc68-4919-b9ac-670c019761aa",
   "metadata": {},
   "outputs": [
    {
     "name": "stdout",
     "output_type": "stream",
     "text": [
      "Sarah's favorite language is C.\n"
     ]
    }
   ],
   "source": [
    "favorite_languages = {\n",
    "    'jen':'python',\n",
    "    'sarah':'c',\n",
    "    'edward':'rust',\n",
    "    'phil':'python',\n",
    "    }\n",
    "\n",
    "language = favorite_languages['sarah'].title()\n",
    "print(f\"Sarah's favorite language is {language}.\")"
   ]
  },
  {
   "cell_type": "code",
   "execution_count": 1,
   "id": "b308e2d7-2cb5-413e-8fae-2662a39ebcc5",
   "metadata": {},
   "outputs": [
    {
     "ename": "SyntaxError",
     "evalue": "incomplete input (3740384456.py, line 3)",
     "output_type": "error",
     "traceback": [
      "\u001b[1;36m  Cell \u001b[1;32mIn[1], line 3\u001b[1;36m\u001b[0m\n\u001b[1;33m    print(alien_0['points']\u001b[0m\n\u001b[1;37m                           ^\u001b[0m\n\u001b[1;31mSyntaxError\u001b[0m\u001b[1;31m:\u001b[0m incomplete input\n"
     ]
    }
   ],
   "source": [
    "#没有的键对值打印会报错\n",
    "alien_0 = {'color':'green','speed':'slow'}\n",
    "print(alien_0['points']"
   ]
  },
  {
   "cell_type": "code",
   "execution_count": 2,
   "id": "08149d62-3eb6-4fe5-b5a3-bde1605b0a37",
   "metadata": {},
   "outputs": [
    {
     "name": "stdout",
     "output_type": "stream",
     "text": [
      "No point value assigned.\n"
     ]
    }
   ],
   "source": [
    "#get方法，第一个参数是指定键，第二个参数是指定键不存在时的返回值，没有第二个参数会返回 None\n",
    "alien_0 = {'color':'green','speed':'slow'}\n",
    "\n",
    "point_value = alien_0.get('points','No point value assigned.')\n",
    "print(point_value)"
   ]
  },
  {
   "cell_type": "markdown",
   "id": "6ba76468-1467-402a-85ea-83f94007f9f5",
   "metadata": {},
   "source": [
    "练习"
   ]
  },
  {
   "cell_type": "code",
   "execution_count": 20,
   "id": "f9c473d6-a980-4d62-ae1a-8d38b29d0221",
   "metadata": {},
   "outputs": [
    {
     "name": "stdout",
     "output_type": "stream",
     "text": [
      "First name: Bibo\n",
      "Last name: Justin\n",
      "Age: 28\n",
      "City: New York\n"
     ]
    }
   ],
   "source": [
    "#6.1\n",
    "information = {'first_name':'Bibo','last_name':'Justin','age':28,'city':'New York'}\n",
    "print(f\"First name: {information['first_name']}\")\n",
    "print(f\"Last name: {information['last_name']}\")\n",
    "print(f\"Age: {information['age']}\")\n",
    "print(f\"City: {information['city']}\")"
   ]
  },
  {
   "cell_type": "code",
   "execution_count": 22,
   "id": "cec13481-d850-441c-b429-e506d3f9cc9f",
   "metadata": {},
   "outputs": [
    {
     "name": "stdout",
     "output_type": "stream",
     "text": [
      "Alice's favorite number is 8\n",
      "Bob's favorite number is 5\n",
      "Eric's favorite number is 10\n",
      "Cindy's favorite number is 17\n",
      "Helen's favorite number is 2\n"
     ]
    }
   ],
   "source": [
    "#6.2\n",
    "favorite_numbers = {\n",
    "    'alice':8,\n",
    "    'bob':5,\n",
    "    'eric':10,\n",
    "    'cindy':17,\n",
    "    'helen':2,\n",
    "    }\n",
    "print(f\"Alice's favorite number is {favorite_numbers['alice']}\")\n",
    "print(f\"Bob's favorite number is {favorite_numbers['bob']}\")\n",
    "print(f\"Eric's favorite number is {favorite_numbers['eric']}\")\n",
    "print(f\"Cindy's favorite number is {favorite_numbers['cindy']}\")\n",
    "print(f\"Helen's favorite number is {favorite_numbers['helen']}\")"
   ]
  },
  {
   "cell_type": "code",
   "execution_count": 10,
   "id": "31c9e320-d8c2-4198-a1fa-54322c6ea4b7",
   "metadata": {},
   "outputs": [
    {
     "name": "stdout",
     "output_type": "stream",
     "text": [
      "variable: 指向一个相关的信息或者值\n",
      "string: 指一系列的字符\n",
      "number: 表示可视化数据，存储信息\n",
      "comment: 使用自然语言在程序中添加说明\n",
      "list: 一系列按特定顺序排列的元素\n"
     ]
    }
   ],
   "source": [
    "#6.3\n",
    "concepts = {\n",
    "    'variable':'指向一个相关的信息或者值',\n",
    "    'string':'指一系列的字符',\n",
    "    'number':'表示可视化数据，存储信息',\n",
    "    'comment':'使用自然语言在程序中添加说明',\n",
    "    'list':'一系列按特定顺序排列的元素',\n",
    "    }\n",
    "print(f\"variable: {concepts['variable']}\")\n",
    "print(f\"string: {concepts['string']}\")\n",
    "print(f\"number: {concepts['number']}\")\n",
    "print(f\"comment: {concepts['comment']}\")\n",
    "print(f\"list: {concepts['list']}\")"
   ]
  },
  {
   "cell_type": "markdown",
   "id": "5d5a3f4e-0f58-495e-9cb9-514465b48919",
   "metadata": {},
   "source": [
    "6.3 遍历字典"
   ]
  },
  {
   "cell_type": "code",
   "execution_count": 6,
   "id": "85e2ef92-05c6-4aa5-b7dc-f889103d2bb9",
   "metadata": {},
   "outputs": [
    {
     "name": "stdout",
     "output_type": "stream",
     "text": [
      "\n",
      "Key:username\n",
      "Value:efermi\n",
      "\n",
      "Key:first\n",
      "Value:enrico\n",
      "\n",
      "Key:last\n",
      "Value:fermi\n"
     ]
    }
   ],
   "source": [
    "user_0 = {\n",
    "    'username':'efermi',\n",
    "    'first':'enrico',\n",
    "    'last':'fermi',\n",
    "    }\n",
    "\n",
    "for key, value in user_0.items():\n",
    "#key, value可以简化为 k, v\n",
    "    print(f\"\\nKey:{key}\")\n",
    "    print(f\"Value:{value}\")"
   ]
  },
  {
   "cell_type": "code",
   "execution_count": 7,
   "id": "39db472e-ceb7-4946-a8d9-9a50c3529715",
   "metadata": {},
   "outputs": [
    {
     "name": "stdout",
     "output_type": "stream",
     "text": [
      "Jen's favorite language is Python.\n",
      "Sarah's favorite language is C.\n",
      "Edward's favorite language is Rust.\n",
      "Phil's favorite language is Python.\n"
     ]
    }
   ],
   "source": [
    "favorite_languages = {\n",
    "    'jen':'python',\n",
    "    'sarah':'c',\n",
    "    'edward':'rust',\n",
    "    'phil':'python',\n",
    "    }\n",
    "\n",
    "for name, language in favorite_languages.items():\n",
    "    print(f\"{name.title()}'s favorite language is {language.title()}.\")"
   ]
  },
  {
   "cell_type": "code",
   "execution_count": 9,
   "id": "11f18c90-1bdc-4eb8-8027-b935a7af4fc9",
   "metadata": {},
   "outputs": [
    {
     "name": "stdout",
     "output_type": "stream",
     "text": [
      "Jen\n",
      "Sarah\n",
      "Edward\n",
      "Phil\n"
     ]
    }
   ],
   "source": [
    "favorite_languages = {\n",
    "    'jen':'python',\n",
    "    'sarah':'c',\n",
    "    'edward':'rust',\n",
    "    'phil':'python',\n",
    "    }\n",
    "\n",
    "for name in favorite_languages.keys():\n",
    "#.keys()可以省略\n",
    "    print(name.title())"
   ]
  },
  {
   "cell_type": "code",
   "execution_count": 7,
   "id": "9c2537e4-bf10-4718-ace4-41a4599cbf93",
   "metadata": {},
   "outputs": [
    {
     "name": "stdout",
     "output_type": "stream",
     "text": [
      "Hi Jen.\n",
      "Hi Sarah.\n",
      "\tSarah, I see you love C!\n",
      "Hi Edward.\n",
      "Hi Phil.\n",
      "\tPhil, I see you love Python!\n"
     ]
    }
   ],
   "source": [
    "favorite_languages = {\n",
    "    'jen':'python',\n",
    "    'sarah':'c',\n",
    "    'edward':'rust',\n",
    "    'phil':'python',\n",
    "    }\n",
    "\n",
    "friends = ['phil','sarah']\n",
    "for name in favorite_languages.keys():\n",
    "    print(f\"Hi {name.title()}.\")\n",
    "\n",
    "    if name in friends:\n",
    "        language = favorite_languages[name].title()\n",
    "        print(f\"\\t{name.title()}, I see you love {language}!\")"
   ]
  },
  {
   "cell_type": "code",
   "execution_count": 12,
   "id": "c11f6638-a2b1-4f2b-bb12-389e9161b240",
   "metadata": {},
   "outputs": [
    {
     "name": "stdout",
     "output_type": "stream",
     "text": [
      "Erin, please take our poll!\n"
     ]
    }
   ],
   "source": [
    "favorite_languages = {\n",
    "    'jen':'python',\n",
    "    'sarah':'c',\n",
    "    'edward':'rust',\n",
    "    'phil':'python',\n",
    "    }\n",
    "\n",
    "if 'erin' not in favorite_languages.keys():\n",
    "        print(\"Erin, please take our poll!\")"
   ]
  },
  {
   "cell_type": "code",
   "execution_count": 13,
   "id": "da49f27b-5e03-4139-b13b-2ba536bbe977",
   "metadata": {},
   "outputs": [
    {
     "name": "stdout",
     "output_type": "stream",
     "text": [
      "Edward, thank you for taking the poll.\n",
      "Jen, thank you for taking the poll.\n",
      "Phil, thank you for taking the poll.\n",
      "Sarah, thank you for taking the poll.\n"
     ]
    }
   ],
   "source": [
    "favorite_languages = {\n",
    "    'jen':'python',\n",
    "    'sarah':'c',\n",
    "    'edward':'rust',\n",
    "    'phil':'python',\n",
    "    }\n",
    "\n",
    "for name in sorted(favorite_languages.keys()):\n",
    "    print(f\"{name.title()}, thank you for taking the poll.\")"
   ]
  },
  {
   "cell_type": "code",
   "execution_count": 17,
   "id": "549b3d18-0b2a-4207-904c-91ae74c11092",
   "metadata": {},
   "outputs": [
    {
     "name": "stdout",
     "output_type": "stream",
     "text": [
      "The following languages have been mentioned:\n",
      "Python\n",
      "C\n",
      "Rust\n",
      "Python\n"
     ]
    }
   ],
   "source": [
    "favorite_languages = {\n",
    "    'jen':'python',\n",
    "    'sarah':'c',\n",
    "    'edward':'rust',\n",
    "    'phil':'python',\n",
    "    }\n",
    "\n",
    "print(\"The following languages have been mentioned:\")\n",
    "for language in favorite_languages.values():\n",
    "    print(language.title())"
   ]
  },
  {
   "cell_type": "code",
   "execution_count": 18,
   "id": "a558f1ca-1079-499a-a3a2-935a12a9f4c7",
   "metadata": {},
   "outputs": [
    {
     "name": "stdout",
     "output_type": "stream",
     "text": [
      "The following languages have been mentioned:\n",
      "Rust\n",
      "Python\n",
      "C\n"
     ]
    }
   ],
   "source": [
    "favorite_languages = {\n",
    "    'jen':'python',\n",
    "    'sarah':'c',\n",
    "    'edward':'rust',\n",
    "    'phil':'python',\n",
    "    }\n",
    "\n",
    "print(\"The following languages have been mentioned:\")\n",
    "for language in set(favorite_languages.values()):\n",
    "#set集合剔除重复元素\n",
    "    print(language.title())"
   ]
  },
  {
   "cell_type": "code",
   "execution_count": 22,
   "id": "7557365f-ce23-40f7-a240-b65bfc368484",
   "metadata": {},
   "outputs": [
    {
     "data": {
      "text/plain": [
       "{'c', 'python', 'rust'}"
      ]
     },
     "execution_count": 22,
     "metadata": {},
     "output_type": "execute_result"
    }
   ],
   "source": [
    "#集合与字典都用花括号，集合没有键值对，没有重复元素，列表可以重复\n",
    "languages = {'python','rust','python','c'}\n",
    "languages"
   ]
  },
  {
   "cell_type": "markdown",
   "id": "5b2752b4-258c-45a9-bc3f-3b21fb0f7601",
   "metadata": {},
   "source": [
    "练习"
   ]
  },
  {
   "cell_type": "code",
   "execution_count": 3,
   "id": "fecf6ba9-df63-4adc-b655-c817690b147c",
   "metadata": {},
   "outputs": [
    {
     "name": "stdout",
     "output_type": "stream",
     "text": [
      "variable: 指向一个相关的信息或者值\n",
      "string: 指一系列的字符\n",
      "number: 表示可视化数据，存储信息\n",
      "comment: 使用自然语言在程序中添加说明\n",
      "list: 一系列按特定顺序排列的元素\n",
      "\n",
      "variable: 指向一个相关的信息或者值\n",
      "string: 指一系列的字符\n",
      "number: 表示可视化数据，存储信息\n",
      "comment: 使用自然语言在程序中添加说明\n",
      "list: 一系列按特定顺序排列的元素\n",
      "dictionary: 一系列键值对\n",
      "slice: 列表的部分元素\n",
      "del: 表示移除\n",
      "tuple: 一系列不可改变的元素\n",
      "set: 没有重复的元素集合\n"
     ]
    }
   ],
   "source": [
    "#6.4\n",
    "concepts = {\n",
    "    'variable:':'指向一个相关的信息或者值',\n",
    "    'string:':'指一系列的字符',\n",
    "    'number:':'表示可视化数据，存储信息',\n",
    "    'comment:':'使用自然语言在程序中添加说明',\n",
    "    'list:':'一系列按特定顺序排列的元素',\n",
    "    }\n",
    "for key, value in concepts.items():\n",
    "    print(key, value)\n",
    "concepts['dictionary:'] = '一系列键值对'\n",
    "concepts['slice:'] = '列表的部分元素'\n",
    "concepts['del:'] = '表示移除'\n",
    "concepts['tuple:'] = '一系列不可改变的元素'\n",
    "concepts['set:'] = '没有重复的元素集合'\n",
    "print()\n",
    "for key, value in concepts.items():\n",
    "    print(key, value)"
   ]
  },
  {
   "cell_type": "code",
   "execution_count": 13,
   "id": "083a8ea1-24a1-44e7-aaa0-e4be77a66d30",
   "metadata": {},
   "outputs": [
    {
     "name": "stdout",
     "output_type": "stream",
     "text": [
      "The Nile runs through Egypt.\n",
      "The Yangzi River runs through China.\n",
      "The Amazon runs through Barzil.\n",
      "nile\n",
      "yangzi river\n",
      "amazon\n",
      "egypt\n",
      "china\n",
      "barzil\n"
     ]
    }
   ],
   "source": [
    "#6.5\n",
    "geography = {'nile':'egypt','yangzi river':'china','amazon':'barzil'}\n",
    "for river, country in geography.items():\n",
    "    print(f\"The {river.title()} runs through {country.title()}.\")\n",
    "for river in geography.keys():\n",
    "    print(river)\n",
    "for country in geography.values():\n",
    "    print(country)"
   ]
  },
  {
   "cell_type": "code",
   "execution_count": 15,
   "id": "b81adaab-64e9-467a-ad05-de4b2b860cff",
   "metadata": {},
   "outputs": [
    {
     "name": "stdout",
     "output_type": "stream",
     "text": [
      "Jen, thank you for taking the poll!\n",
      "Sarah, thank you for taking the poll!\n",
      "Alice, please take the poll!\n",
      "Edward, thank you for taking the poll!\n",
      "Phil, thank you for taking the poll!\n",
      "Bob, please take the poll!\n"
     ]
    }
   ],
   "source": [
    "#6.6\n",
    "names = ['jen','sarah','alice','edward','phil','bob']\n",
    "favorite_languages = {\n",
    "    'jen':'python',\n",
    "    'sarah':'c',\n",
    "    'edward':'rust',\n",
    "    'phil':'python',\n",
    "    }\n",
    "for name in names:\n",
    "    if name in favorite_languages.keys():\n",
    "        print(f\"{name.title()}, thank you for taking the poll!\")\n",
    "    else:\n",
    "        print(f\"{name.title()}, please take the poll!\")"
   ]
  },
  {
   "cell_type": "markdown",
   "id": "f2cb55ba-e9b1-49d7-bd1a-9fd19746dc7e",
   "metadata": {},
   "source": [
    "6.4 嵌套"
   ]
  },
  {
   "cell_type": "code",
   "execution_count": 23,
   "id": "78e9047c-913d-4c16-b45d-67db3bf41839",
   "metadata": {},
   "outputs": [
    {
     "name": "stdout",
     "output_type": "stream",
     "text": [
      "{'color': 'green', 'points': 5}\n",
      "{'color': 'yellow', 'points': 10}\n",
      "{'color': 'red', 'points': 15}\n"
     ]
    }
   ],
   "source": [
    "alien_0 = {'color':'green','points':5}\n",
    "alien_1 = {'color':'yellow','points':10}\n",
    "alien_2 = {'color':'red','points':15}\n",
    "\n",
    "aliens = [alien_0, alien_1, alien_2]\n",
    "\n",
    "for alien in aliens:\n",
    "    print(alien)"
   ]
  },
  {
   "cell_type": "code",
   "execution_count": 26,
   "id": "2bef3a5d-b949-4a0e-8de5-66c7e6fae360",
   "metadata": {},
   "outputs": [
    {
     "name": "stdout",
     "output_type": "stream",
     "text": [
      "{'color': 'green', 'points': 5, 'speed': 'slow'}\n",
      "{'color': 'green', 'points': 5, 'speed': 'slow'}\n",
      "{'color': 'green', 'points': 5, 'speed': 'slow'}\n",
      "{'color': 'green', 'points': 5, 'speed': 'slow'}\n",
      "{'color': 'green', 'points': 5, 'speed': 'slow'}\n",
      "···\n",
      "Total number of aliens: 30\n"
     ]
    }
   ],
   "source": [
    "aliens = []\n",
    "\n",
    "for alien_number in range(30):\n",
    "    new_alien = {'color':'green','points':5,'speed':'slow'}\n",
    "    aliens.append(new_alien)\n",
    "\n",
    "for alien in aliens[:5]:\n",
    "    print(alien)\n",
    "print(\"···\")\n",
    "\n",
    "print(f\"Total number of aliens: {len(aliens)}\")"
   ]
  },
  {
   "cell_type": "code",
   "execution_count": 29,
   "id": "b8cf754a-0c8b-4ea3-ba52-ba321d167a6b",
   "metadata": {},
   "outputs": [
    {
     "name": "stdout",
     "output_type": "stream",
     "text": [
      "{'color': 'yellow', 'points': 10, 'speed': 'medium'}\n",
      "{'color': 'yellow', 'points': 10, 'speed': 'medium'}\n",
      "{'color': 'yellow', 'points': 10, 'speed': 'medium'}\n",
      "{'color': 'green', 'points': 5, 'speed': 'slow'}\n",
      "{'color': 'green', 'points': 5, 'speed': 'slow'}\n",
      "···\n"
     ]
    }
   ],
   "source": [
    "aliens = []\n",
    "\n",
    "for alien_number in range(30):\n",
    "    new_alien = {'color':'green','points':5,'speed':'slow'}\n",
    "    aliens.append(new_alien)\n",
    "\n",
    "for alien in aliens[:3]:\n",
    "    if alien['color'] == 'green':\n",
    "        alien['color'] = 'yellow'\n",
    "        alien['speed'] = 'medium'\n",
    "        alien['points'] = 10\n",
    "\n",
    "for alien in aliens[:5]:\n",
    "    print(alien)\n",
    "print(\"···\")"
   ]
  },
  {
   "cell_type": "code",
   "execution_count": 31,
   "id": "0c35c8af-5249-4b31-8a73-422881549bc1",
   "metadata": {},
   "outputs": [
    {
     "name": "stdout",
     "output_type": "stream",
     "text": [
      "{'color': 'red', 'points': 15, 'speed': 'fast'}\n",
      "{'color': 'red', 'points': 15, 'speed': 'fast'}\n",
      "{'color': 'red', 'points': 15, 'speed': 'fast'}\n",
      "{'color': 'green', 'points': 5, 'speed': 'slow'}\n",
      "{'color': 'green', 'points': 5, 'speed': 'slow'}\n",
      "···\n"
     ]
    }
   ],
   "source": [
    "aliens = []\n",
    "\n",
    "for alien_number in range(30):\n",
    "    new_alien = {'color':'green','points':5,'speed':'slow'}\n",
    "    aliens.append(new_alien)\n",
    "\n",
    "for alien in aliens[:3]:\n",
    "    if alien['color'] == 'green':\n",
    "        alien['color'] = 'yellow'\n",
    "        alien['speed'] = 'medium'\n",
    "        alien['points'] = 10\n",
    "        \n",
    "for alien in aliens[0:3]:\n",
    "    if alien['color'] == 'green':\n",
    "        alien['color'] = 'yellow'\n",
    "        alien['speed'] = 'medium'\n",
    "        alien['points'] = 10\n",
    "    elif alien['color'] == 'yellow':\n",
    "        alien['color'] = 'red'\n",
    "        alien['speed'] = 'fast'\n",
    "        alien['points'] = 15\n",
    "\n",
    "for alien in aliens[:5]:\n",
    "    print(alien)\n",
    "print(\"···\")"
   ]
  },
  {
   "cell_type": "code",
   "execution_count": 36,
   "id": "7055d525-37fb-482c-ab52-f0ea3ad392b5",
   "metadata": {},
   "outputs": [
    {
     "name": "stdout",
     "output_type": "stream",
     "text": [
      "You ordered a thick-crust pizza with the following toppings:\n",
      "\tmushrooms\n",
      "\textra cheese\n"
     ]
    }
   ],
   "source": [
    "pizza = {\n",
    "    'crust':'thick',\n",
    "    'toppings':['mushrooms','extra cheese']\n",
    "    }\n",
    "\n",
    "print(f\"You ordered a {pizza['crust']}-crust pizza \"\n",
    "    \"with the following toppings:\")\n",
    "#注意格式和引号\n",
    "\n",
    "for topping in pizza['toppings']:\n",
    "    print(f\"\\t{topping}\")"
   ]
  },
  {
   "cell_type": "code",
   "execution_count": 42,
   "id": "c2546619-3c55-4409-b3ee-1a2ce86659cd",
   "metadata": {},
   "outputs": [
    {
     "name": "stdout",
     "output_type": "stream",
     "text": [
      "\n",
      "Jen's favorite languages are:\n",
      "\tPython\n",
      "\tRust\n",
      "\n",
      "Sarah's favorite languages are:\n",
      "\tC\n",
      "\n",
      "Edward's favorite languages are:\n",
      "\tRust\n",
      "\tGo\n",
      "\n",
      "Phil's favorite languages are:\n",
      "\tPython\n",
      "\tHaskell\n"
     ]
    }
   ],
   "source": [
    "favorite_languages = {\n",
    "    'jen':['python','rust'],\n",
    "    'sarah':['c'],\n",
    "    'edward':['rust','go'],\n",
    "    'phil':['python','haskell'],\n",
    "    }\n",
    "\n",
    "for name, languages in favorite_languages.items():\n",
    "    print(f\"\\n{name.title()}'s favorite languages are:\")\n",
    "    for language in languages:\n",
    "        print(f\"\\t{language.title()}\")"
   ]
  },
  {
   "cell_type": "code",
   "execution_count": 43,
   "id": "75d9d10e-69cb-4771-8fa3-30771a87da86",
   "metadata": {},
   "outputs": [
    {
     "name": "stdout",
     "output_type": "stream",
     "text": [
      "\n",
      "Jen's favorite languages are:\n",
      "\tPython\n",
      "\tRust\n",
      "\n",
      "Sarah's favorite language is:\n",
      "\tC\n",
      "\n",
      "Edward's favorite languages are:\n",
      "\tRust\n",
      "\tGo\n",
      "\n",
      "Phil's favorite languages are:\n",
      "\tPython\n",
      "\tHaskell\n"
     ]
    }
   ],
   "source": [
    "favorite_languages = {\n",
    "    'jen':['python','rust'],\n",
    "    'sarah':['c'],\n",
    "    'edward':['rust','go'],\n",
    "    'phil':['python','haskell'],\n",
    "    }\n",
    "\n",
    "for name, languages in favorite_languages.items():\n",
    "    if len(languages) != 1:\n",
    "        print(f\"\\n{name.title()}'s favorite languages are:\")\n",
    "    else:\n",
    "        print(f\"\\n{name.title()}'s favorite language is:\")\n",
    "    for language in languages:\n",
    "        print(f\"\\t{language.title()}\")"
   ]
  },
  {
   "cell_type": "code",
   "execution_count": 49,
   "id": "567440cb-9a58-4693-a085-ed47c69a3907",
   "metadata": {},
   "outputs": [
    {
     "name": "stdout",
     "output_type": "stream",
     "text": [
      "\n",
      "Username:aeinstein\n",
      "\tFull name:Albert Einstein\n",
      "\tLocation:Princeton\n",
      "\n",
      "Username:mcurie\n",
      "\tFull name:Marie Curie\n",
      "\tLocation:Paris\n"
     ]
    }
   ],
   "source": [
    "users = {\n",
    "    'aeinstein':{\n",
    "        'first':'albert',\n",
    "        'last':'einstein',\n",
    "        'location':'princeton',\n",
    "        },\n",
    "\n",
    "    'mcurie':{\n",
    "        'first':'marie',\n",
    "        'last':'curie',\n",
    "        'location':'paris',\n",
    "        },\n",
    "\n",
    "    }\n",
    "\n",
    "for username, user_info in users.items():\n",
    "    print(f\"\\nUsername:{username}\")\n",
    "    full_name = f\"{user_info['first']} {user_info['last']}\"\n",
    "    location = user_info['location']\n",
    "\n",
    "    print(f\"\\tFull name:{full_name.title()}\")\n",
    "    print(f\"\\tLocation:{location.title()}\")"
   ]
  },
  {
   "cell_type": "markdown",
   "id": "2d08ae8d-47a7-4f60-9bf0-4165051c4d27",
   "metadata": {},
   "source": [
    "练习"
   ]
  },
  {
   "cell_type": "code",
   "execution_count": 16,
   "id": "8e8c15ec-f66c-4519-a773-55ea2f33a650",
   "metadata": {},
   "outputs": [
    {
     "name": "stdout",
     "output_type": "stream",
     "text": [
      "{'first_name': 'Bibo', 'last_name': 'Justin', 'age': 28, 'city': 'New York'}\n",
      "{'first_name': 'Steven', 'last_name': 'Jobs', 'age': 45, 'city': 'London'}\n",
      "{'first_name': 'Helen', 'last_name': 'Kelar', 'age': 28, 'city': 'Paris'}\n"
     ]
    }
   ],
   "source": [
    "#6.7\n",
    "information_0 = {'first_name':'Bibo','last_name':'Justin','age':28,'city':'New York'}\n",
    "information_1 = {'first_name':'Steven','last_name':'Jobs','age':45,'city':'London'}\n",
    "information_2 = {'first_name':'Helen','last_name':'Kelar','age':28,'city':'Paris'}\n",
    "people = [information_0,information_1,information_2]\n",
    "for text in people:\n",
    "    print(text)"
   ]
  },
  {
   "cell_type": "code",
   "execution_count": 17,
   "id": "7ef607a5-b00b-4ca3-92a7-bad7f6b7d6e8",
   "metadata": {},
   "outputs": [
    {
     "name": "stdout",
     "output_type": "stream",
     "text": [
      "{'type': 'bird', 'master': 'kiven'}\n",
      "{'type': 'fish', 'master': 'alice'}\n",
      "{'type': 'dog', 'master': 'yokoi'}\n"
     ]
    }
   ],
   "source": [
    "#6.8\n",
    "pet_0 = {'type':'bird','master':'kiven'}\n",
    "pet_1 = {'type':'fish','master':'alice'}\n",
    "pet_2 = {'type':'dog','master':'yokoi'}\n",
    "pets = [pet_0,pet_1,pet_2]\n",
    "for pet in pets:\n",
    "    print(pet)"
   ]
  },
  {
   "cell_type": "code",
   "execution_count": 19,
   "id": "36715b40-eedd-417e-a588-537925bb2b85",
   "metadata": {},
   "outputs": [
    {
     "name": "stdout",
     "output_type": "stream",
     "text": [
      "\n",
      "Alice's favorite places are:\n",
      "\tHuangshan\n",
      "\tZibo\n",
      "\n",
      "Bob's favorite places are:\n",
      "\tQingdao\n",
      "\n",
      "Frank's favorite places are:\n",
      "\tJiuzhaigou\n",
      "\tLijiang\n",
      "\tChangbaishan\n"
     ]
    }
   ],
   "source": [
    "#6.9\n",
    "favorite_places = {\n",
    "    'alice':['huangshan','zibo'],\n",
    "    'bob':['qingdao'],\n",
    "    'frank':['jiuzhaigou','lijiang','changbaishan'],\n",
    "    }\n",
    "for name, places in favorite_places.items():\n",
    "    print(f\"\\n{name.title()}'s favorite places are:\")\n",
    "    for place in places:\n",
    "        print(f\"\\t{place.title()}\")"
   ]
  },
  {
   "cell_type": "code",
   "execution_count": 38,
   "id": "a940ce05-8897-497f-808b-657cfa5d785e",
   "metadata": {},
   "outputs": [
    {
     "name": "stdout",
     "output_type": "stream",
     "text": [
      "\n",
      "Alice's favorite numbers are:\n",
      "\t8\n",
      "\t10\n",
      "\n",
      "Bob's favorite numbers are:\n",
      "\t5\n",
      "\t100\n",
      "\t2\n",
      "\n",
      "Eric's favorite numbers are:\n",
      "\t10\n",
      "\t9\n",
      "\n",
      "Cindy's favorite numbers are:\n",
      "\t17\n",
      "\n",
      "Helen's favorite numbers are:\n",
      "\t2\n",
      "\t11\n",
      "\t32\n",
      "\t54\n"
     ]
    }
   ],
   "source": [
    "#6.10\n",
    "favorite_numbers = {\n",
    "    'alice':['8','10'],\n",
    "    'bob':['5','100','2'],\n",
    "    'eric':['10','9'],\n",
    "    'cindy':['17'],\n",
    "    'helen':['2','11','32','54'],\n",
    "    }\n",
    "for name, numbers in favorite_numbers.items():\n",
    "    print(f\"\\n{name.title()}'s favorite numbers are:\")\n",
    "    for num in numbers:\n",
    "        print(f\"\\t{num}\")"
   ]
  },
  {
   "cell_type": "code",
   "execution_count": 42,
   "id": "b87c426f-9eb5-4ff7-84b9-7861b27e9d4b",
   "metadata": {},
   "outputs": [
    {
     "name": "stdout",
     "output_type": "stream",
     "text": [
      "\n",
      "Name:Beijing\n",
      "\tBelongs to:China\n",
      "\tPopulation:21858000\n",
      "\tIconic Building:The Great Wall\n",
      "\n",
      "Name:New York\n",
      "\tBelongs to:America\n",
      "\tPopulation:8340000\n",
      "\tIconic Building:Statue Of Liberty\n",
      "\n",
      "Name:Paris\n",
      "\tBelongs to:France\n",
      "\tPopulation:2103000\n",
      "\tIconic Building:Eiffel Tower\n"
     ]
    }
   ],
   "source": [
    "#6.11\n",
    "cities = {\n",
    "    'beijing':{\n",
    "        'country':'china',\n",
    "        'population':'21858000',\n",
    "        'fact':'the great wall',\n",
    "        },\n",
    "\n",
    "    'new york':{\n",
    "        'country':'america',\n",
    "        'population':'8340000',\n",
    "        'fact':'statue of liberty',\n",
    "        },\n",
    "\n",
    "    'paris':{\n",
    "        'country':'france',\n",
    "        'population':'2103000',\n",
    "        'fact':'eiffel tower',\n",
    "        }\n",
    "\n",
    "    }\n",
    "\n",
    "for city, city_info in cities.items():\n",
    "    print(f\"\\nName:{city.title()}\")\n",
    "    country = city_info['country']\n",
    "    population = city_info['population']\n",
    "    fact = city_info['fact']\n",
    "    print(f\"\\tBelongs to:{country.title()}\")\n",
    "    print(f\"\\tPopulation:{population.title()}\")\n",
    "    print(f\"\\tIconic Building:{fact.title()}\")"
   ]
  },
  {
   "cell_type": "code",
   "execution_count": 61,
   "id": "c02fe6e5-2adf-4978-b4b6-d08f3b52d976",
   "metadata": {},
   "outputs": [
    {
     "name": "stdout",
     "output_type": "stream",
     "text": [
      "\n",
      "Username:aeinstein\n",
      "Wellcome!\n",
      "\n",
      "Sorry, you need to register a count!\n",
      "\n",
      "Username:mcurie\n",
      "Wellcome!\n"
     ]
    }
   ],
   "source": [
    "users = {\n",
    "    'aeinstein':{\n",
    "        'first':'albert',\n",
    "        'last':'einstein',\n",
    "        'location':'princeton',\n",
    "        'age':'4',\n",
    "        },\n",
    "\n",
    "    'mcurie':{\n",
    "        'first':'marie',\n",
    "        'last':'curie',\n",
    "        'location':'paris',\n",
    "        'age':'20',\n",
    "        },\n",
    "\n",
    "    }\n",
    "list = ['aeinstein','alice','mcurie']\n",
    "for username in list:\n",
    "    if username not in users.keys():\n",
    "        print(f\"\\nSorry, you need to register a count!\")\n",
    "    else:\n",
    "        print(f\"\\nUsername:{username}\")\n",
    "        print(\"Wellcome!\")"
   ]
  }
 ],
 "metadata": {
  "kernelspec": {
   "display_name": "Python 3 (ipykernel)",
   "language": "python",
   "name": "python3"
  },
  "language_info": {
   "codemirror_mode": {
    "name": "ipython",
    "version": 3
   },
   "file_extension": ".py",
   "mimetype": "text/x-python",
   "name": "python",
   "nbconvert_exporter": "python",
   "pygments_lexer": "ipython3",
   "version": "3.11.7"
  }
 },
 "nbformat": 4,
 "nbformat_minor": 5
}
