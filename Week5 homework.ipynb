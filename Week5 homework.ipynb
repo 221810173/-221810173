{
 "cells": [
  {
   "cell_type": "markdown",
   "id": "a430916e-9278-4b59-9b38-2f1fd765cf00",
   "metadata": {},
   "source": [
    "第5章 if语句"
   ]
  },
  {
   "cell_type": "markdown",
   "id": "0629ddfe-21a7-4491-a550-f381e4163d61",
   "metadata": {},
   "source": [
    "5.1 一个简单的示例"
   ]
  },
  {
   "cell_type": "code",
   "execution_count": 1,
   "id": "0cada0e8-f857-4d3e-92fb-d2e998c88299",
   "metadata": {},
   "outputs": [
    {
     "name": "stdout",
     "output_type": "stream",
     "text": [
      "Audi\n",
      "BMW\n",
      "Subaru\n",
      "Toyota\n"
     ]
    }
   ],
   "source": [
    "cars=['audi','bmw','subaru','toyota']\n",
    "\n",
    "for car in cars:\n",
    "    if car == 'bmw':\n",
    "        print(car.upper())\n",
    "    else:\n",
    "        print(car.title())\n",
    "#注意缩进、冒号、等号"
   ]
  },
  {
   "cell_type": "markdown",
   "id": "b60863b1-cdd5-4930-871b-0161d94ff604",
   "metadata": {},
   "source": [
    "5.2 测试条件"
   ]
  },
  {
   "cell_type": "code",
   "execution_count": 2,
   "id": "e86e46b1-e876-4456-8a55-21a50df0844d",
   "metadata": {},
   "outputs": [
    {
     "data": {
      "text/plain": [
       "True"
      ]
     },
     "execution_count": 2,
     "metadata": {},
     "output_type": "execute_result"
    }
   ],
   "source": [
    "car = 'bmw'\n",
    "car == 'bmw'"
   ]
  },
  {
   "cell_type": "code",
   "execution_count": 3,
   "id": "e87179c3-0afa-4cd9-8519-f35d7af2890b",
   "metadata": {},
   "outputs": [
    {
     "data": {
      "text/plain": [
       "False"
      ]
     },
     "execution_count": 3,
     "metadata": {},
     "output_type": "execute_result"
    }
   ],
   "source": [
    "car = 'Audi'\n",
    "car == 'audi'"
   ]
  },
  {
   "cell_type": "code",
   "execution_count": 4,
   "id": "12236790-3d0c-49e7-8b97-6461ea5d557d",
   "metadata": {},
   "outputs": [
    {
     "data": {
      "text/plain": [
       "True"
      ]
     },
     "execution_count": 4,
     "metadata": {},
     "output_type": "execute_result"
    }
   ],
   "source": [
    "car = 'Audi'\n",
    "car.lower() == 'audi'\n",
    "#两个布尔值为真：Ture=1，False=0，代入其他值会输出 False\n",
    " !=意为\"不等\""
   ]
  },
  {
   "cell_type": "code",
   "execution_count": 5,
   "id": "b48f20ac-e28a-4b1f-8992-899a6d6f95ef",
   "metadata": {},
   "outputs": [
    {
     "name": "stdout",
     "output_type": "stream",
     "text": [
      "Audi\n"
     ]
    }
   ],
   "source": [
    "car = 'Audi'\n",
    "car.lower() == 'audi'\n",
    "print(car)\n",
    "#lower方法不会影响变量的值"
   ]
  },
  {
   "cell_type": "code",
   "execution_count": 6,
   "id": "0a12086c-7668-4129-b694-ec2f19230074",
   "metadata": {},
   "outputs": [
    {
     "name": "stdout",
     "output_type": "stream",
     "text": [
      "Hold the anchovies!\n"
     ]
    }
   ],
   "source": [
    "requested_topping = 'mushroom'\n",
    "\n",
    "if requested_topping != 'anchovies':\n",
    "    print(\"Hold the anchovies!\")"
   ]
  },
  {
   "cell_type": "code",
   "execution_count": 7,
   "id": "071f0470-6b5d-4bf6-a10f-9eb05f532287",
   "metadata": {},
   "outputs": [
    {
     "data": {
      "text/plain": [
       "True"
      ]
     },
     "execution_count": 7,
     "metadata": {},
     "output_type": "execute_result"
    }
   ],
   "source": [
    "age = 18\n",
    "age == 18"
   ]
  },
  {
   "cell_type": "code",
   "execution_count": 8,
   "id": "03beba9f-a028-4fec-a014-f976953e7f0f",
   "metadata": {},
   "outputs": [
    {
     "name": "stdout",
     "output_type": "stream",
     "text": [
      "That is not the correct answer. Please try again!\n"
     ]
    }
   ],
   "source": [
    "answer = 17\n",
    "if answer != 42:\n",
    "    print(\"That is not the correct answer. Please try again!\")"
   ]
  },
  {
   "cell_type": "code",
   "execution_count": 9,
   "id": "f89212a2-88ed-4942-94a5-d0bf84d08baf",
   "metadata": {},
   "outputs": [
    {
     "data": {
      "text/plain": [
       "True"
      ]
     },
     "execution_count": 9,
     "metadata": {},
     "output_type": "execute_result"
    }
   ],
   "source": [
    "age = 19\n",
    "age < 21"
   ]
  },
  {
   "cell_type": "code",
   "execution_count": 10,
   "id": "a1f4848c-5d8c-47c2-bed3-a29e8baf1f24",
   "metadata": {},
   "outputs": [
    {
     "data": {
      "text/plain": [
       "True"
      ]
     },
     "execution_count": 10,
     "metadata": {},
     "output_type": "execute_result"
    }
   ],
   "source": [
    "age <= 21"
   ]
  },
  {
   "cell_type": "code",
   "execution_count": 11,
   "id": "9425cf15-2330-4d04-8345-7316fe21d6cd",
   "metadata": {},
   "outputs": [
    {
     "data": {
      "text/plain": [
       "False"
      ]
     },
     "execution_count": 11,
     "metadata": {},
     "output_type": "execute_result"
    }
   ],
   "source": [
    "age > 21"
   ]
  },
  {
   "cell_type": "code",
   "execution_count": 12,
   "id": "18640a1d-727a-4139-8c43-a199c9549ebb",
   "metadata": {},
   "outputs": [
    {
     "data": {
      "text/plain": [
       "False"
      ]
     },
     "execution_count": 12,
     "metadata": {},
     "output_type": "execute_result"
    }
   ],
   "source": [
    "age >= 21"
   ]
  },
  {
   "cell_type": "code",
   "execution_count": 13,
   "id": "c35d72b0-77c3-4086-b46a-172c82f84c26",
   "metadata": {},
   "outputs": [
    {
     "data": {
      "text/plain": [
       "False"
      ]
     },
     "execution_count": 13,
     "metadata": {},
     "output_type": "execute_result"
    }
   ],
   "source": [
    "age_0 = 22\n",
    "age_1 = 18\n",
    "age_0 >= 21 and age_1 >= 21\n",
    "#and 也可以用 &\n",
    " or 也可以用 |\n",
    " 可以在关键字左右加上括号增强可读性"
   ]
  },
  {
   "cell_type": "code",
   "execution_count": 16,
   "id": "69ef0232-455b-4cc0-8b05-4ec421c877da",
   "metadata": {},
   "outputs": [
    {
     "data": {
      "text/plain": [
       "True"
      ]
     },
     "execution_count": 16,
     "metadata": {},
     "output_type": "execute_result"
    }
   ],
   "source": [
    "age_1 = 22\n",
    "age_0 >= 21 and age_1 >= 21"
   ]
  },
  {
   "cell_type": "code",
   "execution_count": 17,
   "id": "1ace23c4-5b81-4b2d-b368-166cdc2c365e",
   "metadata": {},
   "outputs": [
    {
     "data": {
      "text/plain": [
       "True"
      ]
     },
     "execution_count": 17,
     "metadata": {},
     "output_type": "execute_result"
    }
   ],
   "source": [
    "age_0 = 22\n",
    "age_1 = 18\n",
    "age_0 >= 21 or age_1 >= 21"
   ]
  },
  {
   "cell_type": "code",
   "execution_count": 18,
   "id": "00d383ff-33a9-43d8-8d0c-5fdbcf533010",
   "metadata": {},
   "outputs": [
    {
     "data": {
      "text/plain": [
       "False"
      ]
     },
     "execution_count": 18,
     "metadata": {},
     "output_type": "execute_result"
    }
   ],
   "source": [
    "age_0 = 18\n",
    "age_0 >= 21 or age_1 >= 21"
   ]
  },
  {
   "cell_type": "code",
   "execution_count": 22,
   "id": "2559a365-89e1-4884-bbda-ba5f6e9204a4",
   "metadata": {},
   "outputs": [
    {
     "data": {
      "text/plain": [
       "True"
      ]
     },
     "execution_count": 22,
     "metadata": {},
     "output_type": "execute_result"
    }
   ],
   "source": [
    "requested_toppings = ['mushroom','onions','pineapple']\n",
    "'mushroom' in requested_topping"
   ]
  },
  {
   "cell_type": "code",
   "execution_count": 23,
   "id": "1939ddab-47f1-4f20-9b97-b5e46b2340a7",
   "metadata": {},
   "outputs": [
    {
     "data": {
      "text/plain": [
       "False"
      ]
     },
     "execution_count": 23,
     "metadata": {},
     "output_type": "execute_result"
    }
   ],
   "source": [
    "'pepperoni' in requested_toppings"
   ]
  },
  {
   "cell_type": "code",
   "execution_count": 24,
   "id": "0cc0028b-200f-4992-9d00-b79ef7c2c097",
   "metadata": {},
   "outputs": [
    {
     "name": "stdout",
     "output_type": "stream",
     "text": [
      "Marie, you can post a response if you wish.\n"
     ]
    }
   ],
   "source": [
    "banned_users = ['andrew','carolina','david']\n",
    "user = 'marie'\n",
    "\n",
    "if user not in banned_users:\n",
    "    print(f\"{user.title()}, you can post a response if you wish.\")"
   ]
  },
  {
   "cell_type": "code",
   "execution_count": 27,
   "id": "e8abb05a-e9ea-4079-ad51-c19b6a6f3f4e",
   "metadata": {},
   "outputs": [
    {
     "name": "stdout",
     "output_type": "stream",
     "text": [
      "True\n"
     ]
    }
   ],
   "source": [
    "#布尔表达式/条件测试\n",
    "screen_active = True\n",
    "game_paused = False\n",
    "game_active = screen_active and not game_paused\n",
    "print(game_active)"
   ]
  },
  {
   "cell_type": "code",
   "execution_count": 29,
   "id": "ac393e0e-6e8a-44d4-9324-739f3745e8b2",
   "metadata": {},
   "outputs": [
    {
     "name": "stdout",
     "output_type": "stream",
     "text": [
      "False\n"
     ]
    }
   ],
   "source": [
    "admin_user = False\n",
    "owner_user = False\n",
    "can_edit = admin_user or owner_user\n",
    "print(can_edit)"
   ]
  },
  {
   "cell_type": "markdown",
   "id": "117f3142-a7c5-4906-ba84-2e8e3f8a1e9e",
   "metadata": {},
   "source": [
    "练习"
   ]
  },
  {
   "cell_type": "code",
   "execution_count": 22,
   "id": "5d18dcbf-514b-4a38-be53-a0e891c18dbf",
   "metadata": {},
   "outputs": [
    {
     "name": "stdout",
     "output_type": "stream",
     "text": [
      "Is milktea == 'bawangchaji'? I predict True.\n",
      "True\n",
      "Is milktea == 'sevenbus'? I predict False.\n",
      "False\n"
     ]
    }
   ],
   "source": [
    "#5.1\n",
    "milktea = 'bawangchaji'\n",
    "print(\"Is milktea == 'bawangchaji'? I predict True.\")\n",
    "print(milktea == 'bawangchaji')\n",
    "\n",
    "print(\"Is milktea == 'sevenbus'? I predict False.\")\n",
    "print(milktea == 'sevenbus')"
   ]
  },
  {
   "cell_type": "code",
   "execution_count": 23,
   "id": "556cf0c0-3ebf-4b51-ac2e-7832d784e02a",
   "metadata": {},
   "outputs": [
    {
     "data": {
      "text/plain": [
       "True"
      ]
     },
     "execution_count": 23,
     "metadata": {},
     "output_type": "execute_result"
    }
   ],
   "source": [
    "#5.2\n",
    "milktea = 'xicha'\n",
    "milktea == 'xicha'"
   ]
  },
  {
   "cell_type": "code",
   "execution_count": 24,
   "id": "b93df479-1243-4538-a473-449cdc97a5fc",
   "metadata": {},
   "outputs": [
    {
     "data": {
      "text/plain": [
       "False"
      ]
     },
     "execution_count": 24,
     "metadata": {},
     "output_type": "execute_result"
    }
   ],
   "source": [
    "#5.2\n",
    "milktea = 'xicha'\n",
    "milktea == 'chabaidao'"
   ]
  },
  {
   "cell_type": "code",
   "execution_count": 25,
   "id": "9ddf120c-02d5-4dc1-8ed3-e551b746fce9",
   "metadata": {},
   "outputs": [
    {
     "data": {
      "text/plain": [
       "True"
      ]
     },
     "execution_count": 25,
     "metadata": {},
     "output_type": "execute_result"
    }
   ],
   "source": [
    "#5.2\n",
    "milktea = 'Xicha'\n",
    "milktea.lower() == 'xicha'"
   ]
  },
  {
   "cell_type": "code",
   "execution_count": 33,
   "id": "b3a40b23-f4ee-4b1f-a2e9-f710adb7e4ef",
   "metadata": {},
   "outputs": [
    {
     "data": {
      "text/plain": [
       "False"
      ]
     },
     "execution_count": 33,
     "metadata": {},
     "output_type": "execute_result"
    }
   ],
   "source": [
    "#5.2\n",
    "height = 175\n",
    "height == 180"
   ]
  },
  {
   "cell_type": "code",
   "execution_count": 34,
   "id": "672630c4-fd53-4b33-aa2f-8c9be4bf6703",
   "metadata": {},
   "outputs": [
    {
     "data": {
      "text/plain": [
       "True"
      ]
     },
     "execution_count": 34,
     "metadata": {},
     "output_type": "execute_result"
    }
   ],
   "source": [
    "#5.2\n",
    "height = 175\n",
    "height != 180"
   ]
  },
  {
   "cell_type": "code",
   "execution_count": 31,
   "id": "213a4ba8-cdcf-4ac5-891c-de9f328bba1d",
   "metadata": {},
   "outputs": [
    {
     "data": {
      "text/plain": [
       "True"
      ]
     },
     "execution_count": 31,
     "metadata": {},
     "output_type": "execute_result"
    }
   ],
   "source": [
    "#5.2\n",
    "height = 175\n",
    "height < 180"
   ]
  },
  {
   "cell_type": "code",
   "execution_count": 27,
   "id": "53faa2df-f232-4be7-b717-6b9c05b1418a",
   "metadata": {},
   "outputs": [
    {
     "data": {
      "text/plain": [
       "True"
      ]
     },
     "execution_count": 27,
     "metadata": {},
     "output_type": "execute_result"
    }
   ],
   "source": [
    "#5.2\n",
    "height = 175\n",
    "height <= 180"
   ]
  },
  {
   "cell_type": "code",
   "execution_count": 28,
   "id": "7110045b-40de-4fe5-bb99-b9a00bce86c1",
   "metadata": {},
   "outputs": [
    {
     "data": {
      "text/plain": [
       "False"
      ]
     },
     "execution_count": 28,
     "metadata": {},
     "output_type": "execute_result"
    }
   ],
   "source": [
    "#5.2\n",
    "height = 175\n",
    "height > 180"
   ]
  },
  {
   "cell_type": "code",
   "execution_count": 29,
   "id": "5298d6d9-1727-45c5-a5fd-f5e8f6f200d1",
   "metadata": {},
   "outputs": [
    {
     "data": {
      "text/plain": [
       "False"
      ]
     },
     "execution_count": 29,
     "metadata": {},
     "output_type": "execute_result"
    }
   ],
   "source": [
    "#5.2\n",
    "height = 175\n",
    "height >= 180"
   ]
  },
  {
   "cell_type": "code",
   "execution_count": 35,
   "id": "a813c2d5-6b5b-49b9-a201-6a803fe86d54",
   "metadata": {},
   "outputs": [
    {
     "data": {
      "text/plain": [
       "False"
      ]
     },
     "execution_count": 35,
     "metadata": {},
     "output_type": "execute_result"
    }
   ],
   "source": [
    "height_0 = 175\n",
    "height_1 = 185\n",
    "height_0 >= 180 and height_1 >= 180"
   ]
  },
  {
   "cell_type": "code",
   "execution_count": 36,
   "id": "3cfd66cb-c307-4086-afbe-4799406f5044",
   "metadata": {},
   "outputs": [
    {
     "data": {
      "text/plain": [
       "True"
      ]
     },
     "execution_count": 36,
     "metadata": {},
     "output_type": "execute_result"
    }
   ],
   "source": [
    "height_0 = 175\n",
    "height_1 = 185\n",
    "height_0 >= 180 or height_1 >= 180"
   ]
  },
  {
   "cell_type": "code",
   "execution_count": 37,
   "id": "ab634745-f7d2-4b4e-9f50-f27c6a8fe4f2",
   "metadata": {},
   "outputs": [
    {
     "data": {
      "text/plain": [
       "True"
      ]
     },
     "execution_count": 37,
     "metadata": {},
     "output_type": "execute_result"
    }
   ],
   "source": [
    "milkteas = ['chabaidao','xicha','bawangchaji']\n",
    "'xicha' in milkteas"
   ]
  },
  {
   "cell_type": "code",
   "execution_count": 38,
   "id": "ce83c10c-0d90-4437-96cf-3ca2557a4471",
   "metadata": {},
   "outputs": [
    {
     "data": {
      "text/plain": [
       "False"
      ]
     },
     "execution_count": 38,
     "metadata": {},
     "output_type": "execute_result"
    }
   ],
   "source": [
    "milkteas = ['chabaidao','xicha','bawangchaji']\n",
    "'mixuebingcheng' in milkteas"
   ]
  },
  {
   "cell_type": "markdown",
   "id": "d1f9740f-d1f1-4745-b06b-a378bdad4382",
   "metadata": {},
   "source": [
    "5.3 if 语句"
   ]
  },
  {
   "cell_type": "code",
   "execution_count": 31,
   "id": "baf27c4d-3428-4b98-b982-d040ff7e3433",
   "metadata": {},
   "outputs": [
    {
     "name": "stdout",
     "output_type": "stream",
     "text": [
      "You are old enough to vote!\n",
      "Have you registered to vote yet?\n"
     ]
    }
   ],
   "source": [
    "age = 19\n",
    "if age >= 18:\n",
    "    print(\"You are old enough to vote!\")\n",
    "    print(\"Have you registered to vote yet?\")"
   ]
  },
  {
   "cell_type": "code",
   "execution_count": 33,
   "id": "edf3078e-1cd5-40f1-ada2-cc4b1bed7d95",
   "metadata": {},
   "outputs": [
    {
     "name": "stdout",
     "output_type": "stream",
     "text": [
      "Sorry,you are too young to vote.\n",
      "Please register to vote as soon as you turn 18!\n"
     ]
    }
   ],
   "source": [
    "age = 17\n",
    "if age >= 18:\n",
    "    print(\"You are old enough to vote!\")\n",
    "    print(\"Have you registered to vote yet?\")\n",
    "else:\n",
    "    print(\"Sorry,you are too young to vote.\")\n",
    "    print(\"Please register to vote as soon as you turn 18!\")"
   ]
  },
  {
   "cell_type": "code",
   "execution_count": 34,
   "id": "769c752d-49e2-481e-8d4d-87cc34b1382a",
   "metadata": {},
   "outputs": [
    {
     "name": "stdout",
     "output_type": "stream",
     "text": [
      "Your admission cost is $25.\n"
     ]
    }
   ],
   "source": [
    "age = 12\n",
    "if age < 4:\n",
    "    print(\"Your admission cost is $0.\")\n",
    "elif age < 18:\n",
    "    print(\"Your admission cost is $25.\")\n",
    "else:\n",
    "    print(\"Your admisstion cost is $40.\")"
   ]
  },
  {
   "cell_type": "code",
   "execution_count": 1,
   "id": "059f7d4a-3caa-4c05-b76a-04e7f611c97f",
   "metadata": {},
   "outputs": [
    {
     "name": "stdout",
     "output_type": "stream",
     "text": [
      "Your admission cost is $25.\n"
     ]
    }
   ],
   "source": [
    "age = 12\n",
    "\n",
    "if age < 4:\n",
    "    price = 0\n",
    "elif age < 18:\n",
    "    price = 25\n",
    "else:\n",
    "    price = 40\n",
    "\n",
    "print(f\"Your admission cost is ${price}.\")"
   ]
  },
  {
   "cell_type": "code",
   "execution_count": 2,
   "id": "1787e7c9-ef30-4180-8867-af155afafa83",
   "metadata": {},
   "outputs": [
    {
     "name": "stdout",
     "output_type": "stream",
     "text": [
      "Your admission cost is $25.\n"
     ]
    }
   ],
   "source": [
    "age = 12\n",
    "\n",
    "if age < 4:\n",
    "    price = 0\n",
    "elif age < 18:\n",
    "    price = 25\n",
    "elif age < 65:\n",
    "    price = 40\n",
    "else:\n",
    "    price = 20\n",
    "\n",
    "print(f\"Your admission cost is ${price}.\")"
   ]
  },
  {
   "cell_type": "code",
   "execution_count": 4,
   "id": "cc21dfb6-00cf-4273-b904-24deedfe74fd",
   "metadata": {},
   "outputs": [
    {
     "name": "stdout",
     "output_type": "stream",
     "text": [
      "Your admission cost is $25.\n"
     ]
    }
   ],
   "source": [
    "#省略 else的代码块\n",
    "age = 12\n",
    "\n",
    "if age < 4:\n",
    "    price = 0\n",
    "elif age < 18:\n",
    "    price = 25\n",
    "elif age < 65:\n",
    "    price = 40\n",
    "elif age >= 65:\n",
    "    price = 20\n",
    "\n",
    "print(f\"Your admission cost is ${price}.\")"
   ]
  },
  {
   "cell_type": "code",
   "execution_count": 7,
   "id": "bf9c94ba-0131-46b5-8661-c99adf1ebe5e",
   "metadata": {},
   "outputs": [
    {
     "name": "stdout",
     "output_type": "stream",
     "text": [
      "Adding mushrooms.\n",
      "Adding extra cheese.\n",
      "\n",
      "Finished making your pizza!\n"
     ]
    }
   ],
   "source": [
    "requested_toppings = ['mushrooms','extra cheese']\n",
    "\n",
    "if 'mushrooms' in requested_toppings:\n",
    "    print(\"Adding mushrooms.\")\n",
    "if 'pepperoni' in requested_toppings:\n",
    "    print(\"Adding pepperoni.\")\n",
    "if 'extra cheese' in requested_toppings:\n",
    "    print(\"Adding extra cheese.\")\n",
    "\n",
    "print(\"\\nFinished making your pizza!\")"
   ]
  },
  {
   "cell_type": "code",
   "execution_count": 8,
   "id": "130be4d1-b1d8-4618-b1a8-b3c08a63f467",
   "metadata": {},
   "outputs": [
    {
     "name": "stdout",
     "output_type": "stream",
     "text": [
      "Adding mushrooms.\n",
      "\n",
      "Finished making your pizza!\n"
     ]
    }
   ],
   "source": [
    "requested_toppings = ['mushrooms','extra cheese']\n",
    "\n",
    "if 'mushrooms' in requested_toppings:\n",
    "    print(\"Adding mushrooms.\")\n",
    "elif 'pepperoni' in requested_toppings:\n",
    "    print(\"Adding pepperoni.\")\n",
    "elif 'extra cheese' in requested_toppings:\n",
    "#多个代码块不能用 elif 语句，其含义为不满足前面所有条件才执行下面的语句\n",
    "    print(\"Adding extra cheese.\")\n",
    "\n",
    "print(\"\\nFinished making your pizza!\")"
   ]
  },
  {
   "cell_type": "markdown",
   "id": "a3637f8e-d604-49ef-80a0-a81c925750a8",
   "metadata": {},
   "source": [
    "练习"
   ]
  },
  {
   "cell_type": "code",
   "execution_count": 47,
   "id": "29dea645-a225-4111-b69d-edc0768276d9",
   "metadata": {},
   "outputs": [
    {
     "name": "stdout",
     "output_type": "stream",
     "text": [
      "You got 5 points!\n"
     ]
    }
   ],
   "source": [
    "#5.3\n",
    "alien_color = 'green'\n",
    "if alien_color == 'green':\n",
    "    print(\"You got 5 points!\")\n",
    "\n",
    "alien_color = 'yellow'\n",
    "if alien_color == 'green':\n",
    "    print(\"You got 5 points!\")\n",
    "\n",
    "alien_color = 'red'\n",
    "if alien_color == 'green':\n",
    "    print(\"You got 5 points!\")"
   ]
  },
  {
   "cell_type": "code",
   "execution_count": 48,
   "id": "ed09727d-e832-476b-9102-b96a760c7e15",
   "metadata": {},
   "outputs": [
    {
     "name": "stdout",
     "output_type": "stream",
     "text": [
      "You got 5 points!\n",
      "You got 10 points!\n",
      "You got 10 points!\n"
     ]
    }
   ],
   "source": [
    "#5.4\n",
    "alien_color = 'green'\n",
    "if alien_color == 'green':\n",
    "    print(\"You got 5 points!\")\n",
    "else:\n",
    "    print(\"You got 10 points!\")\n",
    "    \n",
    "alien_color = 'yellow'\n",
    "if alien_color == 'green':\n",
    "    print(\"You got 5 points!\")\n",
    "else:\n",
    "    print(\"You got 10 points!\")\n",
    "\n",
    "alien_color = 'red'\n",
    "if alien_color == 'green':\n",
    "    print(\"You got 5 points!\")\n",
    "else:\n",
    "    print(\"You got 10 points!\")"
   ]
  },
  {
   "cell_type": "code",
   "execution_count": 46,
   "id": "75361a82-ff1b-4bb0-a828-a420618cecca",
   "metadata": {},
   "outputs": [
    {
     "name": "stdout",
     "output_type": "stream",
     "text": [
      "You got 5 points!\n",
      "You got 10 points!\n",
      "You got 15 points!\n"
     ]
    }
   ],
   "source": [
    "#5.5\n",
    "alien_color = 'green'\n",
    "if alien_color == 'green':\n",
    "    print(\"You got 5 points!\")\n",
    "elif alien_color == 'yellow':\n",
    "    print(\"You got 10 points!\")\n",
    "else:\n",
    "    print(\"You got 15 points!\")\n",
    "\n",
    "alien_color = 'yellow'\n",
    "if alien_color == 'green':\n",
    "    print(\"You got 5 points!\")\n",
    "elif alien_color == 'yellow':\n",
    "    print(\"You got 10 points!\")\n",
    "else:\n",
    "    print(\"You got 15 points!\")\n",
    "\n",
    "alien_color = 'red'\n",
    "if alien_color == 'green':\n",
    "    print(\"You got 5 points!\")\n",
    "elif alien_color == 'yellow':\n",
    "    print(\"You got 10 points!\")\n",
    "else:\n",
    "    print(\"You got 15 points!\")"
   ]
  },
  {
   "cell_type": "code",
   "execution_count": 53,
   "id": "2d3c987f-5288-4f13-a290-02aba059e659",
   "metadata": {},
   "outputs": [
    {
     "name": "stdout",
     "output_type": "stream",
     "text": [
      "你是婴儿\n",
      "你是幼儿\n",
      "你是儿童\n",
      "你是少年\n",
      "你是中青年人\n",
      "你是老年人\n"
     ]
    }
   ],
   "source": [
    "#5.6\n",
    "age = 1\n",
    "if age < 2:\n",
    "    print(\"你是婴儿\")\n",
    "elif age < 4:\n",
    "    print(\"你是幼儿\")\n",
    "elif age < 13:\n",
    "    print(\"你是儿童\")\n",
    "elif age < 18:\n",
    "    print(\"你是少年\")\n",
    "elif age < 65:\n",
    "    print(\"你是中青年人\")\n",
    "else:\n",
    "    print(\"你是老年人\")\n",
    "\n",
    "age = 3\n",
    "if age < 2:\n",
    "    print(\"你是婴儿\")\n",
    "elif age < 4:\n",
    "    print(\"你是幼儿\")\n",
    "elif age < 13:\n",
    "    print(\"你是儿童\")\n",
    "elif age < 18:\n",
    "    print(\"你是少年\")\n",
    "elif age < 65:\n",
    "    print(\"你是中青年人\")\n",
    "else:\n",
    "    print(\"你是老年人\")  \n",
    "\n",
    "age = 8\n",
    "if age < 2:\n",
    "    print(\"你是婴儿\")\n",
    "elif age < 4:\n",
    "    print(\"你是幼儿\")\n",
    "elif age < 13:\n",
    "    print(\"你是儿童\")\n",
    "elif age < 18:\n",
    "    print(\"你是少年\")\n",
    "elif age < 65:\n",
    "    print(\"你是中青年人\")\n",
    "else:\n",
    "    print(\"你是老年人\")\n",
    "\n",
    "age = 15\n",
    "if age < 2:\n",
    "    print(\"你是婴儿\")\n",
    "elif age < 4:\n",
    "    print(\"你是幼儿\")\n",
    "elif age < 13:\n",
    "    print(\"你是儿童\")\n",
    "elif age < 18:\n",
    "    print(\"你是少年\")\n",
    "elif age < 65:\n",
    "    print(\"你是中青年人\")\n",
    "else:\n",
    "    print(\"你是老年人\")\n",
    "\n",
    "age = 34\n",
    "if age < 2:\n",
    "    print(\"你是婴儿\")\n",
    "elif age < 4:\n",
    "    print(\"你是幼儿\")\n",
    "elif age < 13:\n",
    "    print(\"你是儿童\")\n",
    "elif age < 18:\n",
    "    print(\"你是少年\")\n",
    "elif age < 65:\n",
    "    print(\"你是中青年人\")\n",
    "else:\n",
    "    print(\"你是老年人\")\n",
    "\n",
    "age = 77\n",
    "if age < 2:\n",
    "    print(\"你是婴儿\")\n",
    "elif age < 4:\n",
    "    print(\"你是幼儿\")\n",
    "elif age < 13:\n",
    "    print(\"你是儿童\")\n",
    "elif age < 18:\n",
    "    print(\"你是少年\")\n",
    "elif age < 65:\n",
    "    print(\"你是中青年人\")\n",
    "else:\n",
    "    print(\"你是老年人\")"
   ]
  },
  {
   "cell_type": "code",
   "execution_count": 55,
   "id": "bbd84f08-84b5-4491-99fb-9bb04ddad207",
   "metadata": {},
   "outputs": [
    {
     "name": "stdout",
     "output_type": "stream",
     "text": [
      "You really like bananas!\n",
      "You really like apples!\n"
     ]
    }
   ],
   "source": [
    "#5.7\n",
    "favorite_fruits = ['bananas','strawberries','apples']\n",
    "if 'bananas' in favorite_fruits:\n",
    "    print(\"You really like bananas!\")\n",
    "\n",
    "if 'groups' in favorite_fruits:\n",
    "    print(\"You really like groups!\")\n",
    "\n",
    "if 'apples' in favorite_fruits:\n",
    "    print(\"You really like apples!\")\n",
    "\n",
    "if 'pears' in favorite_fruits:\n",
    "    print(\"You really like pears!\")\n",
    "\n",
    "if 'watermelons' in favorite_fruits:\n",
    "    print(\"You really like watermelons!\")"
   ]
  },
  {
   "cell_type": "markdown",
   "id": "2fc24b60-84d7-43cc-98a8-e8abb6d184fb",
   "metadata": {},
   "source": [
    "5.4 使用if语句处理列表"
   ]
  },
  {
   "cell_type": "code",
   "execution_count": 10,
   "id": "e98ceb32-c529-4e5e-9cb0-02a8bdb4133e",
   "metadata": {},
   "outputs": [
    {
     "name": "stdout",
     "output_type": "stream",
     "text": [
      "Adding mushrooms.\n",
      "Adding green peppers.\n",
      "Adding extra cheese.\n",
      "\n",
      "Finished making your pizza!\n"
     ]
    }
   ],
   "source": [
    "requested_toppings = ['mushrooms','green peppers','extra cheese']\n",
    "\n",
    "for requested_topping in requested_toppings:\n",
    "    print(f\"Adding {requested_topping}.\")\n",
    "\n",
    "print(\"\\nFinished making your pizza!\")"
   ]
  },
  {
   "cell_type": "code",
   "execution_count": 14,
   "id": "b4f6c478-420b-443f-99dd-d75321313052",
   "metadata": {},
   "outputs": [
    {
     "name": "stdout",
     "output_type": "stream",
     "text": [
      "Adding mushrooms.\n",
      "Sorry, we are out of green peppers right now.\n",
      "Adding extra cheese.\n",
      "\n",
      "Finished making your pizza!\n"
     ]
    }
   ],
   "source": [
    "requested_toppings = ['mushrooms','green peppers','extra cheese']\n",
    "\n",
    "for requested_topping in requested_toppings:\n",
    "    if requested_topping == 'green peppers':\n",
    "        print(\"Sorry, we are out of green peppers right now.\")\n",
    "    else:\n",
    "        print(f\"Adding {requested_topping}.\")\n",
    "\n",
    "print(\"\\nFinished making your pizza!\")"
   ]
  },
  {
   "cell_type": "code",
   "execution_count": 18,
   "id": "9a0733e6-7c46-4fbf-957f-4ccc30a065f3",
   "metadata": {},
   "outputs": [
    {
     "name": "stdout",
     "output_type": "stream",
     "text": [
      "Are you sure you want a plain pizza?\n"
     ]
    }
   ],
   "source": [
    "requested_toppings = []\n",
    "#数值0、空值None、空字符串\"\"、空列表[]、空元组()、空字典{}用作条件表达式时，Python都会返回 False\n",
    "\n",
    "if requested_toppings:\n",
    "    for requested_topping in requested_toppings:\n",
    "        print(f\"Adding {requested_topping}.\")\n",
    "    print(\"\\nFinished making your pizza!\")\n",
    "else:\n",
    "    print(\"Are you sure you want a plain pizza?\")"
   ]
  },
  {
   "cell_type": "code",
   "execution_count": 20,
   "id": "a58c0a45-ba9a-4517-88a2-717d68e1e128",
   "metadata": {},
   "outputs": [
    {
     "name": "stdout",
     "output_type": "stream",
     "text": [
      "Adding mushrooms.\n",
      "Sorry, we don't have french fries.\n",
      "Adding extra cheese.\n",
      "\n",
      "Finished making your pizza!\n"
     ]
    }
   ],
   "source": [
    "available_toppings = ['mushrooms','olive','green peppers',\n",
    "                      'pepperoni','pineapple','extra cheese']\n",
    "#换行要对齐\n",
    "requested_toppings = ['mushrooms','french fries','extra cheese']\n",
    "\n",
    "for requested_topping in requested_toppings:\n",
    "    if requested_topping in available_toppings:\n",
    "        print(f\"Adding {requested_topping}.\")\n",
    "    else:\n",
    "        print(f\"Sorry, we don't have {requested_topping}.\")\n",
    "        \n",
    "print(\"\\nFinished making your pizza!\")"
   ]
  },
  {
   "cell_type": "markdown",
   "id": "615a9b6d-bd1a-48de-8fee-9e8337091635",
   "metadata": {},
   "source": [
    "练习"
   ]
  },
  {
   "cell_type": "code",
   "execution_count": 57,
   "id": "fce86790-b214-4acc-aded-1ebfa54b0cfb",
   "metadata": {},
   "outputs": [
    {
     "name": "stdout",
     "output_type": "stream",
     "text": [
      "Hello Jaden, thank you for logging in again.\n",
      "Hello Alice, thank you for logging in again.\n",
      "Hello admin, would you like to see a status report?\n",
      "Hello Bob, thank you for logging in again.\n",
      "Hello Alex, thank you for logging in again.\n"
     ]
    }
   ],
   "source": [
    "#5.8\n",
    "users = ['jaden','alice','admin','bob','alex']\n",
    "for user in users:\n",
    "    if user == 'admin':\n",
    "        print(\"Hello admin, would you like to see a status report?\")\n",
    "    else:\n",
    "        print(f\"Hello {user.title()}, thank you for logging in again.\")"
   ]
  },
  {
   "cell_type": "code",
   "execution_count": 64,
   "id": "58b1dae5-9a0b-4675-bc08-703a9ffbad66",
   "metadata": {},
   "outputs": [
    {
     "name": "stdout",
     "output_type": "stream",
     "text": [
      "We need to find some users!\n"
     ]
    }
   ],
   "source": [
    "#5.9\n",
    "users = []\n",
    "for user in users:\n",
    "    if user == 'admin':\n",
    "        print(\"Hello admin, would you like to see a status report?\")\n",
    "    else:\n",
    "        print(f\"Hello {user.title()}, thank you for logging in again.\")\n",
    "if users == []:\n",
    "    print(\"We need to find some users!\")"
   ]
  },
  {
   "cell_type": "code",
   "execution_count": 66,
   "id": "a8cd6116-a08a-4dd8-9bbd-21c48f264748",
   "metadata": {},
   "outputs": [
    {
     "name": "stdout",
     "output_type": "stream",
     "text": [
      "此用户名可以使用！\n",
      "此用户名已被使用，请换一个试试！\n",
      "此用户名可以使用！\n",
      "此用户名可以使用！\n",
      "此用户名已被使用，请换一个试试！\n"
     ]
    }
   ],
   "source": [
    "#5.10\n",
    "current_users = ['john','merry','eric','flank','helen']\n",
    "new_users = ['alice','John','Bob','kitty','ERIC']\n",
    "for user in new_users:\n",
    "    if user.lower() in current_users:\n",
    "        print(\"此用户名已被使用，请换一个试试！\")\n",
    "    else:\n",
    "        print(\"此用户名可以使用！\")"
   ]
  },
  {
   "cell_type": "code",
   "execution_count": 67,
   "id": "c43a0610-2552-4f6e-98c9-4febe9e188eb",
   "metadata": {},
   "outputs": [
    {
     "name": "stdout",
     "output_type": "stream",
     "text": [
      "1st\n",
      "2nd\n",
      "3rd\n",
      "4th\n",
      "5th\n",
      "6th\n",
      "7th\n",
      "8th\n",
      "9th\n"
     ]
    }
   ],
   "source": [
    "#5.11\n",
    "numbers = range(1,10)\n",
    "for number in numbers:\n",
    "    if number == 1:\n",
    "        print(\"1st\")\n",
    "    elif number == 2:\n",
    "        print(\"2nd\")\n",
    "    elif number == 3:\n",
    "        print(\"3rd\")\n",
    "    else:\n",
    "        print(f\"{number}th\")"
   ]
  },
  {
   "cell_type": "markdown",
   "id": "52bb53fc-4dad-4649-b354-2d621843a7f4",
   "metadata": {},
   "source": [
    "5.5 设置if语句的格式"
   ]
  },
  {
   "cell_type": "code",
   "execution_count": null,
   "id": "b35b49c1-15a4-4992-9d7d-3fa04f841fc9",
   "metadata": {},
   "outputs": [],
   "source": [
    "#if age < 4: 要比 if age<4: 好\n",
    "#==、<=、>=等比较运算符两边添加空格更便于阅读"
   ]
  }
 ],
 "metadata": {
  "kernelspec": {
   "display_name": "Python 3 (ipykernel)",
   "language": "python",
   "name": "python3"
  },
  "language_info": {
   "codemirror_mode": {
    "name": "ipython",
    "version": 3
   },
   "file_extension": ".py",
   "mimetype": "text/x-python",
   "name": "python",
   "nbconvert_exporter": "python",
   "pygments_lexer": "ipython3",
   "version": "3.11.7"
  }
 },
 "nbformat": 4,
 "nbformat_minor": 5
}
