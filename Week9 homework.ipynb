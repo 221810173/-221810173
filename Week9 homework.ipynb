{
 "cells": [
  {
   "cell_type": "markdown",
   "id": "abf30e50-a86d-46bf-9239-a84cc8e51491",
   "metadata": {},
   "source": [
    "第9章 类"
   ]
  },
  {
   "cell_type": "markdown",
   "id": "ff54ad46-ed0b-4cdc-8bdb-b76e66499f09",
   "metadata": {},
   "source": [
    "9.1 创建和使用类"
   ]
  },
  {
   "cell_type": "code",
   "execution_count": 7,
   "id": "8eab28d2-5687-49ad-9500-4ed3502bde42",
   "metadata": {},
   "outputs": [
    {
     "name": "stdout",
     "output_type": "stream",
     "text": [
      "My dog's name is Willie.\n",
      "My dog is 6 years old.\n"
     ]
    }
   ],
   "source": [
    "class Dog:#创建类\n",
    "    \"\"\"一次模拟小狗的单独尝试\"\"\"\n",
    "    def __init__(self, name, age):#初始化实例的函数，左右两个横线，注意与int函数区分，self为固定形参，自动传递实例，剩余的形参为属性\n",
    "        \"\"\"初始化属性name和age\"\"\"\n",
    "        self.name = name\n",
    "        self.age = age\n",
    "    def sit(self):#方法，不能遗漏self\n",
    "        \"\"\"模拟小狗收到命令时坐下\"\"\"\n",
    "        print(f\"{self.name} is now sitting.\")\n",
    "    def roll_over(self):\n",
    "        \"\"\"模拟小狗收到命令时打滚\"\"\"\n",
    "        print(f\"{self.name} rolled over!\")\n",
    "\n",
    "my_dog = Dog('Willie', 6)\n",
    "\n",
    "print(f\"My dog's name is {my_dog.name}.\")\n",
    "print(f\"My dog is {my_dog.age} years old.\")"
   ]
  },
  {
   "cell_type": "code",
   "execution_count": 8,
   "id": "6653d3e2-5b97-4457-90d0-600d2a876b3a",
   "metadata": {},
   "outputs": [
    {
     "name": "stdout",
     "output_type": "stream",
     "text": [
      "Willie is now sitting.\n",
      "Willie rolled over!\n"
     ]
    }
   ],
   "source": [
    "class Dog:\n",
    "    \"\"\"一次模拟小狗的单独尝试\"\"\"\n",
    "    def __init__(self, name, age):\n",
    "        \"\"\"初始化属性name和age\"\"\"\n",
    "        self.name = name\n",
    "        self.age = age\n",
    "    def sit(self):\n",
    "        \"\"\"模拟小狗收到命令时坐下\"\"\"\n",
    "        print(f\"{self.name} is now sitting.\")\n",
    "    def roll_over(self):\n",
    "        \"\"\"模拟小狗收到命令时打滚\"\"\"\n",
    "        print(f\"{self.name} rolled over!\")\n",
    "\n",
    "my_dog = Dog('Willie', 6)\n",
    "my_dog.sit()#注意调用类中函数的格式与调用常规函数格式不同\n",
    "my_dog.roll_over()"
   ]
  },
  {
   "cell_type": "code",
   "execution_count": 10,
   "id": "a6ce7a5b-845f-418d-b320-4eb2e4f37253",
   "metadata": {},
   "outputs": [
    {
     "name": "stdout",
     "output_type": "stream",
     "text": [
      "My dog's name is Willie.\n",
      "My dog is 6 years old.\n",
      "Willie is now sitting.\n",
      "\n",
      "Your dog's name is Lucy.\n",
      "Your dog is 3 years old.\n",
      "Lucy is now sitting.\n"
     ]
    }
   ],
   "source": [
    "#创建多个实例\n",
    "class Dog:\n",
    "    \"\"\"一次模拟小狗的单独尝试\"\"\"\n",
    "    def __init__(self, name, age):\n",
    "        \"\"\"初始化属性name和age\"\"\"\n",
    "        self.name = name\n",
    "        self.age = age\n",
    "    def sit(self):\n",
    "        \"\"\"模拟小狗收到命令时坐下\"\"\"\n",
    "        print(f\"{self.name} is now sitting.\")\n",
    "    def roll_over(self):\n",
    "        \"\"\"模拟小狗收到命令时打滚\"\"\"\n",
    "        print(f\"{self.name} rolled over!\")\n",
    "\n",
    "my_dog = Dog('Willie', 6)\n",
    "your_dog = Dog('Lucy', 3)\n",
    "\n",
    "print(f\"My dog's name is {my_dog.name}.\")\n",
    "print(f\"My dog is {my_dog.age} years old.\")\n",
    "my_dog.sit()\n",
    "\n",
    "print(f\"\\nYour dog's name is {your_dog.name}.\")\n",
    "print(f\"Your dog is {your_dog.age} years old.\")\n",
    "your_dog.sit()"
   ]
  },
  {
   "cell_type": "markdown",
   "id": "1784438d-021f-496b-b3a7-86acc22da6c8",
   "metadata": {},
   "source": [
    "练习"
   ]
  },
  {
   "cell_type": "code",
   "execution_count": 6,
   "id": "8e720450-9410-445e-81d8-d6f46499abb7",
   "metadata": {},
   "outputs": [
    {
     "name": "stdout",
     "output_type": "stream",
     "text": [
      "yunmmy\n",
      "Thai\n",
      "Restaurant Name: yunmmy\n",
      "Cuisine Type: Thai\n",
      "The restaurant is open.\n"
     ]
    }
   ],
   "source": [
    "#9.1\n",
    "class Restaurant:\n",
    "    \"\"\"一次模拟餐厅的简单尝试\"\"\"\n",
    "\n",
    "    def __init__(self, restaurant_name, cuisine_type):\n",
    "        \"\"\"初始化描述餐厅的属性\"\"\"\n",
    "        self.name = restaurant_name\n",
    "        self.type = cuisine_type\n",
    "\n",
    "    def describe_restaurant(self):\n",
    "        \"\"\"返回一条描述餐厅基本信息的消息\"\"\"\n",
    "        print(f\"Restaurant Name: {self.name}\")\n",
    "        print(f\"Cuisine Type: {self.type}\")\n",
    "\n",
    "    def open_restaurant(self):\n",
    "        \"\"\"告知餐厅正在营业\"\"\"\n",
    "        print(\"The restaurant is open.\")\n",
    "\n",
    "restaurant_0 = Restaurant('yunmmy', 'Thai')\n",
    "\n",
    "print(restaurant_0.name)\n",
    "print(restaurant_0.type)\n",
    "restaurant_0.describe_restaurant()\n",
    "restaurant_0.open_restaurant()"
   ]
  },
  {
   "cell_type": "code",
   "execution_count": 7,
   "id": "430519fc-b408-473e-98dc-35b32dc685dd",
   "metadata": {},
   "outputs": [
    {
     "name": "stdout",
     "output_type": "stream",
     "text": [
      "Restaurant Name: malamala\n",
      "Cuisine Type: Chinese\n",
      "Restaurant Name: Allik\n",
      "Cuisine Type: Germany\n",
      "Restaurant Name: oppile\n",
      "Cuisine Type: Indian\n"
     ]
    }
   ],
   "source": [
    "#9.2\n",
    "restaurant_1 = Restaurant('malamala', 'Chinese')\n",
    "restaurant_2 = Restaurant('Allik', 'Germany')\n",
    "restaurant_3 = Restaurant('oppile', 'Indian')\n",
    "restaurant_1.describe_restaurant()\n",
    "restaurant_2.describe_restaurant()\n",
    "restaurant_3.describe_restaurant()"
   ]
  },
  {
   "cell_type": "code",
   "execution_count": 13,
   "id": "20a62422-1ff4-4afa-a1da-8813e4b20149",
   "metadata": {},
   "outputs": [
    {
     "name": "stdout",
     "output_type": "stream",
     "text": [
      "Alice Max\n",
      "Hello! Alice Max.\n",
      "Eric Tomas\n",
      "Hello! Eric Tomas.\n",
      "Frank Charles\n",
      "Hello! Frank Charles.\n"
     ]
    }
   ],
   "source": [
    "#9.3\n",
    "class User:\n",
    "    \"\"\"一次用户信息的简单尝试\"\"\"\n",
    "\n",
    "    def __init__(self, first_name, last_name):\n",
    "        \"\"\"初始化用户信息\"\"\"\n",
    "        self.first_name = first_name\n",
    "        self.last_name = last_name\n",
    "\n",
    "    def describe_user(self):\n",
    "        \"\"\"描述用户的信息\"\"\"\n",
    "        describe_user = f\"{self.first_name} {self.last_name}\"\n",
    "        return describe_user.title()\n",
    "\n",
    "    def greet_user(self):\n",
    "        \"\"\"打印一条问候\"\"\"\n",
    "        describe_user = f\"{self.first_name} {self.last_name}\"#需要在同一函数中定义\n",
    "        print(f\"Hello! {describe_user.title()}.\")\n",
    "\n",
    "user_1 = User('alice', 'max')\n",
    "user_2 = User('eric', 'tomas')\n",
    "user_3 = User('frank','charles')\n",
    "\n",
    "print(user_1.describe_user())\n",
    "user_1.greet_user()\n",
    "print(user_2.describe_user())\n",
    "user_2.greet_user()\n",
    "print(user_3.describe_user())\n",
    "user_3.greet_user()"
   ]
  },
  {
   "cell_type": "markdown",
   "id": "ffea8c49-8fa9-46dd-a8b5-7dd57642adb4",
   "metadata": {},
   "source": [
    "9.1 使用类和实例"
   ]
  },
  {
   "cell_type": "code",
   "execution_count": 5,
   "id": "d24b58e0-40e4-4c89-a7a0-0f15125a1010",
   "metadata": {},
   "outputs": [
    {
     "name": "stdout",
     "output_type": "stream",
     "text": [
      "2024 Audi A4\n"
     ]
    }
   ],
   "source": [
    "class Car:\n",
    "    \"\"\"一次模拟汽车的简单尝试\"\"\"\n",
    "\n",
    "    def __init__(self, make, model, year):\n",
    "        \"\"\"初始化描述汽车的属性\"\"\"   \n",
    "        self.make = make\n",
    "        self.model = model\n",
    "        self.year = year\n",
    "\n",
    "    def get_descriptive_name(self):\n",
    "        \"\"\"返回格式规范的描述性信息\"\"\"\n",
    "        long_name = f\"{self.year} {self.make} {self.model}\"\n",
    "        return long_name.title()\n",
    "\n",
    "my_new_car = Car('audi', 'a4', 2024)\n",
    "print(my_new_car.get_descriptive_name())"
   ]
  },
  {
   "cell_type": "code",
   "execution_count": 7,
   "id": "c7942c4a-708e-46de-a21b-35883de7cf8b",
   "metadata": {},
   "outputs": [
    {
     "name": "stdout",
     "output_type": "stream",
     "text": [
      "2024 Audi A4\n",
      "This car has 0 miles on it.\n"
     ]
    }
   ],
   "source": [
    "#给属性制定默认值\n",
    "class Car:\n",
    "    \"\"\"一次模拟汽车的简单尝试\"\"\"\n",
    "\n",
    "    def __init__(self, make, model, year):\n",
    "        \"\"\"初始化描述汽车的属性\"\"\"   \n",
    "        self.make = make\n",
    "        self.model = model\n",
    "        self.year = year\n",
    "        self.odometer_reading = 0\n",
    "\n",
    "    def get_descriptive_name(self):\n",
    "        \"\"\"返回格式规范的描述性信息\"\"\"\n",
    "        long_name = f\"{self.year} {self.make} {self.model}\"\n",
    "        return long_name.title()\n",
    "\n",
    "    def read_odometer(self):\n",
    "        \"\"\"打印一条指出汽车行驶里程的消息\"\"\"\n",
    "        print(f\"This car has {self.odometer_reading} miles on it.\")\n",
    "\n",
    "my_new_car = Car('audi', 'a4', 2024)\n",
    "print(my_new_car.get_descriptive_name())\n",
    "my_new_car.read_odometer()"
   ]
  },
  {
   "cell_type": "code",
   "execution_count": 8,
   "id": "029e3633-d454-4a2b-ae5d-56c6126c7edd",
   "metadata": {},
   "outputs": [
    {
     "name": "stdout",
     "output_type": "stream",
     "text": [
      "2024 Audi A4\n",
      "This car has 23 miles on it.\n"
     ]
    }
   ],
   "source": [
    "#修改属性的值\n",
    "class Car:\n",
    "    \"\"\"一次模拟汽车的简单尝试\"\"\"\n",
    "\n",
    "    def __init__(self, make, model, year):\n",
    "        \"\"\"初始化描述汽车的属性\"\"\"   \n",
    "        self.make = make\n",
    "        self.model = model\n",
    "        self.year = year\n",
    "        self.odometer_reading = 0\n",
    "\n",
    "    def get_descriptive_name(self):\n",
    "        \"\"\"返回格式规范的描述性信息\"\"\"\n",
    "        long_name = f\"{self.year} {self.make} {self.model}\"\n",
    "        return long_name.title()\n",
    "\n",
    "    def read_odometer(self):\n",
    "        \"\"\"打印一条指出汽车行驶里程的消息\"\"\"\n",
    "        print(f\"This car has {self.odometer_reading} miles on it.\")\n",
    "\n",
    "my_new_car = Car('audi', 'a4', 2024)\n",
    "print(my_new_car.get_descriptive_name())\n",
    "\n",
    "my_new_car.odometer_reading = 23\n",
    "my_new_car.read_odometer()"
   ]
  },
  {
   "cell_type": "code",
   "execution_count": 9,
   "id": "75168cf8-398a-4f56-a467-68f1cd113a08",
   "metadata": {},
   "outputs": [
    {
     "name": "stdout",
     "output_type": "stream",
     "text": [
      "2024 Audi A4\n",
      "This car has 23 miles on it.\n"
     ]
    }
   ],
   "source": [
    "#通过方法修改属性的值\n",
    "class Car:\n",
    "    \"\"\"一次模拟汽车的简单尝试\"\"\"\n",
    "\n",
    "    def __init__(self, make, model, year):\n",
    "        \"\"\"初始化描述汽车的属性\"\"\"   \n",
    "        self.make = make\n",
    "        self.model = model\n",
    "        self.year = year\n",
    "        self.odometer_reading = 0\n",
    "\n",
    "    def get_descriptive_name(self):\n",
    "        \"\"\"返回格式规范的描述性信息\"\"\"\n",
    "        long_name = f\"{self.year} {self.make} {self.model}\"\n",
    "        return long_name.title()\n",
    "\n",
    "    def read_odometer(self):\n",
    "        \"\"\"打印一条指出汽车行驶里程的消息\"\"\"\n",
    "        print(f\"This car has {self.odometer_reading} miles on it.\")\n",
    "\n",
    "    def update_odometer(self, mileage):\n",
    "        \"\"\"将里程表读数设置为指定的值\"\"\"\n",
    "        self.odometer_reading = mileage\n",
    "\n",
    "my_new_car = Car('audi', 'a4', 2024)\n",
    "print(my_new_car.get_descriptive_name())\n",
    "\n",
    "my_new_car.update_odometer(23)\n",
    "my_new_car.read_odometer()"
   ]
  },
  {
   "cell_type": "code",
   "execution_count": 10,
   "id": "24d064dd-6257-4f51-b91c-2c936d9c99c9",
   "metadata": {},
   "outputs": [
    {
     "name": "stdout",
     "output_type": "stream",
     "text": [
      "2024 Audi A4\n",
      "You can't roll back an odometer!\n",
      "This car has 0 miles on it.\n"
     ]
    }
   ],
   "source": [
    "#通过方法修改属性的值\n",
    "class Car:\n",
    "    \"\"\"一次模拟汽车的简单尝试\"\"\"\n",
    "\n",
    "    def __init__(self, make, model, year):\n",
    "        \"\"\"初始化描述汽车的属性\"\"\"   \n",
    "        self.make = make\n",
    "        self.model = model\n",
    "        self.year = year\n",
    "        self.odometer_reading = 0\n",
    "\n",
    "    def get_descriptive_name(self):\n",
    "        \"\"\"返回格式规范的描述性信息\"\"\"\n",
    "        long_name = f\"{self.year} {self.make} {self.model}\"\n",
    "        return long_name.title()\n",
    "\n",
    "    def read_odometer(self):\n",
    "        \"\"\"打印一条指出汽车行驶里程的消息\"\"\"\n",
    "        print(f\"This car has {self.odometer_reading} miles on it.\")\n",
    "\n",
    "    def update_odometer(self, mileage):\n",
    "        \"\"\"\n",
    "        将里程表读数设置为指定的值\n",
    "        禁止将里程表读数往回调\n",
    "        \"\"\"\n",
    "        if mileage >= self.odometer_reading:\n",
    "            self.odometer_reading = mileage\n",
    "        else:\n",
    "            print(\"You can't roll back an odometer!\")\n",
    "\n",
    "my_new_car = Car('audi', 'a4', 2024)\n",
    "print(my_new_car.get_descriptive_name())\n",
    "\n",
    "my_new_car.update_odometer(-10)\n",
    "my_new_car.read_odometer()"
   ]
  },
  {
   "cell_type": "code",
   "execution_count": 12,
   "id": "9ad527e1-95d4-44d6-85c5-6e2bee062486",
   "metadata": {},
   "outputs": [
    {
     "name": "stdout",
     "output_type": "stream",
     "text": [
      "2019 Subaru Outback\n",
      "This car has 23500 miles on it.\n",
      "This car has 23600 miles on it.\n"
     ]
    }
   ],
   "source": [
    "#通过方法让属性的值递增\n",
    "class Car:\n",
    "    \"\"\"一次模拟汽车的简单尝试\"\"\"\n",
    "\n",
    "    def __init__(self, make, model, year):\n",
    "        \"\"\"初始化描述汽车的属性\"\"\"   \n",
    "        self.make = make\n",
    "        self.model = model\n",
    "        self.year = year\n",
    "        self.odometer_reading = 0\n",
    "\n",
    "    def get_descriptive_name(self):\n",
    "        \"\"\"返回格式规范的描述性信息\"\"\"\n",
    "        long_name = f\"{self.year} {self.make} {self.model}\"\n",
    "        return long_name.title()\n",
    "\n",
    "    def read_odometer(self):\n",
    "        \"\"\"打印一条指出汽车行驶里程的消息\"\"\"\n",
    "        print(f\"This car has {self.odometer_reading} miles on it.\")\n",
    "\n",
    "    def update_odometer(self, mileage):\n",
    "        \"\"\"\n",
    "        将里程表读数设置为指定的值\n",
    "        禁止将里程表读数往回调\n",
    "        \"\"\"\n",
    "        if mileage >= self.odometer_reading:\n",
    "            self.odometer_reading = mileage\n",
    "        else:\n",
    "            print(\"You can't roll back an odometer!\")\n",
    "\n",
    "    def increment_odometer(self, miles):\n",
    "        \"\"\"让里程表读数增加指定的量\"\"\"\n",
    "        self.odometer_reading += miles\n",
    "\n",
    "my_used_car = Car('subaru', 'outback', 2019)\n",
    "print(my_used_car.get_descriptive_name())\n",
    "\n",
    "my_used_car.update_odometer(23_500)\n",
    "my_used_car.read_odometer()\n",
    "\n",
    "my_used_car.increment_odometer(100)\n",
    "my_used_car.read_odometer()"
   ]
  },
  {
   "cell_type": "markdown",
   "id": "b056c8e8-5ecf-4781-b6c8-0946a684b9af",
   "metadata": {},
   "source": [
    "练习"
   ]
  },
  {
   "cell_type": "code",
   "execution_count": 29,
   "id": "c953d807-d56a-405d-a495-468d388cdc3f",
   "metadata": {},
   "outputs": [
    {
     "name": "stdout",
     "output_type": "stream",
     "text": [
      "This restaurant has served 0 customers.\n",
      "0 sets are needed.\n",
      "This restaurant has served 5 customers.\n",
      "5 sets are needed.\n"
     ]
    }
   ],
   "source": [
    "#9.4\n",
    "class Restaurant:\n",
    "    \"\"\"一次模拟餐厅的简单尝试\"\"\"\n",
    "\n",
    "    def __init__(self, restaurant_name, cuisine_type):\n",
    "        \"\"\"初始化描述餐厅的属性\"\"\"\n",
    "        self.name = restaurant_name\n",
    "        self.type = cuisine_type\n",
    "        self.number_served = 0\n",
    "\n",
    "    def describe_restaurant(self):\n",
    "        \"\"\"返回一条描述餐厅基本信息的消息\"\"\"\n",
    "        print(f\"Restaurant Name: {self.name}\")\n",
    "        print(f\"Cuisine Type: {self.type}\")\n",
    "\n",
    "    def open_restaurant(self):\n",
    "        \"\"\"告知餐厅正在营业\"\"\"\n",
    "        print(\"The restaurant is open.\")\n",
    "\n",
    "    def set_number_served(self):\n",
    "        \"\"\"设置就餐人数\"\"\"\n",
    "        print(f\"{self.number_served} sets are needed.\")\n",
    "\n",
    "    def increment_number_served(self, num):\n",
    "        \"\"\"增加就餐人数\"\"\"\n",
    "        self.number_served += num\n",
    "        \n",
    "restaurant = Restaurant('yunmmy', 'Thai')\n",
    "\n",
    "print(f\"This restaurant has served {restaurant.number_served} customers.\")\n",
    "restaurant.set_number_served()\n",
    "restaurant.increment_number_served(5)\n",
    "print(f\"This restaurant has served {restaurant.number_served} customers.\")\n",
    "restaurant.set_number_served()"
   ]
  },
  {
   "cell_type": "code",
   "execution_count": 5,
   "id": "3ba7ba15-0bad-4eb3-9022-38b40c3e32cd",
   "metadata": {},
   "outputs": [
    {
     "name": "stdout",
     "output_type": "stream",
     "text": [
      "You have logined 0 times.\n",
      "You have logined 3 times.\n",
      "You have logined 0 times.\n"
     ]
    }
   ],
   "source": [
    "#9.5\n",
    "class User:\n",
    "    \"\"\"一次用户信息的简单尝试\"\"\"\n",
    "\n",
    "    def __init__(self, first_name, last_name):\n",
    "        \"\"\"初始化用户信息\"\"\"\n",
    "        self.first_name = first_name\n",
    "        self.last_name = last_name\n",
    "        self.login_attempts = 0\n",
    "\n",
    "    def describe_user(self):\n",
    "        \"\"\"描述用户的信息\"\"\"\n",
    "        describe_user = f\"{self.first_name} {self.last_name}\"\n",
    "        return describe_user.title()\n",
    "\n",
    "    def greet_user(self):\n",
    "        \"\"\"打印一条问候\"\"\"\n",
    "        describe_user = f\"{self.first_name} {self.last_name}\"#需要在同一函数中定义\n",
    "        print(f\"Hello! {describe_user.title()}.\")\n",
    "\n",
    "    def increment_login_attempts(self):\n",
    "        \"\"\"增加登录次数\"\"\"\n",
    "        self.login_attempts += 1\n",
    "\n",
    "    def reset_login_attempts(self):\n",
    "        \"\"\"重置登录次数\"\"\"\n",
    "        self.login_attempts = 0\n",
    "\n",
    "user_0 = User('alice', 'max')\n",
    "\n",
    "print(f\"You have logined {user_0.login_attempts} times.\")\n",
    "user_0.increment_login_attempts()\n",
    "user_0.increment_login_attempts()\n",
    "user_0.increment_login_attempts()\n",
    "print(f\"You have logined {user_0.login_attempts} times.\")\n",
    "user_0.reset_login_attempts()\n",
    "print(f\"You have logined {user_0.login_attempts} times.\")"
   ]
  },
  {
   "cell_type": "markdown",
   "id": "8d743005-12c1-4ac6-b008-691f667f71a9",
   "metadata": {},
   "source": [
    "9.3 继承"
   ]
  },
  {
   "cell_type": "code",
   "execution_count": 1,
   "id": "82899f89-b6dd-497a-aa97-a63f46902e97",
   "metadata": {},
   "outputs": [
    {
     "name": "stdout",
     "output_type": "stream",
     "text": [
      "2024 Nissan Leaf\n"
     ]
    }
   ],
   "source": [
    "class Car:\n",
    "    \"\"\"一次模拟汽车的简单尝试\"\"\"\n",
    "\n",
    "    def __init__(self, make, model, year):\n",
    "        \"\"\"初始化描述汽车的属性\"\"\"   \n",
    "        self.make = make\n",
    "        self.model = model\n",
    "        self.year = year\n",
    "        self.odometer_reading = 0\n",
    "\n",
    "    def get_descriptive_name(self):\n",
    "        \"\"\"返回格式规范的描述性信息\"\"\"\n",
    "        long_name = f\"{self.year} {self.make} {self.model}\"\n",
    "        return long_name.title()\n",
    "\n",
    "    def read_odometer(self):\n",
    "        \"\"\"打印一条指出汽车行驶里程的消息\"\"\"\n",
    "        print(f\"This car has {self.odometer_reading} miles on it.\")\n",
    "\n",
    "    def update_odometer(self, mileage):\n",
    "        \"\"\"\n",
    "        将里程表读数设置为指定的值\n",
    "        禁止将里程表读数往回调\n",
    "        \"\"\"\n",
    "        if mileage >= self.odometer_reading:\n",
    "            self.odometer_reading = mileage\n",
    "        else:\n",
    "            print(\"You can't roll back an odometer!\")\n",
    "\n",
    "    def increment_odometer(self, miles):\n",
    "        \"\"\"让里程表读数增加指定的量\"\"\"\n",
    "        self.odometer_reading += miles\n",
    "#创建子类的方法：子类（父类），子类会继承父类（超类）的所有属性，super().init函数让子类实例具备父类 init方法定义的属性\n",
    "class ElectricCar(Car):\n",
    "    \"\"\"电动车的独特之处\"\"\"\n",
    "\n",
    "    def __init__(self, make, model, year):\n",
    "        \"\"\"初始化父类的属性\"\"\"\n",
    "        super().__init__(make, model, year)\n",
    "\n",
    "my_leaf = ElectricCar('nissan', 'leaf', 2024)\n",
    "print(my_leaf.get_descriptive_name())"
   ]
  },
  {
   "cell_type": "code",
   "execution_count": 2,
   "id": "39a32b58-070b-41aa-8d00-3e5c0a3bd751",
   "metadata": {},
   "outputs": [
    {
     "name": "stdout",
     "output_type": "stream",
     "text": [
      "2024 Nissan Leaf\n",
      "This car has a 40-kWh battery.\n"
     ]
    }
   ],
   "source": [
    "#给子类定义属性和方法\n",
    "class Car:\n",
    "    \"\"\"一次模拟汽车的简单尝试\"\"\"\n",
    "\n",
    "    def __init__(self, make, model, year):\n",
    "        \"\"\"初始化描述汽车的属性\"\"\"   \n",
    "        self.make = make\n",
    "        self.model = model\n",
    "        self.year = year\n",
    "        self.odometer_reading = 0\n",
    "\n",
    "    def get_descriptive_name(self):\n",
    "        \"\"\"返回格式规范的描述性信息\"\"\"\n",
    "        long_name = f\"{self.year} {self.make} {self.model}\"\n",
    "        return long_name.title()\n",
    "\n",
    "    def read_odometer(self):\n",
    "        \"\"\"打印一条指出汽车行驶里程的消息\"\"\"\n",
    "        print(f\"This car has {self.odometer_reading} miles on it.\")\n",
    "\n",
    "    def update_odometer(self, mileage):\n",
    "        \"\"\"\n",
    "        将里程表读数设置为指定的值\n",
    "        禁止将里程表读数往回调\n",
    "        \"\"\"\n",
    "        if mileage >= self.odometer_reading:\n",
    "            self.odometer_reading = mileage\n",
    "        else:\n",
    "            print(\"You can't roll back an odometer!\")\n",
    "\n",
    "    def increment_odometer(self, miles):\n",
    "        \"\"\"让里程表读数增加指定的量\"\"\"\n",
    "        self.odometer_reading += miles\n",
    "\n",
    "class ElectricCar(Car):\n",
    "    \"\"\"电动车的独特之处\"\"\"\n",
    "\n",
    "    def __init__(self, make, model, year):\n",
    "        \"\"\"初始化父类的属性\"\"\"\n",
    "        super().__init__(make, model, year)\n",
    "        self.battery_size = 40\n",
    "\n",
    "    def describe_battery(self):\n",
    "        \"\"\"打印一条描述电池容量的消息\"\"\"\n",
    "        print(f\"This car has a {self.battery_size}-kWh battery.\")\n",
    "        \n",
    "my_leaf = ElectricCar('nissan', 'leaf', 2024)\n",
    "print(my_leaf.get_descriptive_name())\n",
    "my_leaf.describe_battery()"
   ]
  },
  {
   "cell_type": "code",
   "execution_count": 4,
   "id": "99029a20-ba05-453c-b2a1-5b95ac197b05",
   "metadata": {},
   "outputs": [
    {
     "name": "stdout",
     "output_type": "stream",
     "text": [
      "2024 Nissan Leaf\n",
      "This car doesn't have a tank!\n"
     ]
    }
   ],
   "source": [
    "#重写父类中的方法\n",
    "class Car:\n",
    "    \"\"\"一次模拟汽车的简单尝试\"\"\"\n",
    "\n",
    "    def __init__(self, make, model, year):\n",
    "        \"\"\"初始化描述汽车的属性\"\"\"   \n",
    "        self.make = make\n",
    "        self.model = model\n",
    "        self.year = year\n",
    "        self.odometer_reading = 0\n",
    "\n",
    "    def get_descriptive_name(self):\n",
    "        \"\"\"返回格式规范的描述性信息\"\"\"\n",
    "        long_name = f\"{self.year} {self.make} {self.model}\"\n",
    "        return long_name.title()\n",
    "\n",
    "    def read_odometer(self):\n",
    "        \"\"\"打印一条指出汽车行驶里程的消息\"\"\"\n",
    "        print(f\"This car has {self.odometer_reading} miles on it.\")\n",
    "\n",
    "    def update_odometer(self, mileage):\n",
    "        \"\"\"\n",
    "        将里程表读数设置为指定的值\n",
    "        禁止将里程表读数往回调\n",
    "        \"\"\"\n",
    "        if mileage >= self.odometer_reading:\n",
    "            self.odometer_reading = mileage\n",
    "        else:\n",
    "            print(\"You can't roll back an odometer!\")\n",
    "\n",
    "    def increment_odometer(self, miles):\n",
    "        \"\"\"让里程表读数增加指定的量\"\"\"\n",
    "        self.odometer_reading += miles\n",
    "\n",
    "    def fill_gas_tank(self, volume):\n",
    "        \"\"\"油箱容量\"\"\"\n",
    "        print(f\"Your car's tank can save {volume}L gas\")\n",
    "\n",
    "class ElectricCar(Car):\n",
    "    \"\"\"电动车的独特之处\"\"\"\n",
    "\n",
    "    def __init__(self, make, model, year):\n",
    "        \"\"\"初始化父类的属性\"\"\"\n",
    "        super().__init__(make, model, year)\n",
    "        self.battery_size = 40\n",
    "\n",
    "    def describe_battery(self):\n",
    "        \"\"\"打印一条描述电池容量的消息\"\"\"\n",
    "        print(f\"This car has a {self.battery_size}-kWh battery.\")\n",
    "\n",
    "    def fill_gas_tank(self, volume):\n",
    "        \"\"\"电动车没有油箱\"\"\"\n",
    "        print(\"This car doesn't have a tank!\")\n",
    "        \n",
    "my_leaf = ElectricCar('nissan', 'leaf', 2024)\n",
    "print(my_leaf.get_descriptive_name())\n",
    "my_leaf.fill_gas_tank(300)"
   ]
  },
  {
   "cell_type": "code",
   "execution_count": 8,
   "id": "d18e8161-c07d-4d6d-bb96-7faff1f19991",
   "metadata": {},
   "outputs": [
    {
     "name": "stdout",
     "output_type": "stream",
     "text": [
      "2024 Nissan Leaf\n",
      "This car has a 40-kWh battery.\n"
     ]
    }
   ],
   "source": [
    "#将实例用作属性\n",
    "class Car:\n",
    "    \"\"\"一次模拟汽车的简单尝试\"\"\"\n",
    "\n",
    "    def __init__(self, make, model, year):\n",
    "        \"\"\"初始化描述汽车的属性\"\"\"   \n",
    "        self.make = make\n",
    "        self.model = model\n",
    "        self.year = year\n",
    "        self.odometer_reading = 0\n",
    "\n",
    "    def get_descriptive_name(self):\n",
    "        \"\"\"返回格式规范的描述性信息\"\"\"\n",
    "        long_name = f\"{self.year} {self.make} {self.model}\"\n",
    "        return long_name.title()\n",
    "\n",
    "    def read_odometer(self):\n",
    "        \"\"\"打印一条指出汽车行驶里程的消息\"\"\"\n",
    "        print(f\"This car has {self.odometer_reading} miles on it.\")\n",
    "\n",
    "    def update_odometer(self, mileage):\n",
    "        \"\"\"\n",
    "        将里程表读数设置为指定的值\n",
    "        禁止将里程表读数往回调\n",
    "        \"\"\"\n",
    "        if mileage >= self.odometer_reading:\n",
    "            self.odometer_reading = mileage\n",
    "        else:\n",
    "            print(\"You can't roll back an odometer!\")\n",
    "\n",
    "    def increment_odometer(self, miles):\n",
    "        \"\"\"让里程表读数增加指定的量\"\"\"\n",
    "        self.odometer_reading += miles\n",
    "\n",
    "class Battery:\n",
    "    \"\"\"一次模拟电动汽车电池的简单尝试\"\"\"\n",
    "    def __init__(self, battery_size=40):\n",
    "        self.battery_size = battery_size\n",
    "\n",
    "    def describe_battery(self):\n",
    "        \"\"\"打印一条描述电池容量的消息\"\"\"\n",
    "        print(f\"This car has a {self.battery_size}-kWh battery.\")\n",
    "        \n",
    "class ElectricCar(Car):\n",
    "    \"\"\"电动车的独特之处\"\"\"\n",
    "\n",
    "    def __init__(self, make, model, year):\n",
    "        \"\"\"\n",
    "        先初始化父类的属性，再初始化电动汽车特有的属性\n",
    "        \"\"\"\n",
    "        super().__init__(make, model, year)\n",
    "        self.battery = Battery()\n",
    "\n",
    "my_leaf = ElectricCar('nissan', 'leaf', 2024)\n",
    "print(my_leaf.get_descriptive_name())\n",
    "my_leaf.battery.describe_battery()"
   ]
  },
  {
   "cell_type": "code",
   "execution_count": 9,
   "id": "6faafcc8-5458-43fc-9d35-d3061cf3ba3e",
   "metadata": {},
   "outputs": [
    {
     "name": "stdout",
     "output_type": "stream",
     "text": [
      "2024 Nissan Leaf\n",
      "This car has a 40-kWh battery.\n",
      "This car can go about 150 miles on a full charge.\n"
     ]
    }
   ],
   "source": [
    "#将实例用作属性\n",
    "class Car:\n",
    "    \"\"\"一次模拟汽车的简单尝试\"\"\"\n",
    "\n",
    "    def __init__(self, make, model, year):\n",
    "        \"\"\"初始化描述汽车的属性\"\"\"   \n",
    "        self.make = make\n",
    "        self.model = model\n",
    "        self.year = year\n",
    "        self.odometer_reading = 0\n",
    "\n",
    "    def get_descriptive_name(self):\n",
    "        \"\"\"返回格式规范的描述性信息\"\"\"\n",
    "        long_name = f\"{self.year} {self.make} {self.model}\"\n",
    "        return long_name.title()\n",
    "\n",
    "    def read_odometer(self):\n",
    "        \"\"\"打印一条指出汽车行驶里程的消息\"\"\"\n",
    "        print(f\"This car has {self.odometer_reading} miles on it.\")\n",
    "\n",
    "    def update_odometer(self, mileage):\n",
    "        \"\"\"\n",
    "        将里程表读数设置为指定的值\n",
    "        禁止将里程表读数往回调\n",
    "        \"\"\"\n",
    "        if mileage >= self.odometer_reading:\n",
    "            self.odometer_reading = mileage\n",
    "        else:\n",
    "            print(\"You can't roll back an odometer!\")\n",
    "\n",
    "    def increment_odometer(self, miles):\n",
    "        \"\"\"让里程表读数增加指定的量\"\"\"\n",
    "        self.odometer_reading += miles\n",
    "\n",
    "class Battery:\n",
    "    \"\"\"一次模拟电动汽车电池的简单尝试\"\"\"\n",
    "    def __init__(self, battery_size=40):\n",
    "        self.battery_size = battery_size\n",
    "\n",
    "    def describe_battery(self):\n",
    "        \"\"\"打印一条描述电池容量的消息\"\"\"\n",
    "        print(f\"This car has a {self.battery_size}-kWh battery.\")\n",
    "\n",
    "    def get_range(self):\n",
    "        \"\"\"打印一条消息，指出电池的续航里程\"\"\"\n",
    "        if self.battery_size == 40:\n",
    "            range = 150\n",
    "        elif self.battery_size == 65:\n",
    "            range = 225\n",
    "\n",
    "        print(f\"This car can go about {range} miles on a full charge.\")\n",
    "\n",
    "class ElectricCar(Car):\n",
    "    \"\"\"电动车的独特之处\"\"\"\n",
    "\n",
    "    def __init__(self, make, model, year):\n",
    "        \"\"\"\n",
    "        先初始化父类的属性，再初始化电动汽车特有的属性\n",
    "        \"\"\"\n",
    "        super().__init__(make, model, year)\n",
    "        self.battery = Battery()\n",
    "\n",
    "my_leaf = ElectricCar('nissan', 'leaf', 2024)\n",
    "print(my_leaf.get_descriptive_name())\n",
    "my_leaf.battery.describe_battery()\n",
    "my_leaf.battery.get_range()"
   ]
  },
  {
   "cell_type": "markdown",
   "id": "ded7ab16-11e7-41b5-8026-8ed5a9959274",
   "metadata": {},
   "source": [
    "练习"
   ]
  },
  {
   "cell_type": "code",
   "execution_count": 22,
   "id": "1c17abee-169a-4bfb-acaf-1250acd4c57f",
   "metadata": {},
   "outputs": [
    {
     "name": "stdout",
     "output_type": "stream",
     "text": [
      "This icecream stand have these flavors:\n",
      "['banana', 'mango', 'strewberry']\n"
     ]
    }
   ],
   "source": [
    "#9.6\n",
    "class Restaurant:\n",
    "    \"\"\"一次模拟餐厅的简单尝试\"\"\"\n",
    "\n",
    "    def __init__(self, restaurant_name, cuisine_type):\n",
    "        \"\"\"初始化描述餐厅的属性\"\"\"\n",
    "        self.name = restaurant_name\n",
    "        self.type = cuisine_type\n",
    "\n",
    "    def describe_restaurant(self):\n",
    "        \"\"\"返回一条描述餐厅基本信息的消息\"\"\"\n",
    "        print(f\"Restaurant Name: {self.name}\")\n",
    "        print(f\"Cuisine Type: {self.type}\")\n",
    "\n",
    "    def open_restaurant(self):\n",
    "        \"\"\"告知餐厅正在营业\"\"\"\n",
    "        print(\"The restaurant is open.\")\n",
    "\n",
    "\n",
    "class IceCreamStand(Restaurant):\n",
    "    \"\"\"冰激凌店的特殊之处\"\"\"\n",
    "\n",
    "    def __init__(self, restaurant_name, cuisine_type):\n",
    "        \"\"\"初始化父类的属性\"\"\"\n",
    "        super().__init__(restaurant_name, cuisine_type)\n",
    "        self.flavors = ['banana', 'mango', 'strewberry']\n",
    "        \n",
    "    def flavors_show(self):\n",
    "        print(f\"This icecream stand have these flavors:\\n{self.flavors}\")\n",
    "\n",
    "restaurant_0 = IceCreamStand('SWEETTY', 'icecream')\n",
    "\n",
    "restaurant_0.flavors_show()"
   ]
  },
  {
   "cell_type": "code",
   "execution_count": 24,
   "id": "036f215e-44a1-4b57-84ff-c54a4be573fd",
   "metadata": {},
   "outputs": [
    {
     "name": "stdout",
     "output_type": "stream",
     "text": [
      "You are admin, and you have the following authorities: \n",
      "['can add post', 'can delete post', 'can ban user']\n"
     ]
    }
   ],
   "source": [
    "#9.7\n",
    "class User:\n",
    "    \"\"\"一次用户信息的简单尝试\"\"\"\n",
    "\n",
    "    def __init__(self, first_name, last_name):\n",
    "        \"\"\"初始化用户信息\"\"\"\n",
    "        self.first_name = first_name\n",
    "        self.last_name = last_name\n",
    "        self.login_attempts = 0\n",
    "\n",
    "    def describe_user(self):\n",
    "        \"\"\"描述用户的信息\"\"\"\n",
    "        describe_user = f\"{self.first_name} {self.last_name}\"\n",
    "        return describe_user.title()\n",
    "\n",
    "    def greet_user(self):\n",
    "        \"\"\"打印一条问候\"\"\"\n",
    "        describe_user = f\"{self.first_name} {self.last_name}\"\n",
    "        print(f\"Hello! {describe_user.title()}.\")\n",
    "\n",
    "class Admin(User):\n",
    "    \"\"\"描述特殊的用户\"\"\"\n",
    "\n",
    "    def __init__(self, first_name, last_name):\n",
    "        \"\"\"初始化父类的信息\"\"\"\n",
    "        super().__init__(first_name, last_name)\n",
    "        self.privileges = ['can add post', 'can delete post', 'can ban user']\n",
    "\n",
    "    def show_privileges(self):\n",
    "        print(f\"You are admin, and you have the following authorities: \\n{self.privileges}\")\n",
    "\n",
    "admin_0 = Admin('helen', 'smith')\n",
    "admin_0.show_privileges()"
   ]
  },
  {
   "cell_type": "code",
   "execution_count": 26,
   "id": "80e42eba-39e6-4998-8eeb-71526b3e7e75",
   "metadata": {},
   "outputs": [
    {
     "name": "stdout",
     "output_type": "stream",
     "text": [
      "You are admin, and you have the following authorities: \n",
      "['can add post', 'can delete post', 'can ban user']\n"
     ]
    }
   ],
   "source": [
    "#9.8\n",
    "class User:\n",
    "    \"\"\"一次用户信息的简单尝试\"\"\"\n",
    "\n",
    "    def __init__(self, first_name, last_name):\n",
    "        \"\"\"初始化用户信息\"\"\"\n",
    "        self.first_name = first_name\n",
    "        self.last_name = last_name\n",
    "        self.login_attempts = 0\n",
    "\n",
    "    def describe_user(self):\n",
    "        \"\"\"描述用户的信息\"\"\"\n",
    "        describe_user = f\"{self.first_name} {self.last_name}\"\n",
    "        return describe_user.title()\n",
    "\n",
    "    def greet_user(self):\n",
    "        \"\"\"打印一条问候\"\"\"\n",
    "        describe_user = f\"{self.first_name} {self.last_name}\"\n",
    "        print(f\"Hello! {describe_user.title()}.\")\n",
    "\n",
    "class Privileges:\n",
    "    \"\"\"模拟管理者权限的一次尝试\"\"\"\n",
    "    def __init__(self):\n",
    "        self.privileges = ['can add post', 'can delete post', 'can ban user']\n",
    "\n",
    "    def show_privileges(self):\n",
    "        print(f\"You are admin, and you have the following authorities: \\n{self.privileges}\")\n",
    "    \n",
    "class Admin(User):\n",
    "    \"\"\"描述特殊的用户\"\"\"\n",
    "\n",
    "    def __init__(self, first_name, last_name):\n",
    "        \"\"\"初始化父类的信息\"\"\"\n",
    "        super().__init__(first_name, last_name)\n",
    "        self.privileges = Privileges()\n",
    "\n",
    "admin_0 = Admin('helen', 'smith')\n",
    "admin_0.privileges.show_privileges()"
   ]
  },
  {
   "cell_type": "code",
   "execution_count": 28,
   "id": "fd2b8ba8-2def-43e1-8d40-533619e95338",
   "metadata": {},
   "outputs": [
    {
     "name": "stdout",
     "output_type": "stream",
     "text": [
      "This car can go about 150 miles on a full charge.\n",
      "This car can go about 225 miles on a full charge.\n"
     ]
    }
   ],
   "source": [
    "#9.9\n",
    "class Car:\n",
    "    \"\"\"一次模拟汽车的简单尝试\"\"\"\n",
    "\n",
    "    def __init__(self, make, model, year):\n",
    "        \"\"\"初始化描述汽车的属性\"\"\"   \n",
    "        self.make = make\n",
    "        self.model = model\n",
    "        self.year = year\n",
    "        self.odometer_reading = 0\n",
    "\n",
    "    def get_descriptive_name(self):\n",
    "        \"\"\"返回格式规范的描述性信息\"\"\"\n",
    "        long_name = f\"{self.year} {self.make} {self.model}\"\n",
    "        return long_name.title()\n",
    "\n",
    "    def read_odometer(self):\n",
    "        \"\"\"打印一条指出汽车行驶里程的消息\"\"\"\n",
    "        print(f\"This car has {self.odometer_reading} miles on it.\")\n",
    "\n",
    "    def update_odometer(self, mileage):\n",
    "        \"\"\"\n",
    "        将里程表读数设置为指定的值\n",
    "        禁止将里程表读数往回调\n",
    "        \"\"\"\n",
    "        if mileage >= self.odometer_reading:\n",
    "            self.odometer_reading = mileage\n",
    "        else:\n",
    "            print(\"You can't roll back an odometer!\")\n",
    "\n",
    "    def increment_odometer(self, miles):\n",
    "        \"\"\"让里程表读数增加指定的量\"\"\"\n",
    "        self.odometer_reading += miles\n",
    "\n",
    "class Battery:\n",
    "    \"\"\"一次模拟电动汽车电池的简单尝试\"\"\"\n",
    "    def __init__(self, battery_size=40):\n",
    "        self.battery_size = battery_size\n",
    "\n",
    "    def describe_battery(self):\n",
    "        \"\"\"打印一条描述电池容量的消息\"\"\"\n",
    "        print(f\"This car has a {self.battery_size}-kWh battery.\")\n",
    "\n",
    "    def get_range(self):\n",
    "        \"\"\"打印一条消息，指出电池的续航里程\"\"\"\n",
    "        if self.battery_size == 40:\n",
    "            range = 150\n",
    "        elif self.battery_size == 65:\n",
    "            range = 225\n",
    "        print(f\"This car can go about {range} miles on a full charge.\")\n",
    "\n",
    "    def upgrade_battery(self):\n",
    "        \"\"\"升级电池容量\"\"\"\n",
    "        if self.battery_size != 65:\n",
    "            self.battery_size = 65\n",
    "\n",
    "class ElectricCar(Car):\n",
    "    \"\"\"电动车的独特之处\"\"\"\n",
    "\n",
    "    def __init__(self, make, model, year):\n",
    "        \"\"\"\n",
    "        先初始化父类的属性，再初始化电动汽车特有的属性\n",
    "        \"\"\"\n",
    "        super().__init__(make, model, year)\n",
    "        self.battery = Battery()\n",
    "\n",
    "my_leaf = ElectricCar('nissan', 'leaf', 2024)\n",
    "my_leaf.battery.get_range()\n",
    "\n",
    "my_leaf.battery.upgrade_battery()\n",
    "my_leaf.battery.get_range()"
   ]
  },
  {
   "cell_type": "markdown",
   "id": "8666b3b9-d6e6-49ea-b673-d0fbf6bffc91",
   "metadata": {},
   "source": [
    "9.4 导入类"
   ]
  },
  {
   "cell_type": "code",
   "execution_count": 14,
   "id": "f28114e6-e4ae-4084-96a9-d5945c1a1557",
   "metadata": {},
   "outputs": [
    {
     "name": "stdout",
     "output_type": "stream",
     "text": [
      "2024 Audi A4\n",
      "This car has 23 miles on it.\n"
     ]
    }
   ],
   "source": [
    "#导入单个类\n",
    "from car import Car\n",
    "\n",
    "my_new_car = Car('audi', 'a4', 2024)\n",
    "print(my_new_car.get_descriptive_name())\n",
    "\n",
    "my_new_car.odometer_reading = 23\n",
    "my_new_car.read_odometer()"
   ]
  },
  {
   "cell_type": "code",
   "execution_count": 1,
   "id": "090bc8ce-0845-4875-b5a9-077b93e2f1fe",
   "metadata": {},
   "outputs": [
    {
     "name": "stdout",
     "output_type": "stream",
     "text": [
      "2024 Nissan Leaf\n",
      "This car has a 40-kWh battery.\n",
      "This car can go about 150 miles on a full charge.\n"
     ]
    }
   ],
   "source": [
    "#在一种模块中存储多个类\n",
    "from car import ElectricCar\n",
    "\n",
    "my_leaf = ElectricCar('nissan', 'leaf', 2024)\n",
    "print(my_leaf.get_descriptive_name())\n",
    "my_leaf.battery.describe_battery()\n",
    "my_leaf.battery.get_range()"
   ]
  },
  {
   "cell_type": "code",
   "execution_count": 2,
   "id": "6084736d-d4e7-47b3-94a4-06b49309be2e",
   "metadata": {},
   "outputs": [
    {
     "name": "stdout",
     "output_type": "stream",
     "text": [
      "2024 Ford Mustang\n",
      "2024 Nissan Leaf\n"
     ]
    }
   ],
   "source": [
    "#从一个模块中导入多个类\n",
    "from car import Car, ElectricCar\n",
    "\n",
    "my_mustang = Car('ford', 'mustang', 2024)\n",
    "print(my_mustang.get_descriptive_name())\n",
    "my_leaf = ElectricCar('nissan', 'leaf', 2024)\n",
    "print(my_leaf.get_descriptive_name())"
   ]
  },
  {
   "cell_type": "code",
   "execution_count": 3,
   "id": "8dd02e7f-bb37-47b2-a628-0d1e93fe14b1",
   "metadata": {},
   "outputs": [
    {
     "name": "stdout",
     "output_type": "stream",
     "text": [
      "2024 Ford Mustang\n",
      "2024 Nissan Leaf\n"
     ]
    }
   ],
   "source": [
    "#导入整个模块\n",
    "import car\n",
    "\n",
    "my_mustang = Car('ford', 'mustang', 2024)\n",
    "print(my_mustang.get_descriptive_name())\n",
    "\n",
    "my_leaf = ElectricCar('nissan', 'leaf', 2024)\n",
    "print(my_leaf.get_descriptive_name())"
   ]
  },
  {
   "cell_type": "code",
   "execution_count": 4,
   "id": "4f405cb9-1bfb-4613-bf54-43c73c5d5bf8",
   "metadata": {},
   "outputs": [
    {
     "name": "stdout",
     "output_type": "stream",
     "text": [
      "2024 Ford Mustang\n",
      "2024 Nissan Leaf\n"
     ]
    }
   ],
   "source": [
    "#导入模块中的所有类\n",
    "from car import *\n",
    "\n",
    "my_mustang = Car('ford', 'mustang', 2024)\n",
    "print(my_mustang.get_descriptive_name())\n",
    "\n",
    "my_leaf = ElectricCar('nissan', 'leaf', 2024)\n",
    "print(my_leaf.get_descriptive_name())"
   ]
  },
  {
   "cell_type": "code",
   "execution_count": 5,
   "id": "b3308f75-856a-4be1-9220-83d81d788c66",
   "metadata": {},
   "outputs": [
    {
     "name": "stdout",
     "output_type": "stream",
     "text": [
      "2024 Ford Mustang\n",
      "2024 Nissan Leaf\n"
     ]
    }
   ],
   "source": [
    "#在一个模块中导入另一个模块\n",
    "from car import Car\n",
    "from electric_car import ElectricCar\n",
    "\n",
    "my_mustang = Car('ford', 'mustang', 2024)\n",
    "print(my_mustang.get_descriptive_name())\n",
    "\n",
    "my_leaf = ElectricCar('nissan', 'leaf', 2024)\n",
    "print(my_leaf.get_descriptive_name())"
   ]
  },
  {
   "cell_type": "code",
   "execution_count": 9,
   "id": "35b710c0-455c-4076-812d-890a00bd1407",
   "metadata": {},
   "outputs": [
    {
     "name": "stdout",
     "output_type": "stream",
     "text": [
      "2024 Nissan Leaf\n",
      "2024 Nissan Leaf\n"
     ]
    }
   ],
   "source": [
    "#使用别名\n",
    "from electric_car import ElectricCar as EC\n",
    "\n",
    "my_leaf = EC('nissan', 'leaf', 2024)\n",
    "print(my_leaf.get_descriptive_name())\n",
    "\n",
    "\n",
    "import electric_car as ec\n",
    "\n",
    "my_leaf = ec.ElectricCar('nissan', 'leaf', 2024)\n",
    "print(my_leaf.get_descriptive_name())"
   ]
  },
  {
   "cell_type": "markdown",
   "id": "8d73e33c-5e3a-489d-9a94-25859d5a8dc8",
   "metadata": {},
   "source": [
    "练习"
   ]
  },
  {
   "cell_type": "code",
   "execution_count": 32,
   "id": "585572b4-033e-4e12-a848-d967fb511f25",
   "metadata": {},
   "outputs": [
    {
     "name": "stdout",
     "output_type": "stream",
     "text": [
      "5 sets are needed.\n"
     ]
    }
   ],
   "source": [
    "#9.10\n",
    "from restaurant import Restaurant\n",
    "\n",
    "restaurant = Restaurant('yunmmy', 'Thai')\n",
    "\n",
    "restaurant.increment_number_served(5)\n",
    "restaurant.set_number_served()"
   ]
  },
  {
   "cell_type": "code",
   "execution_count": 35,
   "id": "c36fc2e0-ecd2-4beb-978f-d7ee2422fcab",
   "metadata": {},
   "outputs": [
    {
     "name": "stdout",
     "output_type": "stream",
     "text": [
      "You are admin, and you have the following authorities: \n",
      "['can add post', 'can delete post', 'can ban user']\n"
     ]
    }
   ],
   "source": [
    "#9.11\n",
    "import user_and_admin \n",
    "\n",
    "admin_0 = Admin('helen', 'smith')\n",
    "\n",
    "admin_0.privileges.show_privileges()"
   ]
  },
  {
   "cell_type": "code",
   "execution_count": 40,
   "id": "5cf80337-e55c-417d-b1d8-86e84d72541e",
   "metadata": {},
   "outputs": [
    {
     "name": "stdout",
     "output_type": "stream",
     "text": [
      "You are admin, and you have the following authorities: \n",
      "['can add post', 'can delete post', 'can ban user']\n"
     ]
    }
   ],
   "source": [
    "#9.12\n",
    "from user import User\n",
    "from admin import Privileges, Admin\n",
    "\n",
    "admin_0 = Admin('helen', 'smith')\n",
    "\n",
    "admin_0.privileges.show_privileges()"
   ]
  },
  {
   "cell_type": "markdown",
   "id": "4222c7ad-148e-4347-9f35-4fa525aef048",
   "metadata": {},
   "source": [
    "9.5 Python 标准库"
   ]
  },
  {
   "cell_type": "code",
   "execution_count": 10,
   "id": "3c3694f2-b549-4f25-a25a-2376e4c45e44",
   "metadata": {},
   "outputs": [
    {
     "data": {
      "text/plain": [
       "2"
      ]
     },
     "execution_count": 10,
     "metadata": {},
     "output_type": "execute_result"
    }
   ],
   "source": [
    "from random import randint\n",
    "randint(1, 6)"
   ]
  },
  {
   "cell_type": "code",
   "execution_count": 11,
   "id": "dfd6f9d6-10b0-44fa-beca-31760a8ef6d4",
   "metadata": {},
   "outputs": [
    {
     "data": {
      "text/plain": [
       "'charles'"
      ]
     },
     "execution_count": 11,
     "metadata": {},
     "output_type": "execute_result"
    }
   ],
   "source": [
    "from random import choice\n",
    "players = ['charles', 'martina', 'florence', 'eli']\n",
    "first_up = choice(players)\n",
    "first_up"
   ]
  },
  {
   "cell_type": "markdown",
   "id": "83f169ce-3861-4da5-9bb1-6636c813daa2",
   "metadata": {},
   "source": [
    "练习"
   ]
  },
  {
   "cell_type": "code",
   "execution_count": 9,
   "id": "7c2b8bbb-993a-496f-80dd-c36c810aab97",
   "metadata": {},
   "outputs": [
    {
     "name": "stdout",
     "output_type": "stream",
     "text": [
      "1\n",
      "1\n",
      "3\n",
      "6\n",
      "6\n",
      "4\n",
      "4\n",
      "1\n",
      "3\n",
      "3\n",
      "\n",
      "7\n",
      "6\n",
      "3\n",
      "9\n",
      "4\n",
      "8\n",
      "10\n",
      "4\n",
      "1\n",
      "5\n",
      "\n",
      "14\n",
      "4\n",
      "17\n",
      "3\n",
      "5\n",
      "16\n",
      "19\n",
      "15\n",
      "11\n",
      "15\n"
     ]
    }
   ],
   "source": [
    "#9.13\n",
    "from random import randint\n",
    "\n",
    "class Die:\n",
    "    \"\"\"创建一个骰子\"\"\"\n",
    "    def __init__(self, sides=6):\n",
    "        \"\"\"初始化骰子的属性\"\"\"\n",
    "        self.sides = sides\n",
    "\n",
    "    def roll_die(self):\n",
    "        \"\"\"模拟掷骰子\"\"\"\n",
    "        num = randint(1, self.sides)\n",
    "        return num\n",
    "        \n",
    "\n",
    "die_0 = Die()\n",
    "\n",
    "i = 0\n",
    "while i < 10:\n",
    "    print(die_0.roll_die())\n",
    "    i = i + 1\n",
    "\n",
    "print()\n",
    "die_1 = Die(10)\n",
    "\n",
    "i = 0\n",
    "while i < 10:\n",
    "    print(die_1.roll_die())\n",
    "    i = i + 1\n",
    "\n",
    "print()\n",
    "die_2 = Die(20)\n",
    "\n",
    "i = 0\n",
    "while i < 10:\n",
    "    print(die_2.roll_die())\n",
    "    i = i + 1"
   ]
  },
  {
   "cell_type": "code",
   "execution_count": 12,
   "id": "08bd09ef-1fe2-4902-a621-69a2e3dae514",
   "metadata": {},
   "outputs": [
    {
     "name": "stdout",
     "output_type": "stream",
     "text": [
      "You win the lottery if you have 24!\n",
      "You win the lottery if you have s!\n",
      "You win the lottery if you have t!\n",
      "You win the lottery if you have g!\n"
     ]
    }
   ],
   "source": [
    "#9.14\n",
    "from random import choice\n",
    "list = [4, 5, 2, 39, 24, 34, 900, 76, 88, 203, 'a', 'g', 's', 't', 'k']\n",
    "i = 0\n",
    "while i <4:\n",
    "    win = choice(list)\n",
    "    print(f\"You win the lottery if you have {win}!\")\n",
    "    i = i + 1"
   ]
  },
  {
   "cell_type": "code",
   "execution_count": 8,
   "id": "5ebd80f3-5dcc-422f-aa2d-9ddfecc84f33",
   "metadata": {},
   "outputs": [
    {
     "name": "stdout",
     "output_type": "stream",
     "text": [
      "It have continued 1042077 times before win the lottery.\n"
     ]
    }
   ],
   "source": [
    "#9.15\n",
    "from random import choice\n",
    "my_ticket = []\n",
    "for value in range(1, 1000000):\n",
    "    my_ticket.append(value)\n",
    "i = 0\n",
    "while my_ticket:\n",
    "    win = choice(my_ticket)\n",
    "    if win != 34:\n",
    "        i = i + 1\n",
    "        continue\n",
    "    else:\n",
    "        break\n",
    "print(f\"It have continued {i} times before win the lottery.\")"
   ]
  },
  {
   "cell_type": "code",
   "execution_count": 15,
   "id": "59e20ff5-7031-4ef9-ab38-c328f7cbc63d",
   "metadata": {},
   "outputs": [
    {
     "name": "stdout",
     "output_type": "stream",
     "text": [
      "c\n",
      "e\n",
      "g\n",
      "a\n"
     ]
    }
   ],
   "source": [
    "#9.16\n",
    "from random import sample\n",
    "list = ['a', 'b', 'c', 'd', 'e', 'f', 'g']\n",
    "choices = sample(list, 4)\n",
    "for choice in choices:\n",
    "    print(choice)"
   ]
  },
  {
   "cell_type": "markdown",
   "id": "dfdb9dd4-03e7-4e06-aa52-1cafd1ace6e3",
   "metadata": {},
   "source": [
    "9.6 类的编辑风格\n",
    "类名采用大驼峰式命名法，每个单词首字母大写，不用下划线\n",
    "实例名和模块名都用全小写，单词之间加上下划线\n",
    "类的后面和模块开头包含一个文档字符串用于描述\n",
    "在类中空一行来分隔方法，用两行空格分隔类\n",
    "import语句后空一行"
   ]
  }
 ],
 "metadata": {
  "kernelspec": {
   "display_name": "Python 3 (ipykernel)",
   "language": "python",
   "name": "python3"
  },
  "language_info": {
   "codemirror_mode": {
    "name": "ipython",
    "version": 3
   },
   "file_extension": ".py",
   "mimetype": "text/x-python",
   "name": "python",
   "nbconvert_exporter": "python",
   "pygments_lexer": "ipython3",
   "version": "3.11.7"
  }
 },
 "nbformat": 4,
 "nbformat_minor": 5
}
