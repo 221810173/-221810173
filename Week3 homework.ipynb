{
 "cells": [
  {
   "cell_type": "markdown",
   "id": "0384e6f3-97c4-44f9-8f9a-ec28a4bb8d69",
   "metadata": {},
   "source": [
    "第三章 列表简介"
   ]
  },
  {
   "cell_type": "markdown",
   "id": "8c1492f1-92fd-4325-886a-885579545495",
   "metadata": {},
   "source": [
    "3.1 列表是什么"
   ]
  },
  {
   "cell_type": "code",
   "execution_count": 2,
   "id": "66e4601a-3364-40be-a5cc-adbe4deacb91",
   "metadata": {},
   "outputs": [
    {
     "name": "stdout",
     "output_type": "stream",
     "text": [
      "trek\n",
      "Trek\n",
      "cannondale\n",
      "specialized\n",
      "specialized\n"
     ]
    }
   ],
   "source": [
    "bicycles=['trek','cannondale','redline','specialized']\n",
    "print(bicycles[0])\n",
    "print(bicycles[0].title())\n",
    "print(bicycles[1])\n",
    "print(bicycles[3])\n",
    "print(bicycles[-1])"
   ]
  },
  {
   "cell_type": "code",
   "execution_count": 6,
   "id": "7f61b5e5-60e3-481a-9c7e-807cd41c6b62",
   "metadata": {},
   "outputs": [
    {
     "name": "stdout",
     "output_type": "stream",
     "text": [
      "My first bicycle was a Trek.\n"
     ]
    }
   ],
   "source": [
    "bicycles=['trek','cannondale','redline','specialized']\n",
    "message=f\"My first bicycle was a {bicycles[0].title()}.\"\n",
    "print(message)"
   ]
  },
  {
   "cell_type": "markdown",
   "id": "b626b410-750a-4ca0-bbb5-df0983f40f26",
   "metadata": {},
   "source": [
    "练习"
   ]
  },
  {
   "cell_type": "code",
   "execution_count": 3,
   "id": "12ca93ad-c3b0-4556-a997-cebcb4ff8f2f",
   "metadata": {},
   "outputs": [
    {
     "name": "stdout",
     "output_type": "stream",
     "text": [
      "Eric\n",
      "Jim\n",
      "Alice\n",
      "Helen\n"
     ]
    }
   ],
   "source": [
    "#3.1\n",
    "friends = ['Eric', 'Jim', 'Alice', 'Helen']\n",
    "print(friends[0])\n",
    "print(friends[1])\n",
    "print(friends[2])\n",
    "print(friends[3])"
   ]
  },
  {
   "cell_type": "code",
   "execution_count": 10,
   "id": "68c73844-98a4-45d8-bfda-7f7450402176",
   "metadata": {},
   "outputs": [
    {
     "name": "stdout",
     "output_type": "stream",
     "text": [
      "Good morning! Eric.\n",
      "Good morning! Jim.\n",
      "Good morning! Alice.\n",
      "Good morning! Helen.\n"
     ]
    }
   ],
   "source": [
    "#3.2\n",
    "friends = ['Eric', 'Jim', 'Alice', 'Helen']\n",
    "print(f\"Good morning! {friends[0]}.\")\n",
    "print(f\"Good morning! {friends[1]}.\")\n",
    "print(f\"Good morning! {friends[2]}.\")\n",
    "print(f\"Good morning! {friends[3]}.\")"
   ]
  },
  {
   "cell_type": "code",
   "execution_count": 9,
   "id": "c2857c36-40b0-4113-b131-13f342c1ecc5",
   "metadata": {},
   "outputs": [
    {
     "name": "stdout",
     "output_type": "stream",
     "text": [
      "I would like to go to work by bicycle.\n",
      "I would like to go to work by car.\n",
      "I would like to go to work by bus.\n",
      "I would like to go to work by subway.\n"
     ]
    }
   ],
   "source": [
    "vehicles = ['bicycle', 'car', 'bus', 'subway']\n",
    "print(f\"I would like to go to work by {vehicles[0]}.\") \n",
    "print(f\"I would like to go to work by {vehicles[1]}.\") \n",
    "print(f\"I would like to go to work by {vehicles[2]}.\")\n",
    "print(f\"I would like to go to work by {vehicles[3]}.\")"
   ]
  },
  {
   "cell_type": "markdown",
   "id": "1e95bad0-7870-4a6d-a2e8-a11ffa715652",
   "metadata": {},
   "source": [
    "3.2 修改、添加和删除元素"
   ]
  },
  {
   "cell_type": "code",
   "execution_count": 9,
   "id": "e76bc292-1cf0-43f1-a04a-959dc19a2b97",
   "metadata": {},
   "outputs": [
    {
     "name": "stdout",
     "output_type": "stream",
     "text": [
      "['honda', 'yamaha', 'suzuki']\n",
      "['ducati', 'yamaha', 'suzuki']\n",
      "['ducati', 'yamaha', 'suzuki', 'ducati']\n"
     ]
    }
   ],
   "source": [
    "motorcycles=['honda','yamaha','suzuki']\n",
    "print(motorcycles)\n",
    "\n",
    "motorcycles[0]='ducati'\n",
    "print(motorcycles)\n",
    "\n",
    "motorcycles.append('ducati')\n",
    "print(motorcycles)"
   ]
  },
  {
   "cell_type": "code",
   "execution_count": 11,
   "id": "25c85ff9-7861-42a8-bbcb-75cf96276607",
   "metadata": {},
   "outputs": [
    {
     "name": "stdout",
     "output_type": "stream",
     "text": [
      "['honda', 'yamaha', 'suzuki']\n"
     ]
    }
   ],
   "source": [
    "motorcycles=[]\n",
    "motorcycles.append('honda')\n",
    "motorcycles.append('yamaha')\n",
    "motorcycles.append('suzuki')\n",
    "print(motorcycles)"
   ]
  },
  {
   "cell_type": "code",
   "execution_count": 12,
   "id": "259cc5ab-6ba3-4256-9a43-73f93662f083",
   "metadata": {},
   "outputs": [
    {
     "name": "stdout",
     "output_type": "stream",
     "text": [
      "['ducati', 'honda', 'yamaha', 'suzuki']\n"
     ]
    }
   ],
   "source": [
    "motorcycles=['honda','yamaha','suzuki']\n",
    "motorcycles.insert(0,'ducati')\n",
    "print(motorcycles)"
   ]
  },
  {
   "cell_type": "code",
   "execution_count": 15,
   "id": "5b6e8349-acdc-44d1-a824-64c0e01023b0",
   "metadata": {},
   "outputs": [
    {
     "name": "stdout",
     "output_type": "stream",
     "text": [
      "['honda', 'yamaha', 'suzuki']\n",
      "['yamaha', 'suzuki']\n"
     ]
    }
   ],
   "source": [
    "motorcycles=['honda','yamaha','suzuki']\n",
    "print(motorcycles)\n",
    "del motorcycles[0]\n",
    "print(motorcycles)"
   ]
  },
  {
   "cell_type": "code",
   "execution_count": 14,
   "id": "e48d3dec-1d6f-44be-9764-02b18726526b",
   "metadata": {},
   "outputs": [
    {
     "name": "stdout",
     "output_type": "stream",
     "text": [
      "['honda', 'yamaha', 'suzuki']\n",
      "['honda', 'suzuki']\n"
     ]
    }
   ],
   "source": [
    "motorcycles=['honda','yamaha','suzuki']\n",
    "print(motorcycles)\n",
    "del motorcycles[1]\n",
    "print(motorcycles)"
   ]
  },
  {
   "cell_type": "code",
   "execution_count": 16,
   "id": "116410e5-219e-4858-858f-6de871f61886",
   "metadata": {},
   "outputs": [
    {
     "name": "stdout",
     "output_type": "stream",
     "text": [
      "['honda', 'yamaha', 'suzuki']\n",
      "['honda', 'yamaha']\n",
      "suzuki\n"
     ]
    }
   ],
   "source": [
    "motorcycles=['honda','yamaha','suzuki']\n",
    "print(motorcycles)\n",
    "popped_motorcycle=motorcycles.pop()\n",
    "print(motorcycles)\n",
    "print(popped_motorcycle)"
   ]
  },
  {
   "cell_type": "code",
   "execution_count": 19,
   "id": "3f4e32e7-dab4-480f-885e-266b8114f861",
   "metadata": {},
   "outputs": [
    {
     "name": "stdout",
     "output_type": "stream",
     "text": [
      "The last motorcycle I owned was a Suzuki.\n",
      "The first motorcycle I owned was a Honda.\n"
     ]
    }
   ],
   "source": [
    "motorcycles=['honda','yamaha','suzuki']\n",
    "last_owned=motorcycles.pop()\n",
    "print(f\"The last motorcycle I owned was a {last_owned.title()}.\")\n",
    "first_owned=motorcycles.pop(0)\n",
    "print(f\"The first motorcycle I owned was a {first_owned.title()}.\")"
   ]
  },
  {
   "cell_type": "code",
   "execution_count": 20,
   "id": "33d77c7a-14e2-4be2-9c32-ac567873ee31",
   "metadata": {},
   "outputs": [
    {
     "name": "stdout",
     "output_type": "stream",
     "text": [
      "['honda', 'yamaha', 'suzuki', 'ducati']\n",
      "['honda', 'yamaha', 'suzuki']\n"
     ]
    }
   ],
   "source": [
    "motorcycles=['honda','yamaha','suzuki','ducati']\n",
    "print(motorcycles)\n",
    "\n",
    "motorcycles.remove('ducati')\n",
    "print(motorcycles)"
   ]
  },
  {
   "cell_type": "code",
   "execution_count": 21,
   "id": "68c48318-fa6e-46f3-915c-a66f659d2994",
   "metadata": {},
   "outputs": [
    {
     "name": "stdout",
     "output_type": "stream",
     "text": [
      "['honda', 'yamaha', 'suzuki', 'ducati']\n",
      "['honda', 'yamaha', 'suzuki']\n",
      "\n",
      "A Ducati is too expensive for me.\n"
     ]
    }
   ],
   "source": [
    "motorcycles=['honda','yamaha','suzuki','ducati']\n",
    "print(motorcycles)\n",
    "\n",
    "too_expensive='ducati'\n",
    "motorcycles.remove(too_expensive)\n",
    "print(motorcycles)\n",
    "print(f\"\\nA {too_expensive.title()} is too expensive for me.\")"
   ]
  },
  {
   "cell_type": "markdown",
   "id": "07555f02-8a3b-4707-90a3-78d5e69c7b4b",
   "metadata": {},
   "source": [
    "练习"
   ]
  },
  {
   "cell_type": "code",
   "execution_count": 11,
   "id": "7621063b-e049-46ea-8895-a4c62c11df32",
   "metadata": {},
   "outputs": [
    {
     "name": "stdout",
     "output_type": "stream",
     "text": [
      "Mike, please come to have dinner together!\n",
      "Lin, please come to have dinner together!\n",
      "Jimmy, please come to have dinner together!\n"
     ]
    }
   ],
   "source": [
    "#3.4\n",
    "guests = ['Mike', 'Lin', 'Jimmy']\n",
    "print(f\"{guests[0]}, please come to have dinner together!\")\n",
    "print(f\"{guests[1]}, please come to have dinner together!\")\n",
    "print(f\"{guests[2]}, please come to have dinner together!\")"
   ]
  },
  {
   "cell_type": "code",
   "execution_count": 12,
   "id": "02929efd-6dbd-47ad-b011-047a30a31562",
   "metadata": {},
   "outputs": [
    {
     "name": "stdout",
     "output_type": "stream",
     "text": [
      "Mike, please come to have dinner together!\n",
      "Lin, please come to have dinner together!\n",
      "Jimmy, please come to have dinner together!\n",
      "Sorry, Lin can't come.\n",
      "Mike, please come to have dinner together!\n",
      "Alice, please come to have dinner together!\n",
      "Jimmy, please come to have dinner together!\n"
     ]
    }
   ],
   "source": [
    "#3.5\n",
    "guests = ['Mike', 'Lin', 'Jimmy']\n",
    "print(f\"{guests[0]}, please come to have dinner together!\")\n",
    "print(f\"{guests[1]}, please come to have dinner together!\")\n",
    "print(f\"{guests[2]}, please come to have dinner together!\")\n",
    "print(f\"Sorry, {guests[1]} can't come.\")\n",
    "\n",
    "guests[1] = 'Alice'\n",
    "print(f\"{guests[0]}, please come to have dinner together!\")\n",
    "print(f\"{guests[1]}, please come to have dinner together!\")\n",
    "print(f\"{guests[2]}, please come to have dinner together!\")"
   ]
  },
  {
   "cell_type": "code",
   "execution_count": 14,
   "id": "84825a04-af0f-44ea-97eb-26ed332723af",
   "metadata": {},
   "outputs": [
    {
     "name": "stdout",
     "output_type": "stream",
     "text": [
      "Mike, please come to have dinner together!\n",
      "Lin, please come to have dinner together!\n",
      "Jimmy, please come to have dinner together!\n",
      "I find a larger table.\n",
      "Alice, please come to have dinner together!\n",
      "Mike, please come to have dinner together!\n",
      "Candy, please come to have dinner together!\n",
      "Lin, please come to have dinner together!\n",
      "Jimmy, please come to have dinner together!\n",
      "Bob, please come to have dinner together!\n"
     ]
    }
   ],
   "source": [
    "guests = ['Mike', 'Lin', 'Jimmy']\n",
    "print(f\"{guests[0]}, please come to have dinner together!\")\n",
    "print(f\"{guests[1]}, please come to have dinner together!\")\n",
    "print(f\"{guests[2]}, please come to have dinner together!\")\n",
    "print(\"I find a larger table.\")\n",
    "guests.insert(0, 'Alice')\n",
    "guests.insert(2, 'Candy')\n",
    "guests.append('Bob')\n",
    "print(f\"{guests[0]}, please come to have dinner together!\")\n",
    "print(f\"{guests[1]}, please come to have dinner together!\")\n",
    "print(f\"{guests[2]}, please come to have dinner together!\")\n",
    "print(f\"{guests[3]}, please come to have dinner together!\")\n",
    "print(f\"{guests[4]}, please come to have dinner together!\")\n",
    "print(f\"{guests[5]}, please come to have dinner together!\")"
   ]
  },
  {
   "cell_type": "code",
   "execution_count": 20,
   "id": "5ae7d087-e0b7-46e8-82cb-3c17a8582cfb",
   "metadata": {},
   "outputs": [
    {
     "name": "stdout",
     "output_type": "stream",
     "text": [
      "Mike, please come to have dinner together!\n",
      "Lin, please come to have dinner together!\n",
      "Jimmy, please come to have dinner together!\n",
      "I find a larger table.\n",
      "Alice, please come to have dinner together!\n",
      "Mike, please come to have dinner together!\n",
      "Candy, please come to have dinner together!\n",
      "Lin, please come to have dinner together!\n",
      "Jimmy, please come to have dinner together!\n",
      "Bob, please come to have dinner together!\n",
      "Sorry, I only can invite two person to come.\n",
      "Sorry Bob, you can't come to have a dinner!\n",
      "Sorry Jimmy, you can't come to have a dinner!\n",
      "Sorry Lin, you can't come to have a dinner!\n",
      "Sorry Candy, you can't come to have a dinner!\n",
      "Alice, please come to have dinner together!\n",
      "Mike, please come to have dinner together!\n",
      "[]\n"
     ]
    }
   ],
   "source": [
    "guests = ['Mike', 'Lin', 'Jimmy']\n",
    "print(f\"{guests[0]}, please come to have dinner together!\")\n",
    "print(f\"{guests[1]}, please come to have dinner together!\")\n",
    "print(f\"{guests[2]}, please come to have dinner together!\")\n",
    "print(\"I find a larger table.\")\n",
    "guests.insert(0, 'Alice')\n",
    "guests.insert(2, 'Candy')\n",
    "guests.append('Bob')\n",
    "print(f\"{guests[0]}, please come to have dinner together!\")\n",
    "print(f\"{guests[1]}, please come to have dinner together!\")\n",
    "print(f\"{guests[2]}, please come to have dinner together!\")\n",
    "print(f\"{guests[3]}, please come to have dinner together!\")\n",
    "print(f\"{guests[4]}, please come to have dinner together!\")\n",
    "print(f\"{guests[5]}, please come to have dinner together!\")\n",
    "print(\"Sorry, I only can invite two person to come.\")\n",
    "guest_1 = guests.pop()\n",
    "print(f\"Sorry {guest_1}, you can't come to have a dinner!\")\n",
    "guest_2 = guests.pop()\n",
    "print(f\"Sorry {guest_2}, you can't come to have a dinner!\")\n",
    "guest_3 = guests.pop()\n",
    "print(f\"Sorry {guest_3}, you can't come to have a dinner!\")\n",
    "guest_4 = guests.pop()\n",
    "print(f\"Sorry {guest_4}, you can't come to have a dinner!\")\n",
    "print(f\"{guests[0]}, please come to have dinner together!\")\n",
    "print(f\"{guests[1]}, please come to have dinner together!\")\n",
    "del guests[0]\n",
    "del guests[0]\n",
    "print(guests)"
   ]
  },
  {
   "cell_type": "markdown",
   "id": "c739e853-a96e-4179-875f-f165687852c4",
   "metadata": {},
   "source": [
    "3.3 管理列表"
   ]
  },
  {
   "cell_type": "code",
   "execution_count": 24,
   "id": "024c9dd7-5e66-4868-b6fb-219e0bb0395c",
   "metadata": {},
   "outputs": [
    {
     "name": "stdout",
     "output_type": "stream",
     "text": [
      "['audi', 'bmw', 'subaru', 'toyota']\n",
      "['toyota', 'subaru', 'bmw', 'audi']\n"
     ]
    }
   ],
   "source": [
    "cars=['bmw','audi','toyota','subaru']\n",
    "cars.sort()\n",
    "print(cars)\n",
    "cars.sort(reverse=True)\n",
    "print(cars)"
   ]
  },
  {
   "cell_type": "code",
   "execution_count": 26,
   "id": "0c9ebe69-7506-4ae8-96b2-5ab104585684",
   "metadata": {},
   "outputs": [
    {
     "name": "stdout",
     "output_type": "stream",
     "text": [
      "Here is the original list:\n",
      "['bmw', 'audi', 'toyota', 'subaru']\n",
      "\n",
      "Here is the sorted list:\n",
      "['audi', 'bmw', 'subaru', 'toyota']\n",
      "\n",
      "Here is the original list again:\n",
      "['bmw', 'audi', 'toyota', 'subaru']\n"
     ]
    }
   ],
   "source": [
    "cars=['bmw','audi','toyota','subaru']\n",
    "\n",
    "print(\"Here is the original list:\")\n",
    "print(cars)\n",
    "\n",
    "print(\"\\nHere is the sorted list:\")\n",
    "print(sorted(cars))\n",
    "\n",
    "print(\"\\nHere is the original list again:\")\n",
    "print(cars)"
   ]
  },
  {
   "cell_type": "code",
   "execution_count": 27,
   "id": "b4c7c79e-2ae7-46bc-bb4b-18ab9c7910af",
   "metadata": {},
   "outputs": [
    {
     "name": "stdout",
     "output_type": "stream",
     "text": [
      "['bmw', 'audi', 'toyota', 'subaru']\n",
      "['subaru', 'toyota', 'audi', 'bmw']\n"
     ]
    }
   ],
   "source": [
    "cars=['bmw','audi','toyota','subaru']\n",
    "print(cars)\n",
    "\n",
    "cars.reverse()\n",
    "print(cars)"
   ]
  },
  {
   "cell_type": "code",
   "execution_count": 28,
   "id": "9bf983e6-c299-4368-abf4-e36eb514c9e1",
   "metadata": {},
   "outputs": [
    {
     "data": {
      "text/plain": [
       "4"
      ]
     },
     "execution_count": 28,
     "metadata": {},
     "output_type": "execute_result"
    }
   ],
   "source": [
    "cars=['bmw','audi','toyota','subaru']\n",
    "len(cars)"
   ]
  },
  {
   "cell_type": "markdown",
   "id": "6f04cc77-89ea-475e-8946-2081947e6b35",
   "metadata": {},
   "source": [
    "练习"
   ]
  },
  {
   "cell_type": "code",
   "execution_count": 26,
   "id": "a2f89fb0-2a2c-481f-9b9f-ccac67f07330",
   "metadata": {},
   "outputs": [
    {
     "name": "stdout",
     "output_type": "stream",
     "text": [
      "['Iceland', 'Italy', 'France', 'Japan', 'Norway']\n",
      "['France', 'Iceland', 'Italy', 'Japan', 'Norway']\n",
      "['Iceland', 'Italy', 'France', 'Japan', 'Norway']\n",
      "['Norway', 'Japan', 'Italy', 'Iceland', 'France']\n",
      "['Iceland', 'Italy', 'France', 'Japan', 'Norway']\n",
      "['Norway', 'Japan', 'France', 'Italy', 'Iceland']\n",
      "['Iceland', 'Italy', 'France', 'Japan', 'Norway']\n",
      "['France', 'Iceland', 'Italy', 'Japan', 'Norway']\n",
      "['Norway', 'Japan', 'Italy', 'Iceland', 'France']\n"
     ]
    }
   ],
   "source": [
    "#3.8\n",
    "resorts = ['Iceland', 'Italy', 'France', 'Japan', 'Norway']\n",
    "print(resorts)\n",
    "print(sorted(resorts))\n",
    "print(resorts)\n",
    "print(sorted(resorts, reverse=True))\n",
    "print(resorts)\n",
    "resorts.reverse()\n",
    "print(resorts)\n",
    "resorts.reverse()\n",
    "print(resorts)\n",
    "resorts.sort()\n",
    "print(resorts)\n",
    "resorts.sort(reverse=True)\n",
    "print(resorts)"
   ]
  },
  {
   "cell_type": "code",
   "execution_count": 27,
   "id": "8d28e6e5-1b33-46ac-8bf5-c6ec87d2bcc7",
   "metadata": {},
   "outputs": [
    {
     "name": "stdout",
     "output_type": "stream",
     "text": [
      "Mike, please come to have dinner together!\n",
      "Lin, please come to have dinner together!\n",
      "Jimmy, please come to have dinner together!\n",
      "3\n"
     ]
    }
   ],
   "source": [
    "#3.9\n",
    "guests = ['Mike', 'Lin', 'Jimmy']\n",
    "print(f\"{guests[0]}, please come to have dinner together!\")\n",
    "print(f\"{guests[1]}, please come to have dinner together!\")\n",
    "print(f\"{guests[2]}, please come to have dinner together!\")\n",
    "print(len(guests))"
   ]
  },
  {
   "cell_type": "code",
   "execution_count": 28,
   "id": "f2eb6d2f-6af9-417d-8d17-5ef36e00a044",
   "metadata": {},
   "outputs": [
    {
     "name": "stdout",
     "output_type": "stream",
     "text": [
      "['Amazon', 'English', 'Game', 'India', 'Mountain Tai', 'Paris']\n",
      "['Paris', 'Mountain Tai', 'India', 'Game', 'English', 'Amazon']\n",
      "['Amazon', 'English', 'Game', 'India', 'Mountain Tai', 'Paris']\n",
      "['Amazon', 'English', 'Game', 'India', 'Mountain Tai', 'Paris']\n",
      "6\n",
      "India\n",
      "['Amazon', 'English', 'Thsiland', 'India', 'Mountain Tai', 'Paris']\n",
      "['chinese food', 'English', 'Thsiland', 'Paris', 'Japan']\n"
     ]
    }
   ],
   "source": [
    "#3.10\n",
    "list = ['Amazon', 'Mountain Tai', 'India', 'Paris', 'English', 'Game']\n",
    "list.sort()\n",
    "print(list)\n",
    "list.sort(reverse=True)\n",
    "print(list)\n",
    "print(sorted(list))\n",
    "list.reverse()\n",
    "print(list)\n",
    "print(len(list))\n",
    "print(list[3])\n",
    "list[2] = 'Thsiland'\n",
    "print(list)\n",
    "list.append('Japan')\n",
    "list.insert(0, 'chinese food')\n",
    "del list[5]\n",
    "list.pop(4)\n",
    "list.remove('Amazon')\n",
    "print(list)"
   ]
  },
  {
   "cell_type": "markdown",
   "id": "12e90b35-b172-4104-8a4c-bebd675d9815",
   "metadata": {},
   "source": [
    "3.4 使用列表时避免索引错误"
   ]
  },
  {
   "cell_type": "code",
   "execution_count": 29,
   "id": "734b56d8-af79-4519-9ecb-826c5db0f8a7",
   "metadata": {},
   "outputs": [
    {
     "ename": "IndexError",
     "evalue": "list index out of range",
     "output_type": "error",
     "traceback": [
      "\u001b[1;31m---------------------------------------------------------------------------\u001b[0m",
      "\u001b[1;31mIndexError\u001b[0m                                Traceback (most recent call last)",
      "Cell \u001b[1;32mIn[29], line 2\u001b[0m\n\u001b[0;32m      1\u001b[0m motorcycles\u001b[38;5;241m=\u001b[39m[\u001b[38;5;124m'\u001b[39m\u001b[38;5;124mhonda\u001b[39m\u001b[38;5;124m'\u001b[39m,\u001b[38;5;124m'\u001b[39m\u001b[38;5;124myamaha\u001b[39m\u001b[38;5;124m'\u001b[39m,\u001b[38;5;124m'\u001b[39m\u001b[38;5;124msuzuki\u001b[39m\u001b[38;5;124m'\u001b[39m]\n\u001b[1;32m----> 2\u001b[0m \u001b[38;5;28mprint\u001b[39m(motorcycles[\u001b[38;5;241m3\u001b[39m])\n\u001b[0;32m      3\u001b[0m \u001b[38;5;28mprint\u001b[39m(motorcycles[\u001b[38;5;241m-\u001b[39m\u001b[38;5;241m1\u001b[39m])\n",
      "\u001b[1;31mIndexError\u001b[0m: list index out of range"
     ]
    }
   ],
   "source": [
    "#错误操作，列表元素从0开始数\n",
    "motorcycles=['honda','yamaha','suzuki']\n",
    "print(motorcycles[3])"
   ]
  },
  {
   "cell_type": "code",
   "execution_count": 30,
   "id": "3c6b41a6-c642-4ded-822c-898c3f7f41de",
   "metadata": {},
   "outputs": [
    {
     "name": "stdout",
     "output_type": "stream",
     "text": [
      "suzuki\n"
     ]
    }
   ],
   "source": [
    "motorcycles=['honda','yamaha','suzuki']\n",
    "print(motorcycles[-1])"
   ]
  },
  {
   "cell_type": "markdown",
   "id": "63226ac1-c5a7-448e-984d-6f68aa0d9b6f",
   "metadata": {},
   "source": [
    "#错误操作，列表里不包含任何元素\n",
    "motorcycles=[]\n",
    "print(motorcycles[-1])"
   ]
  },
  {
   "cell_type": "code",
   "execution_count": null,
   "id": "f56e2efa-f4e8-4a08-bbb9-65740eab2cae",
   "metadata": {},
   "outputs": [],
   "source": [
    "练习"
   ]
  },
  {
   "cell_type": "code",
   "execution_count": 30,
   "id": "d764b068-08cd-48d4-ae01-04c0a5d3945a",
   "metadata": {},
   "outputs": [
    {
     "ename": "IndexError",
     "evalue": "list index out of range",
     "output_type": "error",
     "traceback": [
      "\u001b[1;31m---------------------------------------------------------------------------\u001b[0m",
      "\u001b[1;31mIndexError\u001b[0m                                Traceback (most recent call last)",
      "Cell \u001b[1;32mIn[30], line 3\u001b[0m\n\u001b[0;32m      1\u001b[0m \u001b[38;5;66;03m#3.11\u001b[39;00m\n\u001b[0;32m      2\u001b[0m \u001b[38;5;28mlist\u001b[39m \u001b[38;5;241m=\u001b[39m [\u001b[38;5;124m'\u001b[39m\u001b[38;5;124mAmazon\u001b[39m\u001b[38;5;124m'\u001b[39m, \u001b[38;5;124m'\u001b[39m\u001b[38;5;124mMountain Tai\u001b[39m\u001b[38;5;124m'\u001b[39m, \u001b[38;5;124m'\u001b[39m\u001b[38;5;124mIndia\u001b[39m\u001b[38;5;124m'\u001b[39m, \u001b[38;5;124m'\u001b[39m\u001b[38;5;124mParis\u001b[39m\u001b[38;5;124m'\u001b[39m, \u001b[38;5;124m'\u001b[39m\u001b[38;5;124mEnglish\u001b[39m\u001b[38;5;124m'\u001b[39m, \u001b[38;5;124m'\u001b[39m\u001b[38;5;124mGame\u001b[39m\u001b[38;5;124m'\u001b[39m]\n\u001b[1;32m----> 3\u001b[0m \u001b[38;5;28mprint\u001b[39m(\u001b[38;5;28mlist\u001b[39m[\u001b[38;5;241m10\u001b[39m])\n",
      "\u001b[1;31mIndexError\u001b[0m: list index out of range"
     ]
    }
   ],
   "source": [
    "#3.11\n",
    "list = ['Amazon', 'Mountain Tai', 'India', 'Paris', 'English', 'Game']\n",
    "print(list[10])"
   ]
  },
  {
   "cell_type": "code",
   "execution_count": 31,
   "id": "c9ebec8b-a27c-4166-b7e5-643c6f6b78ba",
   "metadata": {},
   "outputs": [
    {
     "name": "stdout",
     "output_type": "stream",
     "text": [
      "English\n"
     ]
    }
   ],
   "source": [
    "list = ['Amazon', 'Mountain Tai', 'India', 'Paris', 'English', 'Game']\n",
    "print(list[4])"
   ]
  }
 ],
 "metadata": {
  "kernelspec": {
   "display_name": "Python 3 (ipykernel)",
   "language": "python",
   "name": "python3"
  },
  "language_info": {
   "codemirror_mode": {
    "name": "ipython",
    "version": 3
   },
   "file_extension": ".py",
   "mimetype": "text/x-python",
   "name": "python",
   "nbconvert_exporter": "python",
   "pygments_lexer": "ipython3",
   "version": "3.11.7"
  }
 },
 "nbformat": 4,
 "nbformat_minor": 5
}
