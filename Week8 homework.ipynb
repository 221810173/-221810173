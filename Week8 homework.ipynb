{
 "cells": [
  {
   "cell_type": "markdown",
   "id": "03ffc7c5-e09b-462a-8a8e-bf5c0865eedc",
   "metadata": {},
   "source": [
    "第8章 函数"
   ]
  },
  {
   "cell_type": "markdown",
   "id": "a8d5097d-e0f3-432c-9452-e33de1302c06",
   "metadata": {},
   "source": [
    "8.1 定义函数"
   ]
  },
  {
   "cell_type": "code",
   "execution_count": 1,
   "id": "0cd6bd72-5ee7-4a3d-9e2b-5aa95f36c5e3",
   "metadata": {},
   "outputs": [
    {
     "name": "stdout",
     "output_type": "stream",
     "text": [
      "Hello!\n"
     ]
    }
   ],
   "source": [
    "#定义函数的方法\n",
    "def greet_user():\n",
    "    \"\"\"显示简单的问候语\"\"\"#文档字符串用来注释\n",
    "    print(\"Hello!\")\n",
    "\n",
    "greet_user()"
   ]
  },
  {
   "cell_type": "code",
   "execution_count": 5,
   "id": "a3aa359b-74f5-419e-b766-8818d9f0f8ed",
   "metadata": {},
   "outputs": [
    {
     "name": "stdout",
     "output_type": "stream",
     "text": [
      "Hello, Jesse!\n",
      "Hello, Sarah!\n"
     ]
    }
   ],
   "source": [
    "#向函数指定一个值\n",
    "def greet_user(username):#形参parameter\n",
    "    \"\"\"显示简单的问候语\"\"\"\n",
    "    print(f\"Hello, {username.title()}!\")\n",
    "\n",
    "greet_user('jesse')#实参argument\n",
    "greet_user('sarah')"
   ]
  },
  {
   "cell_type": "markdown",
   "id": "ec443a68-285f-4c10-9b84-080d0909c8bd",
   "metadata": {},
   "source": [
    "练习"
   ]
  },
  {
   "cell_type": "code",
   "execution_count": 2,
   "id": "58364051-740e-4f6e-872f-cb0c14d80bd6",
   "metadata": {},
   "outputs": [
    {
     "name": "stdout",
     "output_type": "stream",
     "text": [
      "The main point of this article is love.\n"
     ]
    }
   ],
   "source": [
    "#8.1\n",
    "def display_message(theme):\n",
    "    \"\"\"指出文章主旨\"\"\"\n",
    "    print(f\"The main point of this article is {theme}.\")\n",
    "display_message('love')"
   ]
  },
  {
   "cell_type": "code",
   "execution_count": 31,
   "id": "38e84a27-4ae0-478c-820b-b5fb5d32ffb6",
   "metadata": {},
   "outputs": [
    {
     "name": "stdout",
     "output_type": "stream",
     "text": [
      "One of my favorite books is Alice in Wonderland\n"
     ]
    }
   ],
   "source": [
    "#8.2\n",
    "def favorite_book(title):\n",
    "    \"\"\"告知最喜欢的书\"\"\"\n",
    "    print(f\"One of my favorite books is {title}\")\n",
    "\n",
    "favorite_book(\"Alice in Wonderland\")"
   ]
  },
  {
   "cell_type": "markdown",
   "id": "64e0035f-8276-4f8d-bd1c-e3a74cf6327b",
   "metadata": {},
   "source": [
    "8.2 传递实参"
   ]
  },
  {
   "cell_type": "code",
   "execution_count": 6,
   "id": "2e5407b7-7c19-49ba-90dc-fff2859f0582",
   "metadata": {},
   "outputs": [
    {
     "name": "stdout",
     "output_type": "stream",
     "text": [
      "\n",
      "I have a hamster.\n",
      "My hamster's name is Harry.\n"
     ]
    }
   ],
   "source": [
    "def describe_pet(animal_type, pet_name):\n",
    "    \"\"\"显示宠物的信息\"\"\"\n",
    "    print(f\"\\nI have a {animal_type}.\")\n",
    "    print(f\"My {animal_type}'s name is {pet_name.title()}.\")\n",
    "\n",
    "describe_pet('hamster', 'harry')"
   ]
  },
  {
   "cell_type": "code",
   "execution_count": 7,
   "id": "775d20d3-1965-4abc-9d8f-3d48ada9922b",
   "metadata": {},
   "outputs": [
    {
     "name": "stdout",
     "output_type": "stream",
     "text": [
      "\n",
      "I have a hamster.\n",
      "My hamster's name is Harry.\n",
      "\n",
      "I have a dog.\n",
      "My dog's name is Willie.\n"
     ]
    }
   ],
   "source": [
    "def describe_pet(animal_type, pet_name):\n",
    "    \"\"\"显示宠物的信息\"\"\"\n",
    "    print(f\"\\nI have a {animal_type}.\")\n",
    "    print(f\"My {animal_type}'s name is {pet_name.title()}.\")\n",
    "\n",
    "describe_pet('hamster', 'harry')\n",
    "describe_pet('dog', 'willie')"
   ]
  },
  {
   "cell_type": "code",
   "execution_count": 8,
   "id": "8563e9f2-90e3-48df-8df9-e6333570070c",
   "metadata": {},
   "outputs": [
    {
     "name": "stdout",
     "output_type": "stream",
     "text": [
      "\n",
      "I have a harry.\n",
      "My harry's name is Hamster.\n"
     ]
    }
   ],
   "source": [
    "def describe_pet(animal_type, pet_name):\n",
    "    \"\"\"显示宠物的信息\"\"\"\n",
    "    print(f\"\\nI have a {animal_type}.\")\n",
    "    print(f\"My {animal_type}'s name is {pet_name.title()}.\")\n",
    "\n",
    "describe_pet('harry', 'hamster')\n",
    "###形参和实参的错误对应"
   ]
  },
  {
   "cell_type": "code",
   "execution_count": 10,
   "id": "a90761d3-a346-4326-8a82-d8c7d72ac364",
   "metadata": {},
   "outputs": [
    {
     "name": "stdout",
     "output_type": "stream",
     "text": [
      "\n",
      "I have a hamster.\n",
      "My hamster's name is Harry.\n"
     ]
    }
   ],
   "source": [
    "#关键词实参，没有顺序\n",
    "def describe_pet(animal_type, pet_name):\n",
    "    \"\"\"显示宠物的信息\"\"\"\n",
    "    print(f\"\\nI have a {animal_type}.\")\n",
    "    print(f\"My {animal_type}'s name is {pet_name.title()}.\")\n",
    "\n",
    "describe_pet(pet_name='harry', animal_type='hamster')"
   ]
  },
  {
   "cell_type": "code",
   "execution_count": 13,
   "id": "82cb6c8f-c95d-401a-bd06-1686eda9815c",
   "metadata": {},
   "outputs": [
    {
     "name": "stdout",
     "output_type": "stream",
     "text": [
      "\n",
      "I have a dog.\n",
      "My dog's name is Willie.\n"
     ]
    }
   ],
   "source": [
    "#固定形参\n",
    "def describe_pet(pet_name, animal_type='dog'):\n",
    "    \"\"\"显示宠物的信息\"\"\"\n",
    "    print(f\"\\nI have a {animal_type}.\")\n",
    "    print(f\"My {animal_type}'s name is {pet_name.title()}.\")\n",
    "\n",
    "describe_pet('willie')#默认属于另一个形参"
   ]
  },
  {
   "cell_type": "code",
   "execution_count": 14,
   "id": "ddcba219-4d5e-4695-8fa8-c85b0cb52daa",
   "metadata": {},
   "outputs": [
    {
     "name": "stdout",
     "output_type": "stream",
     "text": [
      "\n",
      "I have a hamster.\n",
      "My hamster's name is Harry.\n"
     ]
    }
   ],
   "source": [
    "#固定形参\n",
    "def describe_pet(pet_name, animal_type='dog'):\n",
    "    \"\"\"显示宠物的信息\"\"\"\n",
    "    print(f\"\\nI have a {animal_type}.\")\n",
    "    print(f\"My {animal_type}'s name is {pet_name.title()}.\")\n",
    "\n",
    "describe_pet(pet_name='harry', animal_type='hamster')#忽略固定形参"
   ]
  },
  {
   "cell_type": "code",
   "execution_count": 16,
   "id": "95be6793-aab4-4958-a78b-541077b470b7",
   "metadata": {},
   "outputs": [
    {
     "ename": "TypeError",
     "evalue": "describe_pet() missing 2 required positional arguments: 'animal_type' and 'pet_name'",
     "output_type": "error",
     "traceback": [
      "\u001b[1;31m---------------------------------------------------------------------------\u001b[0m",
      "\u001b[1;31mTypeError\u001b[0m                                 Traceback (most recent call last)",
      "Cell \u001b[1;32mIn[16], line 7\u001b[0m\n\u001b[0;32m      4\u001b[0m     \u001b[38;5;28mprint\u001b[39m(\u001b[38;5;124mf\u001b[39m\u001b[38;5;124m\"\u001b[39m\u001b[38;5;130;01m\\n\u001b[39;00m\u001b[38;5;124mI have a \u001b[39m\u001b[38;5;132;01m{\u001b[39;00manimal_type\u001b[38;5;132;01m}\u001b[39;00m\u001b[38;5;124m.\u001b[39m\u001b[38;5;124m\"\u001b[39m)\n\u001b[0;32m      5\u001b[0m     \u001b[38;5;28mprint\u001b[39m(\u001b[38;5;124mf\u001b[39m\u001b[38;5;124m\"\u001b[39m\u001b[38;5;124mMy \u001b[39m\u001b[38;5;132;01m{\u001b[39;00manimal_type\u001b[38;5;132;01m}\u001b[39;00m\u001b[38;5;124m'\u001b[39m\u001b[38;5;124ms name is \u001b[39m\u001b[38;5;132;01m{\u001b[39;00mpet_name\u001b[38;5;241m.\u001b[39mtitle()\u001b[38;5;132;01m}\u001b[39;00m\u001b[38;5;124m.\u001b[39m\u001b[38;5;124m\"\u001b[39m)\n\u001b[1;32m----> 7\u001b[0m describe_pet()\n",
      "\u001b[1;31mTypeError\u001b[0m: describe_pet() missing 2 required positional arguments: 'animal_type' and 'pet_name'"
     ]
    }
   ],
   "source": [
    "#缺少实参，报错\n",
    "def describe_pet(animal_type, pet_name):\n",
    "    \"\"\"显示宠物的信息\"\"\"\n",
    "    print(f\"\\nI have a {animal_type}.\")\n",
    "    print(f\"My {animal_type}'s name is {pet_name.title()}.\")\n",
    "\n",
    "describe_pet()"
   ]
  },
  {
   "cell_type": "markdown",
   "id": "86a9e1f3-1d55-43fe-9138-c4f000c9c277",
   "metadata": {},
   "source": [
    "练习"
   ]
  },
  {
   "cell_type": "code",
   "execution_count": 14,
   "id": "c639aef2-63b3-4464-a159-cce267723cfb",
   "metadata": {},
   "outputs": [
    {
     "name": "stdout",
     "output_type": "stream",
     "text": [
      "This is a S size T-shirt with 'I love you' printed on it.\n",
      "This is a L size T-shirt with 'Hello' printed on it.\n"
     ]
    }
   ],
   "source": [
    "#8.3\n",
    "def make_shirt(size, content):\n",
    "    print(f\"This is a {size.title()} size T-shirt with '{content}' printed on it.\")\n",
    "make_shirt('s', 'I love you')\n",
    "make_shirt(content = 'Hello', size = 'l')"
   ]
  },
  {
   "cell_type": "code",
   "execution_count": 15,
   "id": "3d033c0b-dfb2-4595-906a-315abbf26928",
   "metadata": {},
   "outputs": [
    {
     "name": "stdout",
     "output_type": "stream",
     "text": [
      "This is a L size T-shirt with 'I love Python' printed on it.\n",
      "This is a M size T-shirt with 'I love Python' printed on it.\n",
      "This is a L size T-shirt with 'I love Java' printed on it.\n"
     ]
    }
   ],
   "source": [
    "#8.4\n",
    "def make_shirt(size = 'l', content = 'I love Python'):\n",
    "    print(f\"This is a {size.title()} size T-shirt with '{content}' printed on it.\")\n",
    "make_shirt()\n",
    "make_shirt(size = 'm')\n",
    "make_shirt(content = 'I love Java')"
   ]
  },
  {
   "cell_type": "code",
   "execution_count": 21,
   "id": "88ae7090-3984-460d-b03f-78f11cbe00c4",
   "metadata": {},
   "outputs": [
    {
     "name": "stdout",
     "output_type": "stream",
     "text": [
      "Beijing belongs to China\n",
      "Shanghai belongs to China\n",
      "New York belongs to America\n"
     ]
    }
   ],
   "source": [
    "#8.5\n",
    "def describe_city(city, country = 'china'):#固定形参放在后面\n",
    "    print(f\"{city.title()} belongs to {country.title()}\")\n",
    "describe_city('beijing')\n",
    "describe_city('shanghai')\n",
    "describe_city(country = 'america', city ='new york')#先位置后关键词"
   ]
  },
  {
   "cell_type": "markdown",
   "id": "25bd18fb-5906-4657-8007-cafa0245ecf6",
   "metadata": {},
   "source": [
    "8.3 返回值"
   ]
  },
  {
   "cell_type": "code",
   "execution_count": 20,
   "id": "d6ee0783-a7d0-4935-a53a-3794937f86eb",
   "metadata": {},
   "outputs": [
    {
     "name": "stdout",
     "output_type": "stream",
     "text": [
      "Jimi Hendrix\n"
     ]
    }
   ],
   "source": [
    "#return语句将函数处理结果的值返回到调用函数处，否则会输出 None值\n",
    "def get_formatted_name(first_name, last_name):\n",
    "    \"\"\"返回标准格式的姓名\"\"\"\n",
    "    full_name = f\"{first_name} {last_name}\"\n",
    "    return full_name.title()\n",
    "\n",
    "musician = get_formatted_name('jimi', 'hendrix')\n",
    "print(musician)"
   ]
  },
  {
   "cell_type": "code",
   "execution_count": 29,
   "id": "4b30b68a-ec3a-48d1-bf00-05fe747df260",
   "metadata": {},
   "outputs": [
    {
     "name": "stdout",
     "output_type": "stream",
     "text": [
      "John Lee Hooker\n"
     ]
    }
   ],
   "source": [
    "def get_formatted_name(first_name, middle_name, last_name):\n",
    "    \"\"\"返回标准格式的姓名\"\"\"\n",
    "    full_name = f\"{first_name} {middle_name} {last_name}\"\n",
    "    return full_name.title()\n",
    "\n",
    "musician = get_formatted_name('john', 'lee', 'hooker')\n",
    "print(musician)"
   ]
  },
  {
   "cell_type": "code",
   "execution_count": 33,
   "id": "1237906c-2142-4480-baba-b695bf3fd29b",
   "metadata": {},
   "outputs": [
    {
     "name": "stdout",
     "output_type": "stream",
     "text": [
      "Jimi Hendrix\n",
      "John Lee Hooker\n"
     ]
    }
   ],
   "source": [
    "#可选实参\n",
    "def get_formatted_name(first_name, last_name, middle_name=''):\n",
    "    \"\"\"返回标准格式的姓名\"\"\"\n",
    "    if middle_name:\n",
    "        full_name = f\"{first_name} {middle_name} {last_name}\"\n",
    "    else:\n",
    "        full_name = f\"{first_name} {last_name}\"\n",
    "    return full_name.title()\n",
    "\n",
    "musician = get_formatted_name('jimi', 'hendrix')\n",
    "print(musician)\n",
    "\n",
    "musician = get_formatted_name('john', 'hooker', 'lee')\n",
    "print(musician)"
   ]
  },
  {
   "cell_type": "code",
   "execution_count": 1,
   "id": "48a02d54-26dd-44b6-bd37-2cf84250b6df",
   "metadata": {},
   "outputs": [
    {
     "name": "stdout",
     "output_type": "stream",
     "text": [
      "{'first': 'jimi', 'last': 'hendrix'}\n"
     ]
    }
   ],
   "source": [
    "def build_person(first_name, last_name):\n",
    "    \"\"\"返回一个字典，其中包含有关一个人的信息\"\"\"\n",
    "    person = {'first':first_name, 'last':last_name}\n",
    "    return person\n",
    "\n",
    "musician = build_person('jimi', 'hendrix')\n",
    "print(musician)"
   ]
  },
  {
   "cell_type": "code",
   "execution_count": 2,
   "id": "c9024859-78b2-4c09-b798-7e9b23af4ce4",
   "metadata": {},
   "outputs": [
    {
     "name": "stdout",
     "output_type": "stream",
     "text": [
      "{'first': 'jimi', 'last': 'hendrix', 'age': 27}\n"
     ]
    }
   ],
   "source": [
    "def build_person(first_name, last_name, age=None):\n",
    "    \"\"\"返回一个字典，其中包含有关一个人的信息\"\"\"\n",
    "    person = {'first':first_name, 'last':last_name}\n",
    "    if age:\n",
    "        person['age'] = age\n",
    "    return person\n",
    "\n",
    "musician = build_person('jimi', 'hendrix', age=27)\n",
    "print(musician)"
   ]
  },
  {
   "cell_type": "code",
   "execution_count": 7,
   "id": "8c42cb18-4584-4090-a958-7e3edcfad359",
   "metadata": {},
   "outputs": [
    {
     "name": "stdout",
     "output_type": "stream",
     "text": [
      "\n",
      "Please tell me your name:\n",
      "(enter 'q' at any time to quit)\n"
     ]
    },
    {
     "name": "stdin",
     "output_type": "stream",
     "text": [
      "First name:  eric\n",
      "Last name:  matthes\n"
     ]
    },
    {
     "name": "stdout",
     "output_type": "stream",
     "text": [
      "\n",
      "Hello, Eric Matthes!\n",
      "\n",
      "Please tell me your name:\n",
      "(enter 'q' at any time to quit)\n"
     ]
    },
    {
     "name": "stdin",
     "output_type": "stream",
     "text": [
      "First name:  q\n"
     ]
    }
   ],
   "source": [
    "def get_formatted_name(first_name, last_name):\n",
    "    \"\"\"返回标准格式的姓名\"\"\"\n",
    "    full_name = f\"{first_name} {last_name}\"\n",
    "    return full_name.title()\n",
    "\n",
    "while True:\n",
    "    print(\"\\nPlease tell me your name:\")\n",
    "    print(\"(enter 'q' at any time to quit)\")\n",
    "\n",
    "    f_name = input(\"First name: \")\n",
    "    if f_name == 'q':\n",
    "        break\n",
    "\n",
    "    l_name = input(\"Last name: \")\n",
    "    if l_name == 'q':\n",
    "        break\n",
    "\n",
    "    formatted_name = get_formatted_name(f_name, l_name)\n",
    "    print(f\"\\nHello, {formatted_name}!\")"
   ]
  },
  {
   "cell_type": "markdown",
   "id": "1296023e-3a49-4a49-b3ff-e4c256df9b01",
   "metadata": {},
   "source": [
    "练习"
   ]
  },
  {
   "cell_type": "code",
   "execution_count": 5,
   "id": "a828a547-2b7b-4b4a-90a5-468e355d1ca7",
   "metadata": {},
   "outputs": [
    {
     "name": "stdout",
     "output_type": "stream",
     "text": [
      "Santiago, Chile\n"
     ]
    }
   ],
   "source": [
    "#8.6\n",
    "def city_country(city, country):\n",
    "    info = f\"{city}, {country}\"\n",
    "    return info\n",
    "info_1 = city_country('Santiago', 'Chile')\n",
    "print(info_1)"
   ]
  },
  {
   "cell_type": "code",
   "execution_count": 4,
   "id": "85cd1bd6-e206-4f43-bcaa-b70ea3c38fc8",
   "metadata": {},
   "outputs": [
    {
     "name": "stdout",
     "output_type": "stream",
     "text": [
      "{'Name': 'sasa', 'Singer': 'zhoujie'}\n",
      "{'Name': 'linar', 'Singer': 'kuian', 'Songs': 7}\n"
     ]
    }
   ],
   "source": [
    "#8.7\n",
    "def make_album(name, singer, songs=None):\n",
    "    \"\"\"返回一个字典，其中包含专辑的信息\"\"\"\n",
    "    album = {'Name':name, 'Singer':singer}\n",
    "    if songs:\n",
    "        album['Songs'] = songs\n",
    "    return album\n",
    "album_1 = make_album('sasa', 'zhoujie')\n",
    "print(album_1)\n",
    "album_2 = make_album('linar', 'kuian', songs=7)\n",
    "print(album_2)"
   ]
  },
  {
   "cell_type": "code",
   "execution_count": 19,
   "id": "eb802b55-3250-4620-8acd-ce8abd152792",
   "metadata": {},
   "outputs": [
    {
     "name": "stdout",
     "output_type": "stream",
     "text": [
      "\n",
      "Please enter album's information:\n",
      "(enter 'q' at any time to quit.)\n"
     ]
    },
    {
     "name": "stdin",
     "output_type": "stream",
     "text": [
      "Please enter album's name:  casse\n",
      "Please enter album's maker:  June\n",
      "Please enter the number of songs in album(if you don't know, you can skip.):  \n"
     ]
    },
    {
     "name": "stdout",
     "output_type": "stream",
     "text": [
      "\n",
      "{'Name': 'casse', 'Singer': 'June'}\n",
      "\n",
      "Please enter album's information:\n",
      "(enter 'q' at any time to quit.)\n"
     ]
    },
    {
     "name": "stdin",
     "output_type": "stream",
     "text": [
      "Please enter album's name:  blue\n",
      "Please enter album's maker:  Hcen\n",
      "Please enter the number of songs in album(if you don't know, you can skip.):  9\n"
     ]
    },
    {
     "name": "stdout",
     "output_type": "stream",
     "text": [
      "\n",
      "{'Name': 'blue', 'Singer': 'Hcen', 'Songs': '9'}\n",
      "\n",
      "Please enter album's information:\n",
      "(enter 'q' at any time to quit.)\n"
     ]
    },
    {
     "name": "stdin",
     "output_type": "stream",
     "text": [
      "Please enter album's name:  q\n"
     ]
    }
   ],
   "source": [
    "#8.8\n",
    "def make_album(name, singer, songs=None):\n",
    "    \"\"\"返回一个字典，其中包含专辑的信息\"\"\"\n",
    "    album = {'Name':name, 'Singer':singer}\n",
    "    if songs:\n",
    "        album['Songs'] = songs\n",
    "    return album\n",
    "while True:\n",
    "    print(\"\\nPlease enter album's information:\")\n",
    "    print(\"(enter 'q' at any time to quit.)\")\n",
    "    name = input(\"Please enter album's name: \")\n",
    "    if name == 'q':\n",
    "        break\n",
    "    singer = input(\"Please enter album's maker: \")\n",
    "    if name == 'q':\n",
    "        break\n",
    "    songs = input(\"Please enter the number of songs in album(if you don't know, you can skip.): \")\n",
    "    if name == 'q':\n",
    "        break\n",
    "    info = make_album(name, singer, songs)\n",
    "    print(f\"\\n{info}\")"
   ]
  },
  {
   "cell_type": "markdown",
   "id": "8cba22d3-cb6d-4369-b24c-a961f481d940",
   "metadata": {},
   "source": [
    "8.4 传递列表"
   ]
  },
  {
   "cell_type": "code",
   "execution_count": 8,
   "id": "d3cf2d58-ea4e-4621-a54a-bb0c42820a44",
   "metadata": {},
   "outputs": [
    {
     "name": "stdout",
     "output_type": "stream",
     "text": [
      "Hello, Hannah!\n",
      "Hello, Ty!\n",
      "Hello, Margot!\n"
     ]
    }
   ],
   "source": [
    "def greet_users(names):\n",
    "    \"\"\"向列表中的每个用户发出简单的问候\"\"\"\n",
    "    for name in names:\n",
    "        msg = f\"Hello, {name.title()}!\"\n",
    "        print(msg)\n",
    "\n",
    "usernames = ['hannah', 'ty', 'margot']\n",
    "greet_users(usernames)"
   ]
  },
  {
   "cell_type": "code",
   "execution_count": 9,
   "id": "6144bafe-fba6-4e91-b62e-b09c504f9f7d",
   "metadata": {},
   "outputs": [
    {
     "name": "stdout",
     "output_type": "stream",
     "text": [
      "Printing model: dodecahedron\n",
      "Printing model: robot pedant\n",
      "Printing model: phone case\n",
      "\n",
      "The following models have been printed:\n",
      "dodecahedron\n",
      "robot pedant\n",
      "phone case\n"
     ]
    }
   ],
   "source": [
    "unprinted_designs = ['phone case', 'robot pedant', 'dodecahedron']\n",
    "completed_models = []\n",
    "#传变量是深拷贝，传列表是浅拷贝\n",
    "while unprinted_designs:\n",
    "    current_design = unprinted_designs.pop()\n",
    "    print(f\"Printing model: {current_design}\")\n",
    "    completed_models.append(current_design)\n",
    "\n",
    "print(\"\\nThe following models have been printed:\")\n",
    "for completed_model in completed_models:\n",
    "    print(completed_model)"
   ]
  },
  {
   "cell_type": "code",
   "execution_count": 12,
   "id": "d687919e-6afd-478a-8428-84c1c5ba0218",
   "metadata": {},
   "outputs": [
    {
     "name": "stdout",
     "output_type": "stream",
     "text": [
      "Printing model: dodecahedron\n",
      "Printing model: robot pedant\n",
      "Printing model: phone case\n",
      "\n",
      "The following models have been printed:\n",
      "dodecahedron\n",
      "robot pedant\n",
      "phone case\n"
     ]
    }
   ],
   "source": [
    "def printed_models(unprinted_designs, completed_models):\n",
    "    \"\"\"\n",
    "    模拟打印每个设计， 直到没有未打印的设计为止\n",
    "    打印每个设计后，都将其移到列表completed_designs中\n",
    "    \"\"\"\n",
    "    while unprinted_designs:\n",
    "        current_design = unprinted_designs.pop()\n",
    "        print(f\"Printing model: {current_design}\")\n",
    "        completed_models.append(current_design)\n",
    "    \n",
    "def show_completed_models(completed_models):\n",
    "    \"\"\"显示打印好的所有模型\"\"\"\n",
    "    print(\"\\nThe following models have been printed:\")\n",
    "    for completed_model in completed_models:\n",
    "        print(completed_model)\n",
    "\n",
    "unprinted_designs = ['phone case', 'robot pedant', 'dodecahedron']\n",
    "completed_models = []\n",
    "\n",
    "printed_models(unprinted_designs, completed_models)\n",
    "show_completed_models(completed_models)"
   ]
  },
  {
   "cell_type": "code",
   "execution_count": 17,
   "id": "51491bc9-7c81-444f-a798-6ad76c60bbfa",
   "metadata": {},
   "outputs": [
    {
     "name": "stdout",
     "output_type": "stream",
     "text": [
      "Printing model: dodecahedron\n",
      "Printing model: robot pedant\n",
      "Printing model: phone case\n",
      "\n",
      "The following models have been printed:\n",
      "dodecahedron\n",
      "robot pedant\n",
      "phone case\n",
      "\n",
      "['phone case', 'robot pedant', 'dodecahedron']\n"
     ]
    }
   ],
   "source": [
    "#利用副本，保留调用列表\n",
    "def printed_models(unprinted_designs, completed_models):\n",
    "    \"\"\"\n",
    "    模拟打印每个设计， 直到没有未打印的设计为止\n",
    "    打印每个设计后，都将其移到列表completed_designs中\n",
    "    \"\"\"\n",
    "    while unprinted_designs:\n",
    "        current_design = unprinted_designs.pop()\n",
    "        print(f\"Printing model: {current_design}\")\n",
    "        completed_models.append(current_design)\n",
    "    \n",
    "def show_completed_models(completed_models):\n",
    "    \"\"\"显示打印好的所有模型\"\"\"\n",
    "    print(\"\\nThe following models have been printed:\")\n",
    "    for completed_model in completed_models:\n",
    "        print(completed_model)\n",
    "\n",
    "unprinted_designs = ['phone case', 'robot pedant', 'dodecahedron']\n",
    "completed_models = []\n",
    "\n",
    "printed_models(unprinted_designs[:], completed_models)\n",
    "show_completed_models(completed_models)\n",
    "\n",
    "print(f\"\\n{unprinted_designs}\")"
   ]
  },
  {
   "cell_type": "markdown",
   "id": "fd403f34-9bc0-4fe3-a1e4-8adec7aa57be",
   "metadata": {},
   "source": [
    "练习"
   ]
  },
  {
   "cell_type": "code",
   "execution_count": 22,
   "id": "7e47bbb2-3e22-4edc-b98c-23dd2053d121",
   "metadata": {},
   "outputs": [
    {
     "name": "stdout",
     "output_type": "stream",
     "text": [
      "Hello\n",
      "Goodbye\n",
      "Thanks\n",
      "Welcome\n"
     ]
    }
   ],
   "source": [
    "#8.9\n",
    "list = ['hello','goodbye','thanks','welcome']\n",
    "def show_messages(texts):\n",
    "    for text in texts:\n",
    "        print(text.title())\n",
    "show_messages(list)"
   ]
  },
  {
   "cell_type": "code",
   "execution_count": 31,
   "id": "dce4cfa6-0824-411f-b814-16848d9d4246",
   "metadata": {},
   "outputs": [
    {
     "name": "stdout",
     "output_type": "stream",
     "text": [
      "Welcome\n",
      "Thanks\n",
      "Goodbye\n",
      "Hello\n",
      "[]\n",
      "['welcome', 'thanks', 'goodbye', 'hello']\n"
     ]
    }
   ],
   "source": [
    "#8.10\n",
    "def send_messages(list, send_messages):\n",
    "    while list:\n",
    "        current_text = list.pop()\n",
    "        print(current_text.title())\n",
    "        sent_messages.append(current_text)\n",
    "list = ['hello','goodbye','thanks','welcome']\n",
    "sent_messages = []\n",
    "send_messages(list, sent_messages)\n",
    "print(list)\n",
    "print(sent_messages)"
   ]
  },
  {
   "cell_type": "code",
   "execution_count": 1,
   "id": "96e3f537-fdcb-4855-9902-584a2cab89e6",
   "metadata": {},
   "outputs": [
    {
     "name": "stdout",
     "output_type": "stream",
     "text": [
      "Welcome\n",
      "Thanks\n",
      "Goodbye\n",
      "Hello\n",
      "['hello', 'goodbye', 'thanks', 'welcome']\n",
      "['welcome', 'thanks', 'goodbye', 'hello']\n"
     ]
    }
   ],
   "source": [
    "#8.11\n",
    "def send_messages(list, send_messages):\n",
    "    while list:\n",
    "        current_text = list.pop()\n",
    "        print(current_text.title())\n",
    "        sent_messages.append(current_text)\n",
    "list = ['hello','goodbye','thanks','welcome']\n",
    "sent_messages = []\n",
    "send_messages(list[:], sent_messages)\n",
    "print(list)\n",
    "print(sent_messages)"
   ]
  },
  {
   "cell_type": "code",
   "execution_count": null,
   "id": "7db8fb37-e387-4a12-81ff-026689930fb6",
   "metadata": {},
   "outputs": [],
   "source": [
    "8.5 传递任意数量的实参"
   ]
  },
  {
   "cell_type": "code",
   "execution_count": 22,
   "id": "ae6ccfff-173a-4a51-a413-d595711b7bc4",
   "metadata": {},
   "outputs": [
    {
     "name": "stdout",
     "output_type": "stream",
     "text": [
      "('pepperoni',)\n",
      "('mushrooms', 'green peppers', 'extra cheese')\n"
     ]
    }
   ],
   "source": [
    "def make_pizza(*toppings):#*创建一个元组\n",
    "    \"\"\"打印顾客点的所有配料\"\"\"\n",
    "    print(toppings)\n",
    "\n",
    "make_pizza('pepperoni')\n",
    "make_pizza('mushrooms','green peppers','extra cheese')"
   ]
  },
  {
   "cell_type": "code",
   "execution_count": 26,
   "id": "873d055b-7a3d-4a82-8c20-426c4aa20d0a",
   "metadata": {},
   "outputs": [
    {
     "name": "stdout",
     "output_type": "stream",
     "text": [
      "\n",
      "Making a pizza with the following toppings:\n",
      "-pepperoni\n",
      "\n",
      "Making a pizza with the following toppings:\n",
      "-mushrooms\n",
      "-green peppers\n",
      "-extra cheese\n"
     ]
    }
   ],
   "source": [
    "def make_pizza(*toppings):\n",
    "    \"\"\"打印顾客点的所有配料\"\"\"\n",
    "    print(\"\\nMaking a pizza with the following toppings:\")\n",
    "    for topping in toppings:\n",
    "        print(f\"-{topping}\")\n",
    "\n",
    "make_pizza('pepperoni')\n",
    "make_pizza('mushrooms','green peppers','extra cheese')"
   ]
  },
  {
   "cell_type": "code",
   "execution_count": 28,
   "id": "a7a9d49a-ed9f-4be8-b683-96c38575c51c",
   "metadata": {},
   "outputs": [
    {
     "name": "stdout",
     "output_type": "stream",
     "text": [
      "\n",
      "Making a 16-inch pizza with the following toppings:\n",
      "-pepperoni\n",
      "\n",
      "Making a 12-inch pizza with the following toppings:\n",
      "-mushrooms\n",
      "-green peppers\n",
      "-extra cheese\n"
     ]
    }
   ],
   "source": [
    "def make_pizza(size, *toppings):\n",
    "    \"\"\"概述要制作的披萨\"\"\"\n",
    "    print(f\"\\nMaking a {size}-inch pizza with the following toppings:\")\n",
    "    for topping in toppings:\n",
    "        print(f\"-{topping}\")\n",
    "\n",
    "make_pizza(16,'pepperoni')#默认第一个后面所有的值为任意实参\n",
    "make_pizza(12,'mushrooms','green peppers','extra cheese') "
   ]
  },
  {
   "cell_type": "code",
   "execution_count": 30,
   "id": "9c81e1ce-f5d8-4ce2-8410-ce133ca92874",
   "metadata": {},
   "outputs": [
    {
     "name": "stdout",
     "output_type": "stream",
     "text": [
      "{'location': 'princeton', 'field': 'physics', 'first_name': 'albert', 'last_name': 'einstein'}\n"
     ]
    }
   ],
   "source": [
    "def build_profile(first, last, **user_info):#**创建一个列表\n",
    "    \"\"\"创建一个字典，其中包含我们知道用户的一切\"\"\"\n",
    "    user_info['first_name'] = first\n",
    "    user_info['last_name'] = last\n",
    "    return user_info\n",
    "\n",
    "user_profile = build_profile('albert', 'einstein',\n",
    "                             location='princeton',\n",
    "                             field='physics')\n",
    "print(user_profile)"
   ]
  },
  {
   "cell_type": "markdown",
   "id": "438c3078-fb4b-4d57-b1ea-c891eb396b19",
   "metadata": {},
   "source": [
    "练习"
   ]
  },
  {
   "cell_type": "code",
   "execution_count": 4,
   "id": "73dc0c5f-3a27-4c40-a764-5f71f8a64c1d",
   "metadata": {},
   "outputs": [
    {
     "name": "stdout",
     "output_type": "stream",
     "text": [
      "('banana',)\n",
      "('tuna', 'mango')\n",
      "('pinapple', 'banana', 'mango')\n"
     ]
    }
   ],
   "source": [
    "#8.12\n",
    "def sandwich_make(*toppings):\n",
    "    print(toppings)\n",
    "sandwich_make('banana')\n",
    "sandwich_make('tuna', 'mango')\n",
    "sandwich_make('pinapple', 'banana', 'mango')"
   ]
  },
  {
   "cell_type": "code",
   "execution_count": 3,
   "id": "73a12916-1d3f-49f2-9003-545f0ee4da0c",
   "metadata": {},
   "outputs": [
    {
     "name": "stdout",
     "output_type": "stream",
     "text": [
      "{'hobby': 'watch movies', 'major': 'journalism', 'MBTI': 'ESFP', 'first_name': 'kerui', 'last_name': 'gu'}\n"
     ]
    }
   ],
   "source": [
    "#8.13\n",
    "def build_profile(first, last, **user_info):\n",
    "    \"\"\"创建一个字典，其中包含我们知道用户的一切\"\"\"\n",
    "    user_info['first_name'] = first\n",
    "    user_info['last_name'] = last\n",
    "    return user_info\n",
    "\n",
    "user_profile = build_profile('kerui', 'gu',\n",
    "                             hobby='watch movies',\n",
    "                             major='journalism',\n",
    "                             MBTI='ESFP')\n",
    "print(user_profile)"
   ]
  },
  {
   "cell_type": "code",
   "execution_count": 5,
   "id": "0e290038-b49c-49bc-a423-e822084424f9",
   "metadata": {},
   "outputs": [
    {
     "name": "stdout",
     "output_type": "stream",
     "text": [
      "{'color': 'blue', 'tow_package': True, 'manufacturer': 'subaru', 'version': 'outback'}\n"
     ]
    }
   ],
   "source": [
    "#8.14\n",
    "def make_car(car_manufacturer, car_version, **car_info):\n",
    "    car_info['manufacturer'] = car_manufacturer\n",
    "    car_info['version'] = car_version\n",
    "    return car_info\n",
    "car = make_car('subaru', 'outback', \n",
    "               color='blue',\n",
    "               tow_package=True)\n",
    "print(car)"
   ]
  },
  {
   "cell_type": "markdown",
   "id": "777b7447-9f48-4fcd-94cf-0e2c9324bc57",
   "metadata": {},
   "source": [
    "8.6 将函数存储在模块中"
   ]
  },
  {
   "cell_type": "code",
   "execution_count": null,
   "id": "4c48f925-29c8-4355-93f8-cca6289cb41b",
   "metadata": {},
   "outputs": [],
   "source": [
    "#导入整个模块：\n",
    "import module_name\n",
    "module_name.fuction_name()\n",
    "#导入特定的函数\n",
    "from module_name import function_name\n",
    "#使用as给函数制定别名\n",
    "from module_name import function_name as fn\n",
    "#使用as给制定模块制定别名\n",
    "import module_name as mn\n",
    "module_name.fuction_name()\n",
    "#导入模块中的所有函数\n",
    "from module_name import *\n",
    "#函数固定形参和调用关键字实参时，等号左右不空格"
   ]
  },
  {
   "cell_type": "code",
   "execution_count": 3,
   "id": "8d143c33-a565-49c2-a896-efc898035046",
   "metadata": {},
   "outputs": [
    {
     "name": "stdout",
     "output_type": "stream",
     "text": [
      "Printing model: dodecahedron\n",
      "Printing model: robot pedant\n",
      "Printing model: phone case\n",
      "\n",
      "The following models have been printed:\n",
      "dodecahedron\n",
      "robot pedant\n",
      "phone case\n"
     ]
    }
   ],
   "source": [
    "import printing_functions\n",
    "\n",
    "unprinted_designs = ['phone case', 'robot pedant', 'dodecahedron']\n",
    "completed_models = []\n",
    "\n",
    "printing_functions.printed_models(unprinted_designs, completed_models)\n",
    "printing_functions.show_completed_models(completed_models)"
   ]
  },
  {
   "cell_type": "code",
   "execution_count": 4,
   "id": "4b4c47c3-cab1-40e5-87a7-09493c2cfea0",
   "metadata": {},
   "outputs": [
    {
     "name": "stdout",
     "output_type": "stream",
     "text": [
      "My name is Alice.\n",
      "I major in math\n"
     ]
    }
   ],
   "source": [
    "import students_information\n",
    "students_information.students_info('Alice', 'math')"
   ]
  },
  {
   "cell_type": "code",
   "execution_count": 5,
   "id": "471f45b3-4625-4b16-8d91-7166289cdae7",
   "metadata": {},
   "outputs": [
    {
     "name": "stdout",
     "output_type": "stream",
     "text": [
      "My name is Alice.\n",
      "I major in math\n"
     ]
    }
   ],
   "source": [
    "from students_information import students_info\n",
    "students_info('Alice', 'math')"
   ]
  },
  {
   "cell_type": "code",
   "execution_count": 7,
   "id": "c7fa19b1-f623-4358-a36a-2a7c72d785f3",
   "metadata": {},
   "outputs": [
    {
     "name": "stdout",
     "output_type": "stream",
     "text": [
      "My name is Alice.\n",
      "I major in math\n"
     ]
    }
   ],
   "source": [
    "from students_information import students_info as fn\n",
    "fn('Alice', 'math')"
   ]
  },
  {
   "cell_type": "code",
   "execution_count": 8,
   "id": "1e7ca402-1d57-4a97-9def-20d051f1cffe",
   "metadata": {},
   "outputs": [
    {
     "name": "stdout",
     "output_type": "stream",
     "text": [
      "My name is Alice.\n",
      "I major in math\n"
     ]
    }
   ],
   "source": [
    "import students_information as mn\n",
    "mn.students_info('Alice', 'math')"
   ]
  },
  {
   "cell_type": "code",
   "execution_count": 9,
   "id": "24f122ef-4c06-4536-b139-2619ee670254",
   "metadata": {},
   "outputs": [
    {
     "name": "stdout",
     "output_type": "stream",
     "text": [
      "My name is Alice.\n",
      "I major in math\n"
     ]
    }
   ],
   "source": [
    "from students_information import *\n",
    "students_info('Alice', 'math')"
   ]
  }
 ],
 "metadata": {
  "kernelspec": {
   "display_name": "Python 3 (ipykernel)",
   "language": "python",
   "name": "python3"
  },
  "language_info": {
   "codemirror_mode": {
    "name": "ipython",
    "version": 3
   },
   "file_extension": ".py",
   "mimetype": "text/x-python",
   "name": "python",
   "nbconvert_exporter": "python",
   "pygments_lexer": "ipython3",
   "version": "3.11.7"
  }
 },
 "nbformat": 4,
 "nbformat_minor": 5
}
