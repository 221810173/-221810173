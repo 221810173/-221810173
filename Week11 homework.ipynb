{
 "cells": [
  {
   "cell_type": "markdown",
   "id": "c7e166f3-d291-41ab-9018-6c05916c10a4",
   "metadata": {},
   "source": [
    "第11章 测试代码"
   ]
  },
  {
   "cell_type": "markdown",
   "id": "1761fdc1-bba6-472d-8ab8-96cec8c10f8e",
   "metadata": {},
   "source": [
    "11.1 使用pip安装pytest"
   ]
  },
  {
   "cell_type": "code",
   "execution_count": null,
   "id": "2c051153-43ad-4d4b-ae35-f362c9ca60cb",
   "metadata": {},
   "outputs": [],
   "source": [
    "#更新pip：$ python -m pip intall -- upgrade pip\n",
    "#安装pytest：$ python -m pip intall -- user pytest."
   ]
  },
  {
   "cell_type": "markdown",
   "id": "19274d0d-eba6-4d9d-8ec8-76f5bf00f381",
   "metadata": {},
   "source": [
    "11.2 测试函数"
   ]
  },
  {
   "cell_type": "code",
   "execution_count": null,
   "id": "f658ca81-3ce1-46f9-a8f2-0dab36555f3b",
   "metadata": {},
   "outputs": [],
   "source": [
    "#name_function.py\n",
    "def get_formatted_name(first, last):\n",
    "    \"\"\"生成格式规范的姓名\"\"\"\n",
    "    full_name = f\"{first} {last}\"\n",
    "    return full_name.title()"
   ]
  },
  {
   "cell_type": "code",
   "execution_count": 1,
   "id": "57972d85-ec18-4e2a-af57-4d6851a605c7",
   "metadata": {},
   "outputs": [
    {
     "name": "stdout",
     "output_type": "stream",
     "text": [
      "Enter 'q' at any time to quit.\n"
     ]
    },
    {
     "name": "stdin",
     "output_type": "stream",
     "text": [
      "\n",
      "Please give me a first name:  janis\n",
      "Please give me a last name:  joplin\n"
     ]
    },
    {
     "name": "stdout",
     "output_type": "stream",
     "text": [
      "\tNeatly formatted name: Janis Joplin.\n"
     ]
    },
    {
     "name": "stdin",
     "output_type": "stream",
     "text": [
      "\n",
      "Please give me a first name:  bob\n",
      "Please give me a last name:  dylan\n"
     ]
    },
    {
     "name": "stdout",
     "output_type": "stream",
     "text": [
      "\tNeatly formatted name: Bob Dylan.\n"
     ]
    },
    {
     "name": "stdin",
     "output_type": "stream",
     "text": [
      "\n",
      "Please give me a first name:  q\n"
     ]
    }
   ],
   "source": [
    "#示例\n",
    "from name_function import get_formatted_name\n",
    "\n",
    "print(\"Enter 'q' at any time to quit.\")\n",
    "while True:\n",
    "    first = input(\"\\nPlease give me a first name: \")\n",
    "    if first == 'q':\n",
    "        break\n",
    "    last = input(\"Please give me a last name: \")\n",
    "    if last == 'q':\n",
    "        break\n",
    "\n",
    "    formatted_name = get_formatted_name(first, last)\n",
    "    print(f\"\\tNeatly formatted name: {formatted_name}.\")\n",
    "#修改函数之后如何简化测试流程？pytest提供自动测试函数输出的高校方式"
   ]
  },
  {
   "cell_type": "markdown",
   "id": "c403eca8-6331-48df-9736-fcc638816393",
   "metadata": {},
   "source": [
    "#单元测试和测试用例\n",
    "单元测试 (unit test)，用于核实的数的某个方面没有问题；测试用例(test case)是一组单元测试，这些单元测试一道核实函数在各种情况下的行为都符合要求\n",
    "良好的测试用例考虑到了函数可能收到的各种输入，包含针对所有这些情况的测试。全覆盖(fullcoverage)测试用例包含一整套单元测试，涵盖了各种可能的函数使用方式。\n",
    "对于大型项目要进行全覆盖测试可能很难。通常，最初只要针对代码的重要行为编写测试即可，等项目被广出使用时再考虑全覆盖。"
   ]
  },
  {
   "cell_type": "code",
   "execution_count": 2,
   "id": "acf293b2-4bbc-4eb1-b985-2fa11bd342a1",
   "metadata": {},
   "outputs": [],
   "source": [
    "#可通过的测试\n",
    "from name_function import get_formatted_name\n",
    "\n",
    "def test_first_last_name():#定义一个测试函数，名字要长，必须test开头\n",
    "    \"\"\"能够正确地处理像Janis Joplin这样的姓名吗？\"\"\"\n",
    "    formatted_name = get_formatted_name('janis', 'joplin')\n",
    "    assert formatted_name == 'Janis Joplin'#断言处理结果"
   ]
  },
  {
   "cell_type": "code",
   "execution_count": null,
   "id": "713d7942-9974-45ef-b363-16cb3ef274cf",
   "metadata": {},
   "outputs": [],
   "source": [
    "#运行测试\n",
    "在终端输入pytest"
   ]
  },
  {
   "cell_type": "code",
   "execution_count": null,
   "id": "c7a0bec7-aa67-404f-88fe-5fa0b6443149",
   "metadata": {},
   "outputs": [],
   "source": [
    "#未通过测试\n",
    "#新版本name_function.py\n",
    "def get_formatted_name(first, middle, last):\n",
    "    \"\"\"生成格式规范的姓名\"\"\"\n",
    "    full_name = f\"{first} {middle} {last}\"\n",
    "    return full_name.title()"
   ]
  },
  {
   "cell_type": "code",
   "execution_count": null,
   "id": "401e691d-f408-4946-ad6d-e93c6c507180",
   "metadata": {},
   "outputs": [],
   "source": [
    "#测试未通过怎么办，修改name_function.py\n",
    "def get_formatted_name(first, last, middle=''):\n",
    "    \"\"\"生成格式规范的姓名\"\"\"\n",
    "    if middle:\n",
    "        full_name = f\"{first} {middle} {last}\"\n",
    "    else:\n",
    "        full_name = f\"{first} {last}\"\n",
    "    return full_name.title()"
   ]
  },
  {
   "cell_type": "code",
   "execution_count": null,
   "id": "db4bbb9a-7caa-459d-99f9-14fea7a55386",
   "metadata": {},
   "outputs": [],
   "source": [
    "#添加新测试，修改test_name_function.py\n",
    "from name_function import get_formatted_name\n",
    "\n",
    "def test_first_last_name():\n",
    "    \"\"\"能够正确地处理像Janis Joplin 这样的姓名吗？\"\"\"\n",
    "    formatted_name = get_formatted_name('janis', 'joplin')\n",
    "    assert formatted_name == 'Janis Joplin'\n",
    "\n",
    "def test_first_last_middle_name():\n",
    "    \"\"\"能够正确地处理像Wolfgang Amadeus Mozart 这样的姓名吗？\"\"\"\n",
    "    formatted_name = get_formatted_name(\n",
    "        'wolfgang', 'mozart','amadeus')\n",
    "    assert formatted_name == 'Wolfgang Amadeus Mozart'"
   ]
  },
  {
   "cell_type": "markdown",
   "id": "45e963fe-345c-4f43-bc10-d96c61272135",
   "metadata": {},
   "source": [
    "练习"
   ]
  },
  {
   "cell_type": "code",
   "execution_count": 8,
   "id": "87a026c3-a56f-46e7-80c7-75fbe68541f6",
   "metadata": {},
   "outputs": [],
   "source": [
    "#11.1\n",
    "def city_function(city, country):\n",
    "    \"\"\"返回正确的城市信息\"\"\"\n",
    "    info = f\"{city.title()}, {country.title()}\"\n",
    "    return info\n",
    "\n",
    "\n",
    "from city_functions import city_function\n",
    "\n",
    "def test_city_country():\n",
    "    \"\"\"能够正确处理像santiago和chile这样的城市信息吗\"\"\"\n",
    "    city_info = city_function('santiago', 'chile')\n",
    "    assert city_info == 'Santiago, Chile'"
   ]
  },
  {
   "cell_type": "code",
   "execution_count": null,
   "id": "45f9f823-486b-496c-acdb-72257cc2f69e",
   "metadata": {},
   "outputs": [],
   "source": [
    "#11.2\n",
    "def city_function(city, country, population):\n",
    "    \"\"\"返回正确的城市信息\"\"\"\n",
    "    info = f\"{city.title()}, {country.title()} - population {population}\"\n",
    "    return info\n",
    "\n",
    "\n",
    "from city_functions import city_function\n",
    "\n",
    "def test_city_country():\n",
    "    \"\"\"能够正确处理像santiago和chile这样的城市信息吗\"\"\"\n",
    "    city_info = city_function('santiago', 'chile')\n",
    "    assert city_info == 'Santiago, Chile'\n",
    "\n",
    "def city_function(city, country, population=None):\n",
    "    \"\"\"返回正确的城市信息\"\"\"\n",
    "    if population:\n",
    "        info = f\"{city.title()}, {country.title()} - population {population}\"\n",
    "    else:\n",
    "        info = f\"{city.title()}, {country.title()}\"\n",
    "    return info\n",
    "\n",
    "def test_city_country_population():\n",
    "    \"\"\"能够正确处理像santiago、chile和5000000这样的城市信息吗\"\"\"\n",
    "    city_info = city_function('santiago', 'chile', 5000000)\n",
    "    assert city_info == 'Santiago, Chile - population 5000000'"
   ]
  },
  {
   "cell_type": "markdown",
   "id": "683f6a05-c1cc-43f9-99b6-a2232cad092b",
   "metadata": {},
   "source": [
    "11.3 测试类"
   ]
  },
  {
   "cell_type": "markdown",
   "id": "121f633b-cc1b-4d69-a7a5-f5c3ba275b96",
   "metadata": {},
   "source": [
    "#各种断言\n",
    "assert a == b                断言两个值相等\n",
    "assert a != b                断言两个值不等\n",
    "assert a                     断言a的布尔求值为True\n",
    "assert not a                 断言a的布尔求值为 False\n",
    "assert element in list       断言元素在列表中\n",
    "assert element not in list   断言元素不在列表中"
   ]
  },
  {
   "cell_type": "code",
   "execution_count": 3,
   "id": "687e74ed-30e0-4d73-a56c-c80625be34d4",
   "metadata": {},
   "outputs": [],
   "source": [
    "#一个要测试的类survey.py\n",
    "class AnonymousSurvey:\n",
    "    \"\"\"收集匿名调查问卷的答案\"\"\"\n",
    "\n",
    "    def __init__(self, question):\n",
    "        \"\"\"存储一个问题，并为存储答案做准备\"\"\"\n",
    "        self.question = question\n",
    "        self.responses = []\n",
    "\n",
    "    def show_question(self):\n",
    "        \"\"\"显示调查问卷\"\"\"\n",
    "        print(self.question)\n",
    "\n",
    "    def store_response(self, new_response):\n",
    "        \"\"\"存储单份调查答卷\"\"\"\n",
    "        self.responses.append(new_response)\n",
    "\n",
    "    def show_results(self):\n",
    "        \"\"\"显示收集到的所有答案\"\"\"\n",
    "        print(\"Survey results:\")\n",
    "        for response in self.responses:\n",
    "            print(f\"- {response}\")"
   ]
  },
  {
   "cell_type": "code",
   "execution_count": 4,
   "id": "0557e811-52c6-46db-9f54-e76a2987ca94",
   "metadata": {},
   "outputs": [
    {
     "name": "stdout",
     "output_type": "stream",
     "text": [
      "What language did you first learn to speak?\n",
      "Enter 'q' at anytime to quit.\n",
      "\n"
     ]
    },
    {
     "name": "stdin",
     "output_type": "stream",
     "text": [
      "Language:  English\n",
      "Language:  Spanish\n",
      "Language:  English\n",
      "Language:  Mandarin\n",
      "Language:  q\n"
     ]
    },
    {
     "name": "stdout",
     "output_type": "stream",
     "text": [
      "\n",
      "Thank you to everyone who participated in the survey!\n",
      "Survey results:\n",
      "- English\n",
      "- Spanish\n",
      "- English\n",
      "- Mandarin\n"
     ]
    }
   ],
   "source": [
    "#调用测试类language_survey.py\n",
    "\n",
    "# 定义一个问题，并创建一个表示调查的AnonymousSurvey对象\n",
    "question = \"What language did you first learn to speak?\"\n",
    "language_survey = AnonymousSurvey(question)\n",
    "\n",
    "# 显示问题并存储答案\n",
    "language_survey.show_question()\n",
    "print(\"Enter 'q' at anytime to quit.\\n\")\n",
    "while True:\n",
    "    response = input(\"Language: \")\n",
    "    if response == 'q':\n",
    "        break\n",
    "    language_survey.store_response(response)\n",
    "\n",
    "#显示调查结果\n",
    "print(\"\\nThank you to everyone who participated in the survey!\")\n",
    "language_survey.show_results()"
   ]
  },
  {
   "cell_type": "code",
   "execution_count": null,
   "id": "14b0eb12-d87d-4be3-81ab-d499948d9763",
   "metadata": {},
   "outputs": [],
   "source": [
    "#测试AnonymousSurvey类\n",
    "from survey import AnonymousSurvey\n",
    "\n",
    "def test_store_single_response():\n",
    "    \"\"\"测试单个答案会被妥善地存储\"\"\"\n",
    "    question = \"What language did you first learn to speak?\"\n",
    "    language_survey = AnonymousSurvey(question)\n",
    "    language_survey.store_response('English')\n",
    "    assert 'English' in language_survey.responses\n",
    "\n",
    "def test_store_three_response():\n",
    "    \"\"\"测试三个答案会被妥善地存储\"\"\"\n",
    "    question = \"What language did you first learn to speak?\"\n",
    "    language_survey = AnonymousSurvey(question)\n",
    "    responses = ['English', 'Spanish', 'Mandarin']\n",
    "    for response in responses:\n",
    "        language_survey.store_response(response)\n",
    "    \n",
    "    for response in responses:\n",
    "        assert response in language_survey.responses"
   ]
  },
  {
   "cell_type": "code",
   "execution_count": null,
   "id": "c271d3a2-460c-4cca-8e5b-0613c3ac98a5",
   "metadata": {},
   "outputs": [],
   "source": [
    "#使用夹具\n",
    "#装饰器decorator是放在函数定义前面的指令，使用装饰器@pytest.fixture装饰一个函数作为夹具，供多个测试函数使用的资源，测试函数传递夹具作为形参\n",
    "#测试AnonymousSurvey类\n",
    "import pytest\n",
    "from survey import AnonymousSurvey\n",
    "\n",
    "@pytest.fixture\n",
    "def language_survey():\n",
    "    \"\"\"一个可供所有测试函数使用的AnonymousSurvey实例\"\"\" \n",
    "    question = \"What language did you first learn to speak?\"\n",
    "    language_survey = AnonymousSurvey(question)\n",
    "    return language_survey\n",
    "\n",
    "def test_store_single_response(language_survey):\n",
    "    \"\"\"测试单个答案会被妥善地存储\"\"\"\n",
    "    language_survey.store_response('English')\n",
    "    assert 'English' in language_survey.responses\n",
    "\n",
    "def test_store_three_response(language_survey):\n",
    "    \"\"\"测试三个答案会被妥善地存储\"\"\"\n",
    "    responses = ['English', 'Spanish', 'Mandarin']\n",
    "    for response in responses:\n",
    "        language_survey.store_response(response)\n",
    "    \n",
    "    for response in responses:\n",
    "        assert response in language_survey.responses"
   ]
  },
  {
   "cell_type": "markdown",
   "id": "fc504ade-e6c1-4055-bf9a-d8d93b46f526",
   "metadata": {},
   "source": [
    "练习"
   ]
  },
  {
   "cell_type": "code",
   "execution_count": 32,
   "id": "67e8f0e8-f1e1-475a-b75f-adc2c7977659",
   "metadata": {},
   "outputs": [],
   "source": [
    "#11.3\n",
    "class Employee:\n",
    "    \"\"\"一个存储雇员信息的类\"\"\"\n",
    "    def __init__(self, first_name, last_name, annual_salary):\n",
    "        \"\"\"存储基本信息的尝试\"\"\"\n",
    "        self.first_name = first_name\n",
    "        self.last_name = last_name\n",
    "        self.annual_salary = annual_salary  \n",
    "    def give_raise(self, amount=5000):\n",
    "        \"\"\"默认为5000美元的工资涨幅\"\"\"\n",
    "        self.annual_salary += amount\n",
    "        return self.annual_salary\n",
    "\n",
    "\n",
    "from employee_info import Employee\n",
    "\n",
    "def test_give_default_raise():\n",
    "    \"\"\"能否处理增加默认年薪\"\"\"\n",
    "    employee_1 = Employee('alice', 'smith', 10000)\n",
    "    salary = employee_1.give_raise()\n",
    "    assert salary == 15000\n",
    "\n",
    "def test_give_custom_raise():\n",
    "    \"\"\"能否处理增加自定义年薪\"\"\"\n",
    "    employee_1 = Employee('alice', 'smith', 10000)\n",
    "    salary = employee_1.give_raise(3500)\n",
    "    assert salary == 13500\n",
    "\n",
    "\n",
    "import pytest\n",
    "from employee_info import Employee\n",
    "\n",
    "@pytest.fixture\n",
    "def employee_1():\n",
    "    \"\"\"一个可供所有测试函数使用的Employee实例\"\"\"\n",
    "    employee_1 = Employee('alice', 'smith', 10000)\n",
    "    return employee_1\n",
    "\n",
    "def test_give_default_raise(employee_1):\n",
    "    \"\"\"能否处理增加默认年薪\"\"\"\n",
    "    salary = employee_1.give_raise()\n",
    "    assert salary == 15000\n",
    "\n",
    "def test_give_custom_raise(employee_1):\n",
    "    \"\"\"能否处理增加自定义年薪\"\"\"\n",
    "    salary = employee_1.give_raise(3500)\n",
    "    assert salary == 13500"
   ]
  }
 ],
 "metadata": {
  "kernelspec": {
   "display_name": "Python 3 (ipykernel)",
   "language": "python",
   "name": "python3"
  },
  "language_info": {
   "codemirror_mode": {
    "name": "ipython",
    "version": 3
   },
   "file_extension": ".py",
   "mimetype": "text/x-python",
   "name": "python",
   "nbconvert_exporter": "python",
   "pygments_lexer": "ipython3",
   "version": "3.11.7"
  }
 },
 "nbformat": 4,
 "nbformat_minor": 5
}
