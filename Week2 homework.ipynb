{
 "cells": [
  {
   "cell_type": "markdown",
   "id": "f4d6581f-fa6e-4fd7-80bc-39f36159cd00",
   "metadata": {},
   "source": [
    "# 第二章 变量与简单的数据类型"
   ]
  },
  {
   "cell_type": "markdown",
   "id": "389cd07f-2e11-452d-a451-9d484e2b0162",
   "metadata": {},
   "source": [
    "2.1 运行hello_world.py时发生的情况"
   ]
  },
  {
   "cell_type": "code",
   "execution_count": 1,
   "id": "8d1dce1b-bfb0-44a0-8d28-ac6bb4b6a302",
   "metadata": {},
   "outputs": [
    {
     "name": "stdout",
     "output_type": "stream",
     "text": [
      "Hello Python world!\n"
     ]
    }
   ],
   "source": [
    "print(\"Hello Python world!\")"
   ]
  },
  {
   "cell_type": "markdown",
   "id": "7983c48b-ac1d-47dc-9a7a-015840e4d54b",
   "metadata": {},
   "source": [
    "2.2 变量"
   ]
  },
  {
   "cell_type": "code",
   "execution_count": 2,
   "id": "4cc9e4e4-1d88-4643-918f-4a25473d4a85",
   "metadata": {},
   "outputs": [
    {
     "name": "stdout",
     "output_type": "stream",
     "text": [
      "Hello Python world!\n"
     ]
    }
   ],
   "source": [
    "message=\"Hello Python world!\"\n",
    "print(message)"
   ]
  },
  {
   "cell_type": "code",
   "execution_count": 1,
   "id": "56e870f0-4741-44ed-89ae-cf987f210bec",
   "metadata": {},
   "outputs": [
    {
     "name": "stdout",
     "output_type": "stream",
     "text": [
      "Hello Python world!\n",
      "Hello Python Crash Course world!\n"
     ]
    }
   ],
   "source": [
    "message=\"Hello Python world!\"\n",
    "print(message)\n",
    "\n",
    "message=\"Hello Python Crash Course world!\"\n",
    "print(message)"
   ]
  },
  {
   "cell_type": "code",
   "execution_count": 6,
   "id": "c259e76c-d35d-45b5-9604-31d6ce91564f",
   "metadata": {},
   "outputs": [
    {
     "name": "stdout",
     "output_type": "stream",
     "text": [
      "Hello Python Crash Course reader!\n"
     ]
    }
   ],
   "source": [
    "message=\"Hello Python Crash Course reader!\"\n",
    "print(message)"
   ]
  },
  {
   "cell_type": "markdown",
   "id": "19d0f9e6-3eef-4501-a566-5e9ed8b12af7",
   "metadata": {},
   "source": [
    "练习"
   ]
  },
  {
   "cell_type": "code",
   "execution_count": 1,
   "id": "6c82c2ac-3605-4326-8ed5-f6b795f38c6f",
   "metadata": {},
   "outputs": [
    {
     "name": "stdout",
     "output_type": "stream",
     "text": [
      "Nice to meet you!\n"
     ]
    }
   ],
   "source": [
    "#2.1\n",
    "message = \"Nice to meet you!\"\n",
    "print(message)"
   ]
  },
  {
   "cell_type": "code",
   "execution_count": 2,
   "id": "5fbfe5b5-83a4-4a54-93c6-9b23e13e9e0a",
   "metadata": {},
   "outputs": [
    {
     "name": "stdout",
     "output_type": "stream",
     "text": [
      "Nice to meet you, too!\n"
     ]
    }
   ],
   "source": [
    "#2.2\n",
    "message = \"Nice to meet you, too!\"\n",
    "print(message)"
   ]
  },
  {
   "cell_type": "markdown",
   "id": "c0f42f55-99d1-44f8-b932-9c39d957c7d2",
   "metadata": {},
   "source": [
    "2.3 字符串"
   ]
  },
  {
   "cell_type": "code",
   "execution_count": 2,
   "id": "4a25dbf2-2f21-4ddc-a582-d262df3e845f",
   "metadata": {},
   "outputs": [
    {
     "name": "stdout",
     "output_type": "stream",
     "text": [
      "Ada Lovelace\n"
     ]
    }
   ],
   "source": [
    "name=\"ada lovelace\"\n",
    "print(name.title())"
   ]
  },
  {
   "cell_type": "code",
   "execution_count": 3,
   "id": "87c33cac-cbcf-4ea4-acf5-9809ce561a0c",
   "metadata": {},
   "outputs": [
    {
     "name": "stdout",
     "output_type": "stream",
     "text": [
      "ADA LOVELACE\n",
      "ada lovelace\n"
     ]
    }
   ],
   "source": [
    "name=\"Ada Lovelace\"\n",
    "print(name.upper())\n",
    "print(name.lower())"
   ]
  },
  {
   "cell_type": "code",
   "execution_count": 2,
   "id": "ea16a924-8577-448d-bd1a-525fd63ec13e",
   "metadata": {},
   "outputs": [
    {
     "name": "stdout",
     "output_type": "stream",
     "text": [
      "ada lovelace\n"
     ]
    }
   ],
   "source": [
    "first_name=\"ada\"\n",
    "last_name=\"lovelace\"\n",
    "full_name=f\"{first_name} {last_name}\"\n",
    "print(full_name)"
   ]
  },
  {
   "cell_type": "code",
   "execution_count": 4,
   "id": "ed73e30e-da89-4c2c-b000-a1579b6f95b7",
   "metadata": {},
   "outputs": [
    {
     "name": "stdout",
     "output_type": "stream",
     "text": [
      "Hello, Ada Lovelace\n"
     ]
    }
   ],
   "source": [
    "first_name=\"ada\"\n",
    "last_name=\"lovelace\"\n",
    "full_name=f\"{first_name} {last_name}\"\n",
    "print(f\"Hello, {full_name.title()}\")"
   ]
  },
  {
   "cell_type": "code",
   "execution_count": 5,
   "id": "bef0241a-3a69-4058-8c06-f5e28d2a8011",
   "metadata": {},
   "outputs": [
    {
     "name": "stdout",
     "output_type": "stream",
     "text": [
      "Hello, Ada Lovelace\n"
     ]
    }
   ],
   "source": [
    "first_name=\"ada\"\n",
    "last_name=\"lovelace\"\n",
    "full_name=f\"{first_name} {last_name}\"\n",
    "message=f\"Hello, {full_name.title()}\"\n",
    "print(message)"
   ]
  },
  {
   "cell_type": "code",
   "execution_count": 7,
   "id": "d98c7741-d023-4a22-9db3-a84b12281c13",
   "metadata": {},
   "outputs": [
    {
     "name": "stdout",
     "output_type": "stream",
     "text": [
      "Python\n",
      "\tPython\n"
     ]
    }
   ],
   "source": [
    "print(\"Python\")\n",
    "print(\"\\tPython\")"
   ]
  },
  {
   "cell_type": "code",
   "execution_count": 8,
   "id": "32ad76a1-9da5-4a20-83b6-d53403fcd198",
   "metadata": {},
   "outputs": [
    {
     "name": "stdout",
     "output_type": "stream",
     "text": [
      "Languages:\n",
      "Pyhton\n",
      "C\n",
      "JavaScript\n"
     ]
    }
   ],
   "source": [
    "print(\"Languages:\\nPyhton\\nC\\nJavaScript\")"
   ]
  },
  {
   "cell_type": "code",
   "execution_count": 9,
   "id": "5490403f-0d5d-4201-afed-c817ea1355c7",
   "metadata": {},
   "outputs": [
    {
     "name": "stdout",
     "output_type": "stream",
     "text": [
      "Languages:\n",
      "\tPyhton\n",
      "\tC\n",
      "\tJavaScript\n"
     ]
    }
   ],
   "source": [
    "print(\"Languages:\\n\\tPyhton\\n\\tC\\n\\tJavaScript\")"
   ]
  },
  {
   "cell_type": "code",
   "execution_count": 10,
   "id": "0752d85b-0173-483e-8897-cfec29e066dc",
   "metadata": {},
   "outputs": [
    {
     "name": "stdout",
     "output_type": "stream",
     "text": [
      "python \n",
      "python \n"
     ]
    }
   ],
   "source": [
    "favorite_language=\"python \"\n",
    "print(favorite_language)\n",
    "\n",
    "favorite_langauge=favorite_language.rstrip()\n",
    "print(favorite_language)"
   ]
  },
  {
   "cell_type": "code",
   "execution_count": 12,
   "id": "e4b03d14-6779-4075-a940-1c427fc690e0",
   "metadata": {},
   "outputs": [
    {
     "name": "stdout",
     "output_type": "stream",
     "text": [
      " python\n",
      "python \n",
      "python\n"
     ]
    }
   ],
   "source": [
    "favorite_language=\" python \"\n",
    "print(favorite_language.rstrip())\n",
    "print(favorite_language.lstrip())\n",
    "print(favorite_language.strip())"
   ]
  },
  {
   "cell_type": "code",
   "execution_count": 14,
   "id": "1821e828-5b37-4514-bba7-157ec444a078",
   "metadata": {},
   "outputs": [
    {
     "name": "stdout",
     "output_type": "stream",
     "text": [
      "nonstarch.com\n"
     ]
    }
   ],
   "source": [
    "nostarch_url=\"https://nonstarch.com\"\n",
    "print(nostarch_url.removeprefix('https://'))"
   ]
  },
  {
   "cell_type": "code",
   "execution_count": 15,
   "id": "2ae3447e-4947-4df2-bbd2-13560fb12d64",
   "metadata": {},
   "outputs": [
    {
     "name": "stdout",
     "output_type": "stream",
     "text": [
      "nonstarch.com\n"
     ]
    }
   ],
   "source": [
    "nostarch_url=\"https://nonstarch.com\"\n",
    "simple_url=nostarch_url.removeprefix('https://')\n",
    "print(simple_url)"
   ]
  },
  {
   "cell_type": "code",
   "execution_count": 17,
   "id": "60685ad8-36db-4a72-bd5b-98dba2245c58",
   "metadata": {},
   "outputs": [
    {
     "name": "stdout",
     "output_type": "stream",
     "text": [
      "One of Python's strengths is its diverse community\n"
     ]
    }
   ],
   "source": [
    "message=\"One of Python's strengths is its diverse community\"\n",
    "print(message)"
   ]
  },
  {
   "cell_type": "markdown",
   "id": "76bccb75-7226-447c-843c-8e0d2eaf3ab4",
   "metadata": {},
   "source": [
    "练习"
   ]
  },
  {
   "cell_type": "code",
   "execution_count": 3,
   "id": "97f0145b-cb02-48cc-a161-07173fa6698f",
   "metadata": {},
   "outputs": [
    {
     "name": "stdout",
     "output_type": "stream",
     "text": [
      "Hello Eric, would you like to learn some Python today?\n"
     ]
    }
   ],
   "source": [
    "#2.3\n",
    "name = 'Eric'\n",
    "print(f\"Hello {name}, would you like to learn some Python today?\")"
   ]
  },
  {
   "cell_type": "code",
   "execution_count": 5,
   "id": "81f88b3b-268b-4425-bd2d-37f7e30fff7c",
   "metadata": {},
   "outputs": [
    {
     "name": "stdout",
     "output_type": "stream",
     "text": [
      "eric smith\n",
      "ERIC SMITH\n",
      "Eric Smith\n"
     ]
    }
   ],
   "source": [
    "#2.4\n",
    "name = 'eric Smith'\n",
    "print(name.lower())\n",
    "print(name.upper())\n",
    "print(name.title())"
   ]
  },
  {
   "cell_type": "code",
   "execution_count": 9,
   "id": "3a55faed-8f13-4c41-a37c-34a8be8b40a6",
   "metadata": {},
   "outputs": [
    {
     "name": "stdout",
     "output_type": "stream",
     "text": [
      "Albert Einstein once said, \"A person who never made a mistake never tried anything new.\"\n"
     ]
    }
   ],
   "source": [
    "#2.5\n",
    "print(\"Albert Einstein once said, \\\"A person who never made a mistake never tried anything new.\\\"\")"
   ]
  },
  {
   "cell_type": "code",
   "execution_count": 10,
   "id": "552210d3-489b-42db-ba1d-4d62941dd549",
   "metadata": {},
   "outputs": [
    {
     "name": "stdout",
     "output_type": "stream",
     "text": [
      "Albert Einstein once said, \"A person who never made a mistake never tried anything new.\"\n"
     ]
    }
   ],
   "source": [
    "#2.6\n",
    "famous_person = 'Albert Einstein'\n",
    "message = f\"{famous_person} once said, \\\"A person who never made a mistake never tried anything new.\\\"\"\n",
    "print(message)"
   ]
  },
  {
   "cell_type": "code",
   "execution_count": 17,
   "id": "124a595f-8c8c-4a13-b960-65d19675ddcc",
   "metadata": {},
   "outputs": [
    {
     "name": "stdout",
     "output_type": "stream",
     "text": [
      "\tEric Smith\n",
      "   \n",
      "Eric Smith\n",
      "   \n",
      "\tEric Smith\n",
      "Eric Smith\n"
     ]
    }
   ],
   "source": [
    "#2.7\n",
    "name = '\\tEric Smith\\n   '\n",
    "print(name)\n",
    "print(name.lstrip())\n",
    "print(name.rstrip())\n",
    "print(name.strip())"
   ]
  },
  {
   "cell_type": "code",
   "execution_count": 18,
   "id": "874d60d6-d7da-460e-b523-4819949efc9b",
   "metadata": {},
   "outputs": [
    {
     "name": "stdout",
     "output_type": "stream",
     "text": [
      "python_notes\n"
     ]
    }
   ],
   "source": [
    "#2.8\n",
    "filename = 'python_notes.txt'\n",
    "print(filename.removesuffix('.txt'))"
   ]
  },
  {
   "cell_type": "markdown",
   "id": "898218cf-5afa-4c9b-9444-fbf169c76533",
   "metadata": {},
   "source": [
    "2.4 数"
   ]
  },
  {
   "cell_type": "code",
   "execution_count": 18,
   "id": "28dc5204-20df-4b66-adec-a9629a67f5d5",
   "metadata": {},
   "outputs": [
    {
     "name": "stdout",
     "output_type": "stream",
     "text": [
      "5\n",
      "1\n",
      "6\n",
      "1.5\n"
     ]
    }
   ],
   "source": [
    "print(2+3)\n",
    "print(3-2)\n",
    "print(2*3)\n",
    "print(3/2)"
   ]
  },
  {
   "cell_type": "code",
   "execution_count": 19,
   "id": "750d4bdc-9ac3-4f5c-a51d-a0b151a0d11d",
   "metadata": {},
   "outputs": [
    {
     "name": "stdout",
     "output_type": "stream",
     "text": [
      "9\n",
      "27\n",
      "1000000\n"
     ]
    }
   ],
   "source": [
    "print(3**2)\n",
    "print(3**3)\n",
    "print(10**6)"
   ]
  },
  {
   "cell_type": "code",
   "execution_count": 20,
   "id": "7c1567cb-02d7-45d8-bb69-d0f1c3e7591f",
   "metadata": {},
   "outputs": [
    {
     "name": "stdout",
     "output_type": "stream",
     "text": [
      "14\n",
      "20\n"
     ]
    }
   ],
   "source": [
    "print(2+3*4)\n",
    "print((2+3)*4)"
   ]
  },
  {
   "cell_type": "code",
   "execution_count": 21,
   "id": "a8167f68-935f-415d-ba1a-7fa895007ccb",
   "metadata": {},
   "outputs": [
    {
     "name": "stdout",
     "output_type": "stream",
     "text": [
      "0.2\n",
      "0.4\n",
      "0.2\n",
      "0.4\n"
     ]
    }
   ],
   "source": [
    "print(0.1+0.1)\n",
    "print(0.2+0.2)\n",
    "print(2*0.1)\n",
    "print(2*0.2)"
   ]
  },
  {
   "cell_type": "code",
   "execution_count": 22,
   "id": "264bf910-beae-4dff-87fd-6e5adb3f4162",
   "metadata": {},
   "outputs": [
    {
     "name": "stdout",
     "output_type": "stream",
     "text": [
      "0.30000000000000004\n",
      "0.30000000000000004\n"
     ]
    }
   ],
   "source": [
    "print(0.2+0.1)\n",
    "print(3*0.1)"
   ]
  },
  {
   "cell_type": "code",
   "execution_count": 23,
   "id": "09246a9c-bb2c-440a-843a-d1c1d15cacb1",
   "metadata": {},
   "outputs": [
    {
     "name": "stdout",
     "output_type": "stream",
     "text": [
      "2.0\n"
     ]
    }
   ],
   "source": [
    "print(4/2)"
   ]
  },
  {
   "cell_type": "code",
   "execution_count": 24,
   "id": "8d082395-c314-488f-b5dd-7af17f2f2db6",
   "metadata": {},
   "outputs": [
    {
     "name": "stdout",
     "output_type": "stream",
     "text": [
      "3.0\n",
      "5.0\n",
      "9.0\n"
     ]
    }
   ],
   "source": [
    "print(1+2.0)\n",
    "print(2+3.0)\n",
    "print(3.0**2)"
   ]
  },
  {
   "cell_type": "code",
   "execution_count": 25,
   "id": "ded50684-8e05-47a4-889e-e2ebe09f389d",
   "metadata": {},
   "outputs": [
    {
     "name": "stdout",
     "output_type": "stream",
     "text": [
      "14000000000\n"
     ]
    }
   ],
   "source": [
    "universe_age=14_000_000_000\n",
    "print(universe_age)"
   ]
  },
  {
   "cell_type": "code",
   "execution_count": 26,
   "id": "53cae00c-d9a0-4b47-8abd-8cdfb743b802",
   "metadata": {},
   "outputs": [
    {
     "name": "stdout",
     "output_type": "stream",
     "text": [
      "0\n"
     ]
    }
   ],
   "source": [
    "x,y,z=0,0,0\n",
    "print(x+y+z)"
   ]
  },
  {
   "cell_type": "code",
   "execution_count": 27,
   "id": "d6e4d2e7-3daf-4d3e-b5c9-2fe8bb268219",
   "metadata": {},
   "outputs": [
    {
     "name": "stdout",
     "output_type": "stream",
     "text": [
      "5000\n"
     ]
    }
   ],
   "source": [
    "MAX_CONNECTIONS=5000\n",
    "print(MAX_CONNECTIONS)"
   ]
  },
  {
   "cell_type": "code",
   "execution_count": null,
   "id": "5b0444ec-d2f1-4ccc-b326-c3753e8fb2c0",
   "metadata": {},
   "outputs": [],
   "source": [
    "练习"
   ]
  },
  {
   "cell_type": "code",
   "execution_count": 19,
   "id": "8a0a398c-2058-47b6-9e3a-55cdfb673e9d",
   "metadata": {},
   "outputs": [
    {
     "name": "stdout",
     "output_type": "stream",
     "text": [
      "8\n",
      "8\n",
      "8\n",
      "8.0\n"
     ]
    }
   ],
   "source": [
    "#2.9\n",
    "print(5+3)\n",
    "print(10-2)\n",
    "print(2*4)\n",
    "print(24/3)"
   ]
  },
  {
   "cell_type": "code",
   "execution_count": 20,
   "id": "93bcaa33-b8fb-4b14-a203-d244ea7e238d",
   "metadata": {},
   "outputs": [
    {
     "name": "stdout",
     "output_type": "stream",
     "text": [
      "My favorite number is 8888.\n"
     ]
    }
   ],
   "source": [
    "#2.10\n",
    "number = 8888\n",
    "message = f\"My favorite number is {number}.\"\n",
    "print(message)"
   ]
  },
  {
   "cell_type": "markdown",
   "id": "63c0d32e-97c5-40d6-9eca-586f77c93659",
   "metadata": {},
   "source": [
    "2.5 注释"
   ]
  },
  {
   "cell_type": "code",
   "execution_count": 28,
   "id": "b6d50105-2c7d-4099-9fce-4ead14adf9f0",
   "metadata": {},
   "outputs": [
    {
     "name": "stdout",
     "output_type": "stream",
     "text": [
      "Hello Python world!\n"
     ]
    }
   ],
   "source": [
    "#向大家问好\n",
    "print(\"Hello Python world!\")"
   ]
  },
  {
   "cell_type": "code",
   "execution_count": null,
   "id": "848d880c-dcad-4f04-961d-97a520704120",
   "metadata": {},
   "outputs": [],
   "source": [
    "练习"
   ]
  },
  {
   "cell_type": "code",
   "execution_count": 22,
   "id": "85c9898a-5447-47c4-9371-8b7a3ff74eaa",
   "metadata": {},
   "outputs": [
    {
     "name": "stdout",
     "output_type": "stream",
     "text": [
      "Welcome!\n",
      "Goodbye!\n"
     ]
    }
   ],
   "source": [
    "#2.11\n",
    "#GOOKERY 4.12 表示欢迎\n",
    "print(\"Welcome!\")\n",
    "#GOOKERY 4.12 表示再见\n",
    "print(\"Goodbye!\")"
   ]
  },
  {
   "cell_type": "markdown",
   "id": "018060c6-185c-4882-8881-1468ad1b5f80",
   "metadata": {},
   "source": [
    "2.6 Python之禅"
   ]
  },
  {
   "cell_type": "code",
   "execution_count": 29,
   "id": "453016ad-7d3b-4e30-831c-750c32aeb5d8",
   "metadata": {},
   "outputs": [
    {
     "name": "stdout",
     "output_type": "stream",
     "text": [
      "The Zen of Python, by Tim Peters\n",
      "\n",
      "Beautiful is better than ugly.\n",
      "Explicit is better than implicit.\n",
      "Simple is better than complex.\n",
      "Complex is better than complicated.\n",
      "Flat is better than nested.\n",
      "Sparse is better than dense.\n",
      "Readability counts.\n",
      "Special cases aren't special enough to break the rules.\n",
      "Although practicality beats purity.\n",
      "Errors should never pass silently.\n",
      "Unless explicitly silenced.\n",
      "In the face of ambiguity, refuse the temptation to guess.\n",
      "There should be one-- and preferably only one --obvious way to do it.\n",
      "Although that way may not be obvious at first unless you're Dutch.\n",
      "Now is better than never.\n",
      "Although never is often better than *right* now.\n",
      "If the implementation is hard to explain, it's a bad idea.\n",
      "If the implementation is easy to explain, it may be a good idea.\n",
      "Namespaces are one honking great idea -- let's do more of those!\n"
     ]
    }
   ],
   "source": [
    "import this"
   ]
  }
 ],
 "metadata": {
  "kernelspec": {
   "display_name": "Python 3 (ipykernel)",
   "language": "python",
   "name": "python3"
  },
  "language_info": {
   "codemirror_mode": {
    "name": "ipython",
    "version": 3
   },
   "file_extension": ".py",
   "mimetype": "text/x-python",
   "name": "python",
   "nbconvert_exporter": "python",
   "pygments_lexer": "ipython3",
   "version": "3.11.7"
  }
 },
 "nbformat": 4,
 "nbformat_minor": 5
}
