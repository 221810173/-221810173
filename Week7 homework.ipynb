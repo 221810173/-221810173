{
 "cells": [
  {
   "cell_type": "markdown",
   "id": "227b23b9-2000-4441-a16c-afb580d5ace3",
   "metadata": {},
   "source": [
    "第7章 用户输入和 while 循环"
   ]
  },
  {
   "cell_type": "markdown",
   "id": "e7338938-bbda-4e33-8111-ceed869013c1",
   "metadata": {},
   "source": [
    "7.1 input()函数的工作原理"
   ]
  },
  {
   "cell_type": "code",
   "execution_count": 1,
   "id": "f59b165d-6039-4502-9a82-ce152373352b",
   "metadata": {},
   "outputs": [
    {
     "name": "stdin",
     "output_type": "stream",
     "text": [
      "Tell me something, and I will repeat it back to you:  Hello everyone!\n"
     ]
    },
    {
     "name": "stdout",
     "output_type": "stream",
     "text": [
      "Hello everyone!\n"
     ]
    }
   ],
   "source": [
    "message = input(\"Tell me something, and I will repeat it back to you: \")\n",
    "print(message)"
   ]
  },
  {
   "cell_type": "code",
   "execution_count": 6,
   "id": "3eefa90f-1c1b-4324-a53f-0f52c9dd4685",
   "metadata": {},
   "outputs": [
    {
     "name": "stdin",
     "output_type": "stream",
     "text": [
      "Please enter your name:  Eric\n"
     ]
    },
    {
     "name": "stdout",
     "output_type": "stream",
     "text": [
      "\n",
      "Hello, Eric!\n"
     ]
    }
   ],
   "source": [
    "name = input(\"Please enter your name: \")\n",
    "#冒号后空一格使输入清晰\n",
    "print(f\"\\nHello, {name}!\")"
   ]
  },
  {
   "cell_type": "code",
   "execution_count": 3,
   "id": "1f416a96-ca7e-4ebd-94ae-4406b41cb869",
   "metadata": {},
   "outputs": [
    {
     "name": "stdin",
     "output_type": "stream",
     "text": [
      "If you share your name, we can personalize the messages you see.\n",
      "What is your first name?  Eric\n"
     ]
    },
    {
     "name": "stdout",
     "output_type": "stream",
     "text": [
      "\n",
      "Hello, Eric!\n"
     ]
    }
   ],
   "source": [
    "prompt = \"If you share your name, we can personalize the messages you see.\"\n",
    "prompt += \"\\nWhat is your first name? \"\n",
    "\n",
    "name = input(prompt)\n",
    "print(f\"\\nHello, {name}!\")"
   ]
  },
  {
   "cell_type": "code",
   "execution_count": 5,
   "id": "9985a702-4f56-4d42-b382-5b7024bcc30a",
   "metadata": {},
   "outputs": [
    {
     "name": "stdin",
     "output_type": "stream",
     "text": [
      "How old are you?  21\n"
     ]
    },
    {
     "name": "stdout",
     "output_type": "stream",
     "text": [
      "21\n"
     ]
    }
   ],
   "source": [
    "age = input(\"How old are you? \")\n",
    "print(age)"
   ]
  },
  {
   "cell_type": "code",
   "execution_count": 7,
   "id": "71bcc114-f819-4a71-a87b-e2ecc00fe8fb",
   "metadata": {},
   "outputs": [
    {
     "name": "stdin",
     "output_type": "stream",
     "text": [
      "How old are you?  21\n"
     ]
    },
    {
     "ename": "TypeError",
     "evalue": "'>=' not supported between instances of 'str' and 'int'",
     "output_type": "error",
     "traceback": [
      "\u001b[1;31m---------------------------------------------------------------------------\u001b[0m",
      "\u001b[1;31mTypeError\u001b[0m                                 Traceback (most recent call last)",
      "Cell \u001b[1;32mIn[7], line 3\u001b[0m\n\u001b[0;32m      1\u001b[0m \u001b[38;5;66;03m#用户输入值返回的是字符串，要使用int函数来获取数值输入\u001b[39;00m\n\u001b[0;32m      2\u001b[0m age \u001b[38;5;241m=\u001b[39m \u001b[38;5;28minput\u001b[39m(\u001b[38;5;124m\"\u001b[39m\u001b[38;5;124mHow old are you? \u001b[39m\u001b[38;5;124m\"\u001b[39m)\n\u001b[1;32m----> 3\u001b[0m age \u001b[38;5;241m>\u001b[39m\u001b[38;5;241m=\u001b[39m \u001b[38;5;241m18\u001b[39m\n",
      "\u001b[1;31mTypeError\u001b[0m: '>=' not supported between instances of 'str' and 'int'"
     ]
    }
   ],
   "source": [
    "#用户输入值返回的是字符串，要使用 int函数来获取数值输入\n",
    "age = input(\"How old are you? \")\n",
    "age >= 18\n",
    "#无法比较，报错"
   ]
  },
  {
   "cell_type": "code",
   "execution_count": 9,
   "id": "ebdb0b04-df68-4d65-b046-e07ab47f0297",
   "metadata": {},
   "outputs": [
    {
     "name": "stdin",
     "output_type": "stream",
     "text": [
      "How old are you?  21\n"
     ]
    },
    {
     "data": {
      "text/plain": [
       "True"
      ]
     },
     "execution_count": 9,
     "metadata": {},
     "output_type": "execute_result"
    }
   ],
   "source": [
    "age = input(\"How old are you? \")\n",
    "age = int(age)\n",
    "age >= 18"
   ]
  },
  {
   "cell_type": "code",
   "execution_count": 10,
   "id": "d19a6321-f41a-4575-8680-f25e7bf9263b",
   "metadata": {},
   "outputs": [
    {
     "name": "stdin",
     "output_type": "stream",
     "text": [
      "How tall are you, in inches?  71\n"
     ]
    },
    {
     "name": "stdout",
     "output_type": "stream",
     "text": [
      "\n",
      "You're tall enough to ride!\n"
     ]
    }
   ],
   "source": [
    "height = input(\"How tall are you, in inches? \")\n",
    "height = int(height)\n",
    "\n",
    "if height >=48:\n",
    "    print(\"\\nYou're tall enough to ride!\")\n",
    "else:\n",
    "    print(\"\\nYou'll be able to ride when you're a little older.\")"
   ]
  },
  {
   "cell_type": "code",
   "execution_count": 11,
   "id": "a5270de7-ff0a-415d-aaf0-cbe660f16cbd",
   "metadata": {},
   "outputs": [
    {
     "name": "stdout",
     "output_type": "stream",
     "text": [
      "1\n",
      "2\n",
      "0\n",
      "1\n"
     ]
    }
   ],
   "source": [
    "#求模运算符%，返回余数\n",
    "print(4 % 3)\n",
    "print(5 % 3)\n",
    "print(6 % 3)\n",
    "print(7 % 3)"
   ]
  },
  {
   "cell_type": "code",
   "execution_count": 12,
   "id": "6b7d80dc-6336-4357-84b1-3363f279d205",
   "metadata": {},
   "outputs": [
    {
     "name": "stdin",
     "output_type": "stream",
     "text": [
      "Enter a number, and I'll tell you if it's even or odd:  42\n"
     ]
    },
    {
     "name": "stdout",
     "output_type": "stream",
     "text": [
      "\n",
      "The number 42 is even.\n"
     ]
    }
   ],
   "source": [
    "number = input(\"Enter a number, and I'll tell you if it's even or odd: \")\n",
    "number = int(number)\n",
    "\n",
    "if number % 2 == 0:#注意等于号\n",
    "    print(f\"\\nThe number {number} is even.\")\n",
    "else:\n",
    "    print(f\"\\nThe number {number} is odd.\")"
   ]
  },
  {
   "cell_type": "markdown",
   "id": "5781ec4f-64b0-4b45-bbbf-e1c6d0263ac7",
   "metadata": {},
   "source": [
    "练习"
   ]
  },
  {
   "cell_type": "code",
   "execution_count": 3,
   "id": "0a23dda2-0298-4d15-93d8-43aff5a3ab52",
   "metadata": {},
   "outputs": [
    {
     "name": "stdin",
     "output_type": "stream",
     "text": [
      "Please tell me what kind of car you want to lend:  subaru\n"
     ]
    },
    {
     "name": "stdout",
     "output_type": "stream",
     "text": [
      "Let me see if I can find you a Subaru.\n"
     ]
    }
   ],
   "source": [
    "#7.1\n",
    "car = input(\"Please tell me what kind of car you want to lend: \")\n",
    "print(f\"Let me see if I can find you a {car.title()}.\")"
   ]
  },
  {
   "cell_type": "code",
   "execution_count": 4,
   "id": "2576a996-559a-4a7f-aa51-ec644a7052c6",
   "metadata": {},
   "outputs": [
    {
     "name": "stdin",
     "output_type": "stream",
     "text": [
      "How many people need to have a meal:  9\n"
     ]
    },
    {
     "name": "stdout",
     "output_type": "stream",
     "text": [
      "Sorry, we don't have enough empty sets.\n"
     ]
    }
   ],
   "source": [
    "#7.2\n",
    "people_number = input(\"How many people need to have a meal: \")\n",
    "people_number = int(people_number)\n",
    "if people_number >= 8:\n",
    "    print(\"Sorry, we don't have enough empty sets.\")\n",
    "else:\n",
    "    print(\"OK, we have empty sets to use.\")"
   ]
  },
  {
   "cell_type": "code",
   "execution_count": 9,
   "id": "9d0f65dc-05e8-4f21-a771-8075dd871c41",
   "metadata": {},
   "outputs": [
    {
     "name": "stdin",
     "output_type": "stream",
     "text": [
      "Enter a number, and I'll tell you if it's a multiple of 10:  60\n"
     ]
    },
    {
     "name": "stdout",
     "output_type": "stream",
     "text": [
      "Yes\n"
     ]
    }
   ],
   "source": [
    "#7.3\n",
    "number = input(\"Enter a number, and I'll tell you if it's a multiple of 10: \")\n",
    "number = int(number)\n",
    "if number % 10 == 0:\n",
    "    print(\"Yes\")\n",
    "else:\n",
    "    print(\"No\")"
   ]
  },
  {
   "cell_type": "markdown",
   "id": "d7f7edc0-6ada-4893-9732-b5f8f1c55436",
   "metadata": {},
   "source": [
    "7.2 while 循环"
   ]
  },
  {
   "cell_type": "code",
   "execution_count": 14,
   "id": "30ac4320-7f6b-48d1-8538-b501cc14c538",
   "metadata": {},
   "outputs": [
    {
     "name": "stdout",
     "output_type": "stream",
     "text": [
      "1\n",
      "2\n",
      "3\n",
      "4\n",
      "5\n"
     ]
    }
   ],
   "source": [
    "current_number = 1\n",
    "while current_number <= 5:\n",
    "    print(current_number)\n",
    "    current_number += 1"
   ]
  },
  {
   "cell_type": "code",
   "execution_count": 16,
   "id": "d6a7d532-2ec6-4d8e-840e-c951b8a9e9b6",
   "metadata": {},
   "outputs": [
    {
     "name": "stdin",
     "output_type": "stream",
     "text": [
      "\n",
      "Tell me something, and I will repeat it back to you:\n",
      "Enter 'quit' to end the program.  Hello everyone!\n"
     ]
    },
    {
     "name": "stdout",
     "output_type": "stream",
     "text": [
      "Hello everyone!\n"
     ]
    },
    {
     "name": "stdin",
     "output_type": "stream",
     "text": [
      "\n",
      "Tell me something, and I will repeat it back to you:\n",
      "Enter 'quit' to end the program.  Hello again.\n"
     ]
    },
    {
     "name": "stdout",
     "output_type": "stream",
     "text": [
      "Hello again.\n"
     ]
    },
    {
     "name": "stdin",
     "output_type": "stream",
     "text": [
      "\n",
      "Tell me something, and I will repeat it back to you:\n",
      "Enter 'quit' to end the program.  quit\n"
     ]
    },
    {
     "name": "stdout",
     "output_type": "stream",
     "text": [
      "quit\n"
     ]
    }
   ],
   "source": [
    "prompt = \"\\nTell me something, and I will repeat it back to you:\"\n",
    "prompt += \"\\nEnter 'quit' to end the program. \"\n",
    "\n",
    "message = \"\"#用户开始没有输入内容，空字符串用于首次循环的比较，否则不能运行\n",
    "while message != 'quit':\n",
    "    message = input(prompt)\n",
    "    print(message)"
   ]
  },
  {
   "cell_type": "code",
   "execution_count": 17,
   "id": "a909950e-38a1-4285-8226-db7f62168dd0",
   "metadata": {},
   "outputs": [
    {
     "name": "stdin",
     "output_type": "stream",
     "text": [
      "\n",
      "Tell me something, and I will repeat it back to you:\n",
      "Enter 'quit' to end the program.  Hello everyone!\n"
     ]
    },
    {
     "name": "stdout",
     "output_type": "stream",
     "text": [
      "Hello everyone!\n"
     ]
    },
    {
     "name": "stdin",
     "output_type": "stream",
     "text": [
      "\n",
      "Tell me something, and I will repeat it back to you:\n",
      "Enter 'quit' to end the program.  Hello again.\n"
     ]
    },
    {
     "name": "stdout",
     "output_type": "stream",
     "text": [
      "Hello again.\n"
     ]
    },
    {
     "name": "stdin",
     "output_type": "stream",
     "text": [
      "\n",
      "Tell me something, and I will repeat it back to you:\n",
      "Enter 'quit' to end the program.  quit\n"
     ]
    }
   ],
   "source": [
    "prompt = \"\\nTell me something, and I will repeat it back to you:\"\n",
    "prompt += \"\\nEnter 'quit' to end the program. \"\n",
    "\n",
    "message = \"\"\n",
    "while message != 'quit':\n",
    "    message = input(prompt)\n",
    "    \n",
    "    if message != 'quit':#退出无需打印\n",
    "        print(message)"
   ]
  },
  {
   "cell_type": "code",
   "execution_count": 22,
   "id": "e6b78175-3605-486c-99c2-48d783174c3d",
   "metadata": {},
   "outputs": [
    {
     "name": "stdin",
     "output_type": "stream",
     "text": [
      "\n",
      "Tell me something, and I will repeat it back to you:\n",
      "Enter 'quit' to end the program.  Hello everyone!\n"
     ]
    },
    {
     "name": "stdout",
     "output_type": "stream",
     "text": [
      "Hello everyone!\n"
     ]
    },
    {
     "name": "stdin",
     "output_type": "stream",
     "text": [
      "\n",
      "Tell me something, and I will repeat it back to you:\n",
      "Enter 'quit' to end the program.  quit\n"
     ]
    }
   ],
   "source": [
    "#使用标志\n",
    "prompt = \"\\nTell me something, and I will repeat it back to you:\"\n",
    "prompt += \"\\nEnter 'quit' to end the program. \"\n",
    "\n",
    "active = True\n",
    "while active:\n",
    "    message = input(prompt)\n",
    "    \n",
    "    if message == 'quit':\n",
    "        active = False\n",
    "    else:\n",
    "        print(message)"
   ]
  },
  {
   "cell_type": "code",
   "execution_count": 1,
   "id": "6a7bf0e2-58e8-49b5-afa2-509da3070118",
   "metadata": {},
   "outputs": [
    {
     "name": "stdin",
     "output_type": "stream",
     "text": [
      "\n",
      "Please enter the name of a city you have visited:\n",
      "(Enter 'quit' when you are finished.)  new york\n"
     ]
    },
    {
     "name": "stdout",
     "output_type": "stream",
     "text": [
      "I'd love to go to New York!\n"
     ]
    },
    {
     "name": "stdin",
     "output_type": "stream",
     "text": [
      "\n",
      "Please enter the name of a city you have visited:\n",
      "(Enter 'quit' when you are finished.)  san francisco\n"
     ]
    },
    {
     "name": "stdout",
     "output_type": "stream",
     "text": [
      "I'd love to go to San Francisco!\n"
     ]
    },
    {
     "name": "stdin",
     "output_type": "stream",
     "text": [
      "\n",
      "Please enter the name of a city you have visited:\n",
      "(Enter 'quit' when you are finished.)  quit\n"
     ]
    }
   ],
   "source": [
    "#break立即退出\n",
    "prompt = \"\\nPlease enter the name of a city you have visited:\"\n",
    "prompt += \"\\n(Enter 'quit' when you are finished.) \"\n",
    "\n",
    "while True:\n",
    "    city = input(prompt)\n",
    "\n",
    "    if city == 'quit':\n",
    "        break\n",
    "    else:\n",
    "        print(f\"I'd love to go to {city.title()}!\")"
   ]
  },
  {
   "cell_type": "code",
   "execution_count": 2,
   "id": "c47ac190-c1aa-4b60-8b86-20b1bfec3fa2",
   "metadata": {},
   "outputs": [
    {
     "name": "stdout",
     "output_type": "stream",
     "text": [
      "1\n",
      "3\n",
      "5\n",
      "7\n",
      "9\n"
     ]
    }
   ],
   "source": [
    "#continue函数回到循环\n",
    "current_number = 0\n",
    "while current_number < 10:\n",
    "    current_number += 1\n",
    "    if current_number % 2 == 0:\n",
    "        continue\n",
    "\n",
    "    print(current_number)"
   ]
  },
  {
   "cell_type": "code",
   "execution_count": 3,
   "id": "de3b26e6-907e-4446-acb9-0e6a0e171366",
   "metadata": {},
   "outputs": [
    {
     "name": "stdout",
     "output_type": "stream",
     "text": [
      "1\n",
      "2\n",
      "3\n",
      "4\n",
      "5\n"
     ]
    }
   ],
   "source": [
    "x = 1\n",
    "while x <= 5:\n",
    "    print(x)\n",
    "    x += 1"
   ]
  },
  {
   "cell_type": "code",
   "execution_count": null,
   "id": "7ff090d3-4af8-465b-9aea-2912ac6154f1",
   "metadata": {},
   "outputs": [],
   "source": [
    "#无限循环用Ctrl+C暂停\n",
    "x = 1\n",
    "while x <= 5:\n",
    "    print(x)\n",
    "    x += 1"
   ]
  },
  {
   "cell_type": "markdown",
   "id": "cdabbfd4-28e2-4fa1-b0e0-4b06be77161b",
   "metadata": {},
   "source": [
    "练习"
   ]
  },
  {
   "cell_type": "code",
   "execution_count": 3,
   "id": "e9c618cf-34b2-42f5-a2ce-0dde2e6ced13",
   "metadata": {},
   "outputs": [
    {
     "name": "stdin",
     "output_type": "stream",
     "text": [
      "\n",
      "请输入您需要的披萨配料: \n",
      "输入'quit'停止 菠萝\n"
     ]
    },
    {
     "name": "stdout",
     "output_type": "stream",
     "text": [
      "您添加了菠萝\n"
     ]
    },
    {
     "name": "stdin",
     "output_type": "stream",
     "text": [
      "\n",
      "请输入您需要的披萨配料: \n",
      "输入'quit'停止 香蕉\n"
     ]
    },
    {
     "name": "stdout",
     "output_type": "stream",
     "text": [
      "您添加了香蕉\n"
     ]
    },
    {
     "name": "stdin",
     "output_type": "stream",
     "text": [
      "\n",
      "请输入您需要的披萨配料: \n",
      "输入'quit'停止 quit\n"
     ]
    }
   ],
   "source": [
    "#7.4/7.6\n",
    "配料 = \"\\n请输入您需要的披萨配料: \"\n",
    "配料 += \"\\n输入'quit'停止\"\n",
    "信息 = \"\"\n",
    "while 信息 != 'quit':\n",
    "    信息 = input(配料)\n",
    "    if 信息 != 'quit':\n",
    "        print(f\"您添加了{信息}\")"
   ]
  },
  {
   "cell_type": "code",
   "execution_count": 5,
   "id": "35180172-dfd4-4d03-a971-609b22986f12",
   "metadata": {},
   "outputs": [
    {
     "name": "stdin",
     "output_type": "stream",
     "text": [
      "\n",
      "请输入您需要的披萨配料: \n",
      "输入'quit'停止 菠萝\n"
     ]
    },
    {
     "name": "stdout",
     "output_type": "stream",
     "text": [
      "您添加了菠萝\n"
     ]
    },
    {
     "name": "stdin",
     "output_type": "stream",
     "text": [
      "\n",
      "请输入您需要的披萨配料: \n",
      "输入'quit'停止 香蕉\n"
     ]
    },
    {
     "name": "stdout",
     "output_type": "stream",
     "text": [
      "您添加了香蕉\n"
     ]
    },
    {
     "name": "stdin",
     "output_type": "stream",
     "text": [
      "\n",
      "请输入您需要的披萨配料: \n",
      "输入'quit'停止 quit\n"
     ]
    }
   ],
   "source": [
    "#7.4/7.6\n",
    "配料 = \"\\n请输入您需要的披萨配料: \"\n",
    "配料 += \"\\n输入'quit'停止\"\n",
    "active = True\n",
    "while active:\n",
    "    信息 = input(配料)\n",
    "    if 信息 == 'quit':\n",
    "        active = False\n",
    "    else:\n",
    "        print(f\"您添加了{信息}\")"
   ]
  },
  {
   "cell_type": "code",
   "execution_count": 3,
   "id": "12f338d4-33ec-47f4-8413-7bd841bfc243",
   "metadata": {},
   "outputs": [
    {
     "name": "stdin",
     "output_type": "stream",
     "text": [
      "\n",
      "请输入您需要的披萨配料: \n",
      "输入'quit'停止 菠萝\n"
     ]
    },
    {
     "name": "stdout",
     "output_type": "stream",
     "text": [
      "您添加了菠萝\n"
     ]
    },
    {
     "name": "stdin",
     "output_type": "stream",
     "text": [
      "\n",
      "请输入您需要的披萨配料: \n",
      "输入'quit'停止 quit\n"
     ]
    }
   ],
   "source": [
    "#7.4/7.6\n",
    "配料 = \"\\n请输入您需要的披萨配料: \"\n",
    "配料 += \"\\n输入'quit'停止\"\n",
    "while True:\n",
    "    信息 = input(配料)\n",
    "    if 信息 == 'quit':\n",
    "        break\n",
    "    else:\n",
    "        print(f\"您添加了{信息}\")"
   ]
  },
  {
   "cell_type": "code",
   "execution_count": 6,
   "id": "7a2570b5-4a0e-4ab9-9dbd-76c3336bb3e5",
   "metadata": {},
   "outputs": [
    {
     "name": "stdin",
     "output_type": "stream",
     "text": [
      "How old are you? \n",
      "enter 'quit' to stop. 2\n"
     ]
    },
    {
     "name": "stdout",
     "output_type": "stream",
     "text": [
      "Free!\n"
     ]
    },
    {
     "name": "stdin",
     "output_type": "stream",
     "text": [
      "How old are you? \n",
      "enter 'quit' to stop. 7\n"
     ]
    },
    {
     "name": "stdout",
     "output_type": "stream",
     "text": [
      "$10\n"
     ]
    },
    {
     "name": "stdin",
     "output_type": "stream",
     "text": [
      "How old are you? \n",
      "enter 'quit' to stop. 55\n"
     ]
    },
    {
     "name": "stdout",
     "output_type": "stream",
     "text": [
      "$15\n"
     ]
    },
    {
     "name": "stdin",
     "output_type": "stream",
     "text": [
      "How old are you? \n",
      "enter 'quit' to stop. quit\n"
     ]
    }
   ],
   "source": [
    "#7.5\n",
    "message = \"How old are you? \"\n",
    "message += \"\\nenter 'quit' to stop.\"\n",
    "while True:\n",
    "    age = input(message)\n",
    "    if age == 'quit':\n",
    "        break\n",
    "    else:\n",
    "        age = int(age)\n",
    "        if age < 3:\n",
    "            print(\"Free!\")\n",
    "        elif age < 12:\n",
    "            print(\"$10\")\n",
    "        else:\n",
    "            print(\"$15\")"
   ]
  },
  {
   "cell_type": "code",
   "execution_count": null,
   "id": "cba35103-8949-4770-b5ec-2df73259975d",
   "metadata": {},
   "outputs": [],
   "source": [
    "#7.7\n",
    "x = 10\n",
    "while x % 10 == 0:\n",
    "    print(\"yes\")"
   ]
  },
  {
   "cell_type": "markdown",
   "id": "24c1da27-ad63-487a-a0bd-a3072c196b50",
   "metadata": {},
   "source": [
    "7.3 使用while循环处理列表和字典"
   ]
  },
  {
   "cell_type": "code",
   "execution_count": 3,
   "id": "257b8108-6643-406f-8174-95bf813be382",
   "metadata": {},
   "outputs": [
    {
     "name": "stdout",
     "output_type": "stream",
     "text": [
      "Verifying user: Candace\n",
      "Verifying user: Brian\n",
      "Verifying user: Alice\n",
      "\n",
      "The following users have been confirmed:\n",
      "Candace\n",
      "Brian\n",
      "Alice\n"
     ]
    }
   ],
   "source": [
    "#列表之间移动\n",
    "unconfirmed_users = ['alice','brian','candace']\n",
    "confirmed_users = []\n",
    "\n",
    "while unconfirmed_users:\n",
    "    current_user = unconfirmed_users.pop()\n",
    "\n",
    "    print(f\"Verifying user: {current_user.title()}\")\n",
    "    confirmed_users.append(current_user)\n",
    "\n",
    "print(\"\\nThe following users have been confirmed:\")\n",
    "for confirmed_user in confirmed_users:\n",
    "    print(confirmed_user.title())"
   ]
  },
  {
   "cell_type": "code",
   "execution_count": 5,
   "id": "b11e6965-e27b-445d-a03e-1141ae2e6538",
   "metadata": {},
   "outputs": [
    {
     "name": "stdout",
     "output_type": "stream",
     "text": [
      "['dog', 'cat', 'dog', 'goldfish', 'cat', 'rabbit', 'cat']\n",
      "['dog', 'dog', 'goldfish', 'rabbit']\n"
     ]
    }
   ],
   "source": [
    "#删除列表特定元素\n",
    "pets = ['dog','cat','dog','goldfish','cat','rabbit','cat']\n",
    "print(pets)\n",
    "\n",
    "while 'cat' in pets:\n",
    "    pets.remove('cat')\n",
    "\n",
    "print(pets)"
   ]
  },
  {
   "cell_type": "code",
   "execution_count": 6,
   "id": "7bc7bd6a-87cf-4895-90c2-1f012cc8a443",
   "metadata": {},
   "outputs": [
    {
     "name": "stdin",
     "output_type": "stream",
     "text": [
      "\n",
      "What is your name?  Eric\n",
      "Which mountain would you like to climb someday?  Denali\n",
      "Would you like to let another person respond?(yes/no)  yes\n",
      "\n",
      "What is your name?  Lynn\n",
      "Which mountain would you like to climb someday?  Devil's Thumb\n",
      "Would you like to let another person respond?(yes/no)  no\n"
     ]
    },
    {
     "name": "stdout",
     "output_type": "stream",
     "text": [
      "\n",
      "---Poll Results ---\n",
      "Eric would like to climb Denali.\n",
      "Lynn would like to climb Devil's Thumb.\n"
     ]
    }
   ],
   "source": [
    "#用户输入填充字典\n",
    "responses = {}\n",
    "polling_active = True\n",
    "\n",
    "while polling_active:\n",
    "    name = input(\"\\nWhat is your name? \")\n",
    "    response = input(\"Which mountain would you like to climb someday? \")\n",
    "\n",
    "    responses[name] = response\n",
    "\n",
    "    repeat = input(\"Would you like to let another person respond?(yes/no) \")\n",
    "    if repeat == 'no':\n",
    "        polling_active = False\n",
    "\n",
    "print(\"\\n---Poll Results ---\")\n",
    "for name, response in responses.items():\n",
    "    print(f\"{name} would like to climb {response}.\")"
   ]
  },
  {
   "cell_type": "markdown",
   "id": "af612368-d8fa-4726-8577-7e14d8e4f845",
   "metadata": {},
   "source": [
    "练习"
   ]
  },
  {
   "cell_type": "code",
   "execution_count": 4,
   "id": "1d0c223a-0782-43fb-adaa-2340faa6faa1",
   "metadata": {},
   "outputs": [
    {
     "name": "stdout",
     "output_type": "stream",
     "text": [
      "I made your ice cream sandwich.\n",
      "I made your banana sandwich.\n",
      "I made your tuna sandwich.\n",
      "\n",
      "I have been made: \n",
      "ice cream sandwich\n",
      "banana sandwich\n",
      "tuna sandwich\n"
     ]
    }
   ],
   "source": [
    "#7.8\n",
    "sandwich_orders = ['tuna','banana','ice cream']\n",
    "finished_orders = []\n",
    "while sandwich_orders:\n",
    "    making = sandwich_orders.pop()\n",
    "    print(f\"I made your {making} sandwich.\")\n",
    "    finished_orders.append(making)\n",
    "print(\"\\nI have been made: \")\n",
    "for finished_order in finished_orders:\n",
    "    print(f\"{finished_order} sandwich\")"
   ]
  },
  {
   "cell_type": "code",
   "execution_count": 5,
   "id": "21854c14-f704-428b-b06c-dfa1c18c6b81",
   "metadata": {},
   "outputs": [
    {
     "name": "stdout",
     "output_type": "stream",
     "text": [
      "Pastramin sandwich sold out!\n",
      "['tuna', 'banana', 'ice cream']\n"
     ]
    }
   ],
   "source": [
    "#7.9\n",
    "sandwich_orders = ['tuna','pastrami','banana','pastrami','ice cream','pastrami']\n",
    "print(\"Pastramin sandwich sold out!\")\n",
    "while 'pastrami' in sandwich_orders:\n",
    "    sandwich_orders.remove('pastrami')\n",
    "print(sandwich_orders)"
   ]
  },
  {
   "cell_type": "code",
   "execution_count": 1,
   "id": "eab42d55-6cad-4998-b859-d4865d61adc6",
   "metadata": {},
   "outputs": [
    {
     "name": "stdin",
     "output_type": "stream",
     "text": [
      "What's your name?  eric\n",
      "Where is your favorite resort?  qingdao\n",
      "Are there other person want to take the poll?  yes\n",
      "What's your name?  amy\n",
      "Where is your favorite resort?  dali\n",
      "Are there other person want to take the poll?  yes\n",
      "What's your name?  bob\n",
      "Where is your favorite resort?  sanya\n",
      "Are there other person want to take the poll?  no\n"
     ]
    },
    {
     "name": "stdout",
     "output_type": "stream",
     "text": [
      "\n",
      "---Poll Results---\n",
      "Eric's favorite resort is qingdao.\n",
      "Amy's favorite resort is dali.\n",
      "Bob's favorite resort is sanya.\n"
     ]
    }
   ],
   "source": [
    "#7.10\n",
    "resorts = {}\n",
    "while True:\n",
    "    name = input(\"What's your name? \")\n",
    "    like_resort = input(\"Where is your favorite resort? \")\n",
    "    resorts[name] = like_resort\n",
    "    repeat = input(\"Are there other person want to take the poll? \")\n",
    "    if repeat == 'no':\n",
    "        break\n",
    "\n",
    "print(\"\\n---Poll Results---\")\n",
    "for name, like_resort in resorts.items():\n",
    "    print(f\"{name.title()}'s favorite resort is {like_resort}.\")"
   ]
  }
 ],
 "metadata": {
  "kernelspec": {
   "display_name": "Python 3 (ipykernel)",
   "language": "python",
   "name": "python3"
  },
  "language_info": {
   "codemirror_mode": {
    "name": "ipython",
    "version": 3
   },
   "file_extension": ".py",
   "mimetype": "text/x-python",
   "name": "python",
   "nbconvert_exporter": "python",
   "pygments_lexer": "ipython3",
   "version": "3.11.7"
  }
 },
 "nbformat": 4,
 "nbformat_minor": 5
}
